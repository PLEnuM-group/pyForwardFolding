{
 "cells": [
  {
   "cell_type": "code",
   "execution_count": 1,
   "metadata": {},
   "outputs": [],
   "source": [
    "import pyForwardFolding as pyFF\n",
    "import pandas as pd\n",
    "import yaml\n",
    "import jax.numpy as jnp\n",
    "import matplotlib.pyplot as plt\n",
    "import numpy as np\n",
    "import jax\n",
    "import scipy"
   ]
  },
  {
   "cell_type": "code",
   "execution_count": 2,
   "metadata": {},
   "outputs": [],
   "source": [
    "data = pd.read_parquet(\"../../NNMFit_testdata/src/NNMFit_testdata/data/datasets/Toise_ToyTracks/dataframe.parquet\")\n",
    "\n",
    "\n"
   ]
  },
  {
   "cell_type": "code",
   "execution_count": 3,
   "metadata": {},
   "outputs": [
    {
     "name": "stderr",
     "output_type": "stream",
     "text": [
      "WARNING:2025-04-15 10:03:10,179:jax._src.xla_bridge:967: An NVIDIA GPU may be present on this machine, but a CUDA-enabled jaxlib is not installed. Falling back to cpu.\n"
     ]
    }
   ],
   "source": [
    "ana = pyFF.config.analysis_from_config(\"test.yaml\")\n",
    "lik = pyFF.likelihood.PoissonLikelihood(ana)"
   ]
  },
  {
   "cell_type": "code",
   "execution_count": 4,
   "metadata": {},
   "outputs": [],
   "source": [
    "model = ana.expectations[\"det1\"].model\n",
    "be = ana.expectations[\"det1\"]"
   ]
  },
  {
   "cell_type": "code",
   "execution_count": 5,
   "metadata": {},
   "outputs": [],
   "source": [
    "model_parameters = {\n",
    "    \"astro_norm\": 1.0,\n",
    "    \"astro_index\": 2.37,\n",
    "    \"atmo_norm\": 1.0,\n",
    "    \"escale\": 1.0,\n",
    "    \"esmear\": 1.0,\n",
    "    \"delta_gamma\": 0.0\n",
    "}"
   ]
  },
  {
   "cell_type": "code",
   "execution_count": 6,
   "metadata": {},
   "outputs": [],
   "source": [
    "input_variables = {\n",
    "    \"true_energy\": jnp.asarray(data.true_e),\n",
    "    \"log10_reco_energy\": jnp.log10(jnp.asarray(data.reco_e)),\n",
    "    \"cos_reco_zenith\": jnp.cos(jnp.asarray(data.reco_zenith)),\n",
    "    \"baseline_weight\": jnp.asarray(data.fluxless_weight),\n",
    "    \"conv_weight\": jnp.asarray(data.weight_honda2006),\n",
    "    \"e_scaling\": jnp.asarray(data.e_scaling),\n",
    "    \"e_smearing\": jnp.asarray(data.e_smearing),\n",
    "    \"summary_stat\": jnp.log10(jnp.asarray(data.reco_e))\n",
    "}"
   ]
  },
  {
   "cell_type": "code",
   "execution_count": 7,
   "metadata": {},
   "outputs": [
    {
     "data": {
      "text/plain": [
       "{'powerlaw': {'flux_norm': 'astro_norm', 'spectral_index': 'astro_index'},\n",
       " 'snowstorm_escale': {'scale': 'escale'},\n",
       " 'snowstorm_esmear': {'scale': 'esmear'},\n",
       " 'atmo_norm': {'flux_norm': 'atmo_norm'},\n",
       " 'delta_gamma': {'delta_gamma': 'delta_gamma'}}"
      ]
     },
     "execution_count": 7,
     "metadata": {},
     "output_type": "execute_result"
    }
   ],
   "source": [
    "ana.exposed_parameters()"
   ]
  },
  {
   "cell_type": "code",
   "execution_count": 8,
   "metadata": {},
   "outputs": [
    {
     "data": {
      "text/plain": [
       "{'cos_reco_zenith',\n",
       " 'e_scaling',\n",
       " 'e_smearing',\n",
       " 'log10_reco_energy',\n",
       " 'true_energy'}"
      ]
     },
     "execution_count": 8,
     "metadata": {},
     "output_type": "execute_result"
    }
   ],
   "source": [
    "ana.required_variables()"
   ]
  },
  {
   "cell_type": "code",
   "execution_count": 9,
   "metadata": {},
   "outputs": [
    {
     "data": {
      "text/plain": [
       "[('atmo_norm', []),\n",
       " ('delta_gamma', ['true_energy']),\n",
       " ('snowstorm_escale', ['e_scaling']),\n",
       " ('snowstorm_esmear', ['e_smearing'])]"
      ]
     },
     "execution_count": 9,
     "metadata": {},
     "output_type": "execute_result"
    }
   ],
   "source": [
    "[(f.name, f.required_variables) for f in ana.expectations[\"det1\"].model.components[1].factors]"
   ]
  },
  {
   "cell_type": "code",
   "execution_count": 12,
   "metadata": {},
   "outputs": [
    {
     "data": {
      "text/plain": [
       "[<matplotlib.lines.Line2D at 0x7f7b1f1d1f10>]"
      ]
     },
     "execution_count": 12,
     "metadata": {},
     "output_type": "execute_result"
    },
    {
     "data": {
      "image/png": "[encoded data removed]",
      "text/plain": [
       "<Figure size 640x480 with 1 Axes>"
      ]
     },
     "metadata": {},
     "output_type": "display_data"
    }
   ],
   "source": [
    "dataset = {\"det1\": input_variables}\n",
    "pred = ana.evaluate(dataset, model_parameters)[0]\n",
    "hsum = pred[\"det1\"].sum(axis=1)\n",
    "plt.step(be.binning.bin_edges[0], jnp.append(hsum, hsum[-1]))\n"
   ]
  },
  {
   "cell_type": "code",
   "execution_count": 13,
   "metadata": {},
   "outputs": [],
   "source": [
    "hist, hist_ssq = ana.evaluate(dataset, model_parameters)\n",
    "key = jax.random.PRNGKey(0)\n",
    "obs = {}\n",
    "for k, v in hist.items():\n",
    "    key, subkey = jax.random.split(key)\n",
    "    obs[k] = jax.random.poisson(subkey, v)\n",
    "obs = hist # asimov"
   ]
  },
  {
   "cell_type": "code",
   "execution_count": 14,
   "metadata": {},
   "outputs": [],
   "source": [
    "lh = lik.llh(obs, dataset, model_parameters)\n",
    "lh_jit = jax.jit(lik.llh)\n"
   ]
  },
  {
   "cell_type": "code",
   "execution_count": 15,
   "metadata": {},
   "outputs": [],
   "source": [
    "def eval_for_par(par_val, par_dict):\n",
    "    par_dict[\"escale\"]= par_val\n",
    "    lh = lik.llh(obs, dataset, par_dict)\n",
    "    return lh\n",
    "\n",
    "val_grad = jax.jit(jax.value_and_grad(eval_for_par, 0) )\n"
   ]
  },
  {
   "cell_type": "code",
   "execution_count": null,
   "metadata": {},
   "outputs": [],
   "source": []
  },
  {
   "cell_type": "code",
   "execution_count": 16,
   "metadata": {},
   "outputs": [
    {
     "data": {
      "image/png": "[encoded data removed]",
      "text/plain": [
       "<Figure size 800x600 with 2 Axes>"
      ]
     },
     "metadata": {},
     "output_type": "display_data"
    }
   ],
   "source": [
    "scan_vals = jnp.linspace(0.9, 1.1, 50)\n",
    "lhs, grads = jax.vmap(val_grad, in_axes=(0, None))(scan_vals, model_parameters)\n",
    "fig, (ax1, ax2) = plt.subplots(1, 2, figsize=(8, 6), sharex=True)\n",
    "ax1.plot(scan_vals, lhs)\n",
    "ax1.set_ylabel(\"LH\")\n",
    "ax2.plot(scan_vals, grads)\n",
    "ax2.set_ylabel(\"grad\")\n",
    "plt.tight_layout()"
   ]
  },
  {
   "cell_type": "code",
   "execution_count": 12,
   "metadata": {},
   "outputs": [],
   "source": [
    "wrapped_lh = pyFF.minimizer.WrappedLLH(lik, obs, dataset, {})"
   ]
  },
  {
   "cell_type": "code",
   "execution_count": 13,
   "metadata": {},
   "outputs": [
    {
     "data": {
      "text/plain": [
       "{'powerlaw': {'flux_norm': 0, 'spectral_index': 1},\n",
       " 'snowstorm_escale': {'sys_value': 2},\n",
       " 'snowstorm_esmear': {'sys_value': 3},\n",
       " 'atmo_norm': {'flux_norm': 4},\n",
       " 'delta_gamma': {'delta_gamma': 5}}"
      ]
     },
     "execution_count": 13,
     "metadata": {},
     "output_type": "execute_result"
    }
   ],
   "source": [
    "pyFF.minimizer.flat_index_dict_mapping(ana.exposed_variables(), {})"
   ]
  },
  {
   "cell_type": "code",
   "execution_count": 22,
   "metadata": {},
   "outputs": [],
   "source": [
    "fmin_and_grad = jax.jit(jax.value_and_grad(wrapped_lh))"
   ]
  },
  {
   "cell_type": "code",
   "execution_count": 49,
   "metadata": {},
   "outputs": [],
   "source": [
    "import scipy.optimize\n",
    "\n",
    "astro_scan = np.linspace(0, 3, 100)\n",
    "\n",
    "scan_res = []\n",
    "\n",
    "for astro in astro_scan:\n",
    "\n",
    "    bounds = scipy.optimize.Bounds(\n",
    "        [astro,      1.0, 0.9, 0.9, 0,      -1],\n",
    "        [astro,      4.0, 1.1, 1.1, np.inf,  1]\n",
    "    )\n",
    "\n",
    "    res = scipy.optimize.minimize(fmin_and_grad, [1.001, 2.37, 1., 1., 1., 0.01], bounds=bounds, jac=True, method=\"L-BFGS-B\", tol=10)\n",
    "    scan_res.append(res.fun)\n",
    "\n",
    "bounds = scipy.optimize.Bounds(\n",
    "        [0,      1.0, 0.9, 0.9, 0,      -1],\n",
    "        [np.inf,      4.0, 1.1, 1.1, np.inf,  1]\n",
    "    )\n",
    "\n",
    "free_fit = scipy.optimize.minimize(fmin_and_grad, [1.001, 2.37, 1., 1., 1., 0.01], bounds=bounds, jac=True, method=\"L-BFGS-B\", tol=10)"
   ]
  },
  {
   "cell_type": "code",
   "execution_count": 52,
   "metadata": {},
   "outputs": [
    {
     "data": {
      "text/plain": [
       "Text(0, 0.5, 'Test Statistic')"
      ]
     },
     "execution_count": 52,
     "metadata": {},
     "output_type": "execute_result"
    },
    {
     "data": {
      "image/png": "[encoded data removed]",
      "text/plain": [
       "<Figure size 640x480 with 1 Axes>"
      ]
     },
     "metadata": {},
     "output_type": "display_data"
    }
   ],
   "source": [
    "plt.plot(astro_scan, 2*(np.asarray(scan_res) - free_fit.fun))\n",
    "plt.xlabel(\"Astro Norm\")\n",
    "plt.ylabel(\"Test Statistic\")"
   ]
  },
  {
   "cell_type": "code",
   "execution_count": 3,
   "metadata": {},
   "outputs": [],
   "source": [
    "from flax import linen as nn\n",
    "#from flax.metrics import tensorboard\n",
    "from flax.training import train_state\n",
    "import jax\n",
    "import jax.numpy as jnp\n",
    "import numpy as np\n",
    "import optax\n",
    "\n",
    "class MLP(nn.Module):\n",
    "    \"\"\"A simple CNN model.\"\"\"\n",
    "\n",
    "    @nn.compact\n",
    "    def __call__(self, x):\n",
    "        x = nn.Dense(features=128)(x)\n",
    "        x = nn.relu(x)\n",
    "        x = nn.Dense(features=128)(x)\n",
    "        x = nn.relu(x)\n",
    "        x = nn.Dense(features=1)(x)\n",
    "        x = nn.sigmoid(x)\n",
    "        return x\n",
    "  \n",
    "class TrainState(train_state.TrainState):\n",
    "    pass\n",
    "\n",
    "def create_train_state(module, rng, learning_rate):\n",
    "    \"\"\"Creates an initial `TrainState`.\"\"\"\n",
    "\n",
    "    params = module.init(rng, jnp.ones([1, 2]))['params'] # initialize parameters by passing a template image\n",
    "    tx = optax.adam(learning_rate)\n",
    "    return TrainState.create(\n",
    "        apply_fn=module.apply, params=params, tx=tx,\n",
    "    )"
   ]
  },
  {
   "cell_type": "code",
   "execution_count": 4,
   "metadata": {},
   "outputs": [
    {
     "name": "stderr",
     "output_type": "stream",
     "text": [
      "WARNING:2025-03-29 08:11:14,225:jax._src.xla_bridge:967: An NVIDIA GPU may be present on this machine, but a CUDA-enabled jaxlib is not installed. Falling back to cpu.\n"
     ]
    }
   ],
   "source": [
    "plf = pyFF.factor.PowerLawFlux(\"powerlaw\", 1E5, 1E-18)\n",
    "atmo_norm = pyFF.factor.FluxNorm(\"atmo_norm\")\n",
    "snowstorm_escale = pyFF.factor.SnowstormGauss(\"snowstorm_escale\", 0.05, (0.9, 1.1), \"e_scaling\")\n",
    "snowstorm_esmear = pyFF.factor.SnowstormGauss(\"snowstorm_esmear\", 0.05, (0.9, 1.1), \"e_smearing\")\n",
    "delta_gamma = pyFF.factor.DeltaGamma(\"delta_gamma\", 2617.3148996675773)\n",
    "\n",
    "atmo = pyFF.model_component.ModelComponent(\"atmo\", [atmo_norm, delta_gamma, snowstorm_escale, snowstorm_esmear])\n",
    "astro = pyFF.model_component.ModelComponent(\"astro\", [plf, snowstorm_escale, snowstorm_esmear])\n",
    "\n",
    "model_astro = pyFF.model.Model.from_pairs(\n",
    "    \"model_astro\",\n",
    "    [\n",
    "        (\"baseline_weight\", astro)\n",
    "    ],\n",
    ")\n",
    "\n",
    "model_atmo = pyFF.model.Model.from_pairs(\n",
    "    \"model_atmo\",\n",
    "    [\n",
    "        (\"conv_weight\", atmo),\n",
    "    ],\n",
    ")\n",
    "\n",
    "binning = pyFF.binning.RelaxedBinning(\"summary_stat\", np.linspace(0, 1, 51), 0.001)\n",
    "\n",
    "atmo_expec = pyFF.binned_expectation.BinnedExpectation(\n",
    "    model_atmo,\n",
    "    binning,\n",
    "    [])\n",
    "\n",
    "astro_expec = pyFF.binned_expectation.BinnedExpectation(\n",
    "    model_astro,\n",
    "    binning,\n",
    "    [])\n",
    "\n",
    "ana = pyFF.analysis.Analysis(\n",
    "    {\"atmo\": atmo_expec, \"astro\": astro_expec})\n"
   ]
  },
  {
   "cell_type": "code",
   "execution_count": 5,
   "metadata": {},
   "outputs": [
    {
     "data": {
      "text/plain": [
       "({'atmo': Array([0., 0., 0., 0., 0., 0., 0., 0., 0., 0., 0., 0., 0., 0., 0., 0., 0.,\n",
       "         0., 0., 0., 0., 0., 0., 0., 0., 0., 0., 0., 0., 0., 0., 0., 0., 0.,\n",
       "         0., 0., 0., 0., 0., 0., 0., 0., 0., 0., 0., 0., 0., 0., 0., 0.],      dtype=float32),\n",
       "  'astro': Array([0., 0., 0., 0., 0., 0., 0., 0., 0., 0., 0., 0., 0., 0., 0., 0., 0.,\n",
       "         0., 0., 0., 0., 0., 0., 0., 0., 0., 0., 0., 0., 0., 0., 0., 0., 0.,\n",
       "         0., 0., 0., 0., 0., 0., 0., 0., 0., 0., 0., 0., 0., 0., 0., 0.],      dtype=float32)},\n",
       " {'atmo': Array([0., 0., 0., 0., 0., 0., 0., 0., 0., 0., 0., 0., 0., 0., 0., 0., 0.,\n",
       "         0., 0., 0., 0., 0., 0., 0., 0., 0., 0., 0., 0., 0., 0., 0., 0., 0.,\n",
       "         0., 0., 0., 0., 0., 0., 0., 0., 0., 0., 0., 0., 0., 0., 0., 0.],      dtype=float32),\n",
       "  'astro': Array([0., 0., 0., 0., 0., 0., 0., 0., 0., 0., 0., 0., 0., 0., 0., 0., 0.,\n",
       "         0., 0., 0., 0., 0., 0., 0., 0., 0., 0., 0., 0., 0., 0., 0., 0., 0.,\n",
       "         0., 0., 0., 0., 0., 0., 0., 0., 0., 0., 0., 0., 0., 0., 0., 0.],      dtype=float32)})"
      ]
     },
     "execution_count": 5,
     "metadata": {},
     "output_type": "execute_result"
    }
   ],
   "source": [
    "model_parameters = {\n",
    "    \"powerlaw\": {\"flux_norm\": 1.0, \"spectral_index\": 2.37},\n",
    "    \"atmo_norm\": {\"flux_norm\": 1.0},\n",
    "    \"snowstorm_escale\": {\"sys_value\": 1.0},\n",
    "    \"snowstorm_esmear\": {\"sys_value\": 1.0},\n",
    "    \"delta_gamma\": {\"delta_gamma\": 0.0}\n",
    "}\n",
    "input_variables = {\n",
    "    \"true_energy\": jnp.asarray(data.true_e),\n",
    "    \"log10_reco_energy\": jnp.log10(jnp.asarray(data.reco_e)),\n",
    "    \"cos_reco_zenith\": jnp.cos(jnp.asarray(data.reco_zenith)),\n",
    "    \"baseline_weight\": jnp.asarray(data.fluxless_weight),\n",
    "    \"conv_weight\": jnp.asarray(data.weight_honda2006),\n",
    "    \"e_scaling\": jnp.asarray(data.e_scaling),\n",
    "    \"e_smearing\": jnp.asarray(data.e_smearing),\n",
    "    \"summary_stat\": jnp.log10(jnp.asarray(data.reco_e))\n",
    "}\n",
    "dataset = {\"astro\": input_variables, \"atmo\": input_variables}\n",
    "ana.evaluate(dataset, model_parameters)"
   ]
  },
  {
   "cell_type": "code",
   "execution_count": null,
   "metadata": {},
   "outputs": [
    {
     "data": {
      "text/plain": [
       "Array([ 0.,  0.,  0.,  0.,  0.,  0.,  0.,  0.,  0.,  0.,  0.,  0.,  0.,\n",
       "        0.,  0.,  0.,  0.,  0.,  0.,  0.,  0.,  0.,  0.,  0., 50., 50.,\n",
       "        0.,  0.,  0.,  0.,  0.,  0.,  0.,  0.,  0.,  0.,  0.,  0.,  0.,\n",
       "        0.,  0.,  0.,  0.,  0.,  0.,  0.,  0.,  0.,  0.,  0.],      dtype=float32)"
      ]
     },
     "execution_count": 3,
     "metadata": {},
     "output_type": "execute_result"
    }
   ],
   "source": [
    "key1, key2 = jax.random.split(jax.random.key(0), 2)\n",
    "x = jax.random.uniform(key1, (512, 2 ))\n",
    "\n",
    "# provide key and fake input to get initialized variables\n",
    "\n",
    "mlp = MLP()\n",
    "\n",
    "init_variables = mlp.init(key2, x)\n"
   ]
  },
  {
   "cell_type": "code",
   "execution_count": 21,
   "metadata": {},
   "outputs": [],
   "source": [
    "@jax.jit\n",
    "def train_step(state, input_variables):\n",
    "    \"\"\"Train for a single step.\"\"\"\n",
    "    \n",
    "    def loss_fn(params):\n",
    "\n",
    "        nn_in = jnp.vstack([\n",
    "            input_variables[\"log10_reco_energy\"],\n",
    "            input_variables[\"cos_reco_zenith\"],]).T\n",
    "\n",
    "        summary_stat = state.apply_fn({\"params\": params}, nn_in)[:, 0]\n",
    "\n",
    "        input_variables[\"summary_stat\"] = summary_stat\n",
    "        dataset = {\"astro\": input_variables, \"atmo\": input_variables}\n",
    "        hist, hist_ssq = ana.evaluate(dataset, model_parameters)\n",
    "\n",
    "        non_zero = hist[\"atmo\"] > 0\n",
    "\n",
    "        hatmo_sane = jnp.where(~non_zero, 1, hist[\"atmo\"])\n",
    "\n",
    "        ts = -jnp.sum(jnp.where(non_zero, hist[\"astro\"] / hatmo_sane, 0))\n",
    "\n",
    "        return ts\n",
    "\n",
    "    grad_fn = jax.grad(loss_fn)\n",
    "    grads = grad_fn(state.params)\n",
    "    state = state.apply_gradients(grads=grads)\n",
    "    return state"
   ]
  },
  {
   "cell_type": "code",
   "execution_count": 22,
   "metadata": {},
   "outputs": [
    {
     "data": {
      "text/plain": [
       "Array([0.6213018 , 0.61393225, 0.608756  , ..., 0.6911311 , 0.68742764,\n",
       "       0.6877018 ], dtype=float32)"
      ]
     },
     "execution_count": 22,
     "metadata": {},
     "output_type": "execute_result"
    }
   ],
   "source": [
    "init_rng = jax.random.key(0)\n",
    "mlp = MLP()\n",
    "state = create_train_state(mlp, init_rng, 0.00001)\n",
    "nn_in = jnp.vstack([\n",
    "            input_variables[\"log10_reco_energy\"],\n",
    "            input_variables[\"cos_reco_zenith\"],]).T\n",
    "state.apply_fn({\"params\": state.params}, nn_in)[:, 0]"
   ]
  },
  {
   "cell_type": "code",
   "execution_count": 23,
   "metadata": {},
   "outputs": [
    {
     "ename": "UnexpectedTracerError",
     "evalue": "Encountered an unexpected tracer. A function transformed by JAX had a side effect, allowing for a reference to an intermediate value with type float32[98834] wrapped in a JVPTracer to escape the scope of the transformation.\nJAX transformations require that functions explicitly return their outputs, and disallow saving intermediate values to global state.\nTo catch the leak earlier, try setting the environment variable JAX_CHECK_TRACER_LEAKS or using the `jax.checking_leaks` context manager.\nSee https://jax.readthedocs.io/en/latest/errors.html#jax.errors.UnexpectedTracerError",
     "output_type": "error",
     "traceback": [
      "\u001b[0;31m---------------------------------------------------------------------------\u001b[0m",
      "\u001b[0;31mUnexpectedTracerError\u001b[0m                     Traceback (most recent call last)",
      "Cell \u001b[0;32mIn[23], line 1\u001b[0m\n\u001b[0;32m----> 1\u001b[0m state \u001b[38;5;241m=\u001b[39m \u001b[43mtrain_step\u001b[49m\u001b[43m(\u001b[49m\u001b[43mstate\u001b[49m\u001b[43m,\u001b[49m\u001b[43m \u001b[49m\u001b[43minput_variables\u001b[49m\u001b[43m)\u001b[49m\n",
      "    \u001b[0;31m[... skipping hidden 3 frame]\u001b[0m\n",
      "File \u001b[0;32m~/repos/pyForwardFolding/.venv/lib/python3.10/site-packages/jax/_src/core.py:1012\u001b[0m, in \u001b[0;36mcheck_eval_args\u001b[0;34m(args)\u001b[0m\n\u001b[1;32m   1010\u001b[0m \u001b[38;5;28;01mfor\u001b[39;00m arg \u001b[38;5;129;01min\u001b[39;00m args:\n\u001b[1;32m   1011\u001b[0m   \u001b[38;5;28;01mif\u001b[39;00m \u001b[38;5;28misinstance\u001b[39m(arg, Tracer):\n\u001b[0;32m-> 1012\u001b[0m     \u001b[38;5;28;01mraise\u001b[39;00m escaped_tracer_error(arg)\n",
      "\u001b[0;31mUnexpectedTracerError\u001b[0m: Encountered an unexpected tracer. A function transformed by JAX had a side effect, allowing for a reference to an intermediate value with type float32[98834] wrapped in a JVPTracer to escape the scope of the transformation.\nJAX transformations require that functions explicitly return their outputs, and disallow saving intermediate values to global state.\nTo catch the leak earlier, try setting the environment variable JAX_CHECK_TRACER_LEAKS or using the `jax.checking_leaks` context manager.\nSee https://jax.readthedocs.io/en/latest/errors.html#jax.errors.UnexpectedTracerError"
     ]
    }
   ],
   "source": [
    "state = train_step(state, input_variables)"
   ]
  },
  {
   "cell_type": "code",
   "execution_count": 9,
   "metadata": {},
   "outputs": [
    {
     "data": {
      "text/plain": [
       "TrainState(step=Array(1, dtype=int32, weak_type=True), apply_fn=<bound method Module.apply of MLP()>, params={'Dense_0': {'bias': Array([ 0., nan,  0.,  0., nan, nan, nan, nan, nan, nan,  0., nan, nan,\n",
       "       nan, nan,  0.,  0.,  0.,  0., nan, nan,  0.,  0.,  0.,  0.,  0.,\n",
       "       nan,  0., nan, nan, nan,  0., nan, nan, nan, nan, nan,  0., nan,\n",
       "       nan, nan, nan, nan, nan, nan, nan, nan,  0., nan,  0.,  0., nan,\n",
       "       nan, nan, nan, nan,  0., nan, nan,  0.,  0., nan,  0.,  0., nan,\n",
       "       nan, nan, nan, nan,  0.,  0., nan, nan, nan,  0.,  0.,  0.,  0.,\n",
       "        0., nan, nan, nan, nan,  0.,  0.,  0., nan,  0., nan, nan,  0.,\n",
       "       nan, nan, nan, nan, nan, nan, nan, nan,  0.,  0.,  0., nan, nan,\n",
       "       nan, nan, nan, nan,  0., nan, nan,  0.,  0.,  0., nan, nan,  0.,\n",
       "        0., nan,  0.,  0.,  0., nan,  0.,  0., nan,  0., nan],      dtype=float32), 'kernel': Array([[-1.1679986 ,         nan, -0.97421646, -0.60247123,         nan,\n",
       "                nan,         nan,         nan,         nan,         nan,\n",
       "        -1.2865303 ,         nan,         nan,         nan,         nan,\n",
       "        -0.19442013, -1.0488749 , -0.933482  , -0.50297004,         nan,\n",
       "                nan, -0.44154492, -1.4908385 , -0.381084  , -0.81258667,\n",
       "        -0.429838  ,         nan, -0.5185107 ,         nan,         nan,\n",
       "                nan, -1.0354267 ,         nan,         nan,         nan,\n",
       "                nan,         nan, -0.60060865,         nan,         nan,\n",
       "                nan,         nan,         nan,         nan,         nan,\n",
       "                nan,         nan, -0.74784434,         nan, -1.0002339 ,\n",
       "        -0.61452246,         nan,         nan,         nan,         nan,\n",
       "                nan, -0.30817482,         nan,         nan, -0.27254906,\n",
       "        -0.876746  ,         nan, -0.3783868 , -0.4620117 ,         nan,\n",
       "                nan,         nan,         nan,         nan, -0.933017  ,\n",
       "        -1.287529  ,         nan,         nan,         nan, -0.2792363 ,\n",
       "        -0.38140267, -1.1821502 , -0.03794933, -1.069244  ,         nan,\n",
       "                nan,         nan,         nan, -0.8603214 , -0.56001264,\n",
       "        -0.39550757,         nan, -1.2520957 ,         nan,         nan,\n",
       "        -0.9370224 ,         nan,         nan,         nan,         nan,\n",
       "                nan,         nan,         nan,         nan, -0.51888394,\n",
       "        -0.79115635, -0.45618635,         nan,         nan,         nan,\n",
       "                nan,         nan,         nan, -1.3721765 ,         nan,\n",
       "                nan, -0.77509457, -1.5586113 , -0.28590935,         nan,\n",
       "                nan, -1.3075229 , -0.53687936,         nan, -0.3183996 ,\n",
       "        -1.1482016 , -0.7854096 ,         nan, -0.50025743, -0.5999577 ,\n",
       "                nan, -0.06289369,         nan],\n",
       "       [-1.175271  ,         nan,  0.5431477 , -0.39382717,         nan,\n",
       "                nan,         nan,         nan,         nan,         nan,\n",
       "        -0.8904676 ,         nan,         nan,         nan,         nan,\n",
       "         0.41181624, -0.03036137, -1.0275947 , -0.6792168 ,         nan,\n",
       "                nan,  0.43795544, -0.9224966 ,  0.1976147 , -0.6436237 ,\n",
       "         0.01649658,         nan,  1.0707707 ,         nan,         nan,\n",
       "                nan, -1.2495255 ,         nan,         nan,         nan,\n",
       "                nan,         nan, -0.7343203 ,         nan,         nan,\n",
       "                nan,         nan,         nan,         nan,         nan,\n",
       "                nan,         nan, -0.16377132,         nan,  0.3521009 ,\n",
       "         1.2106618 ,         nan,         nan,         nan,         nan,\n",
       "                nan,  0.69046986,         nan,         nan, -0.44754377,\n",
       "        -0.24346223,         nan,  0.59116155, -0.93654716,         nan,\n",
       "                nan,         nan,         nan,         nan,  0.15696776,\n",
       "        -0.08039819,         nan,         nan,         nan,  0.4960297 ,\n",
       "        -0.59919655, -0.7891945 , -0.05584848, -0.9532654 ,         nan,\n",
       "                nan,         nan,         nan,  0.86257607, -1.0179751 ,\n",
       "         0.06037202,         nan, -0.1144065 ,         nan,         nan,\n",
       "         0.26202407,         nan,         nan,         nan,         nan,\n",
       "                nan,         nan,         nan,         nan,  0.4580481 ,\n",
       "         1.3532313 ,  0.59581953,         nan,         nan,         nan,\n",
       "                nan,         nan,         nan,  0.12556304,         nan,\n",
       "                nan, -0.19297846,  0.6755049 , -0.3476176 ,         nan,\n",
       "                nan, -0.03570807, -0.200205  ,         nan, -0.14227113,\n",
       "         0.3877305 , -0.98781985,         nan,  0.12034452,  1.3635086 ,\n",
       "                nan,  0.13941413,         nan]], dtype=float32)}, 'Dense_1': {'bias': Array([nan, nan, nan, nan,  0., nan,  0., nan, nan, nan,  0., nan,  0.,\n",
       "       nan, nan, nan, nan, nan, nan,  0.,  0., nan, nan,  0.,  0., nan,\n",
       "        0., nan, nan, nan, nan, nan, nan, nan, nan, nan,  0., nan, nan,\n",
       "       nan, nan, nan,  0.,  0., nan, nan, nan, nan, nan,  0.,  0.,  0.,\n",
       "        0., nan, nan, nan, nan,  0., nan, nan,  0., nan, nan,  0., nan,\n",
       "       nan,  0., nan, nan,  0., nan, nan,  0.,  0., nan,  0.,  0., nan,\n",
       "       nan,  0., nan, nan,  0., nan, nan, nan,  0., nan,  0., nan,  0.,\n",
       "       nan, nan, nan, nan, nan, nan,  0., nan, nan, nan,  0.,  0.,  0.,\n",
       "        0.,  0., nan, nan,  0.,  0., nan, nan,  0., nan, nan,  0.,  0.,\n",
       "       nan,  0.,  0., nan,  0., nan, nan, nan,  0.,  0.,  0.],      dtype=float32), 'kernel': Array([[        nan,         nan,         nan, ..., -0.0039234 ,\n",
       "        -0.10881162, -0.02531609],\n",
       "       [        nan,         nan,         nan, ..., -0.00725987,\n",
       "         0.12012133,  0.01283641],\n",
       "       [        nan,         nan,         nan, ...,  0.16834068,\n",
       "        -0.10001758,  0.01819274],\n",
       "       ...,\n",
       "       [        nan,         nan,         nan, ...,  0.08642053,\n",
       "        -0.1681128 , -0.04522015],\n",
       "       [        nan,         nan,         nan, ...,  0.00916931,\n",
       "         0.00788008,  0.00529393],\n",
       "       [        nan,         nan,         nan, ...,  0.09670191,\n",
       "         0.05434791,  0.0335218 ]], dtype=float32)}, 'Dense_2': {'bias': Array([nan], dtype=float32), 'kernel': Array([[nan],\n",
       "       [nan],\n",
       "       [nan],\n",
       "       [nan],\n",
       "       [nan],\n",
       "       [nan],\n",
       "       [nan],\n",
       "       [nan],\n",
       "       [nan],\n",
       "       [nan],\n",
       "       [nan],\n",
       "       [nan],\n",
       "       [nan],\n",
       "       [nan],\n",
       "       [nan],\n",
       "       [nan],\n",
       "       [nan],\n",
       "       [nan],\n",
       "       [nan],\n",
       "       [nan],\n",
       "       [nan],\n",
       "       [nan],\n",
       "       [nan],\n",
       "       [nan],\n",
       "       [nan],\n",
       "       [nan],\n",
       "       [nan],\n",
       "       [nan],\n",
       "       [nan],\n",
       "       [nan],\n",
       "       [nan],\n",
       "       [nan],\n",
       "       [nan],\n",
       "       [nan],\n",
       "       [nan],\n",
       "       [nan],\n",
       "       [nan],\n",
       "       [nan],\n",
       "       [nan],\n",
       "       [nan],\n",
       "       [nan],\n",
       "       [nan],\n",
       "       [nan],\n",
       "       [nan],\n",
       "       [nan],\n",
       "       [nan],\n",
       "       [nan],\n",
       "       [nan],\n",
       "       [nan],\n",
       "       [nan],\n",
       "       [nan],\n",
       "       [nan],\n",
       "       [nan],\n",
       "       [nan],\n",
       "       [nan],\n",
       "       [nan],\n",
       "       [nan],\n",
       "       [nan],\n",
       "       [nan],\n",
       "       [nan],\n",
       "       [nan],\n",
       "       [nan],\n",
       "       [nan],\n",
       "       [nan],\n",
       "       [nan],\n",
       "       [nan],\n",
       "       [nan],\n",
       "       [nan],\n",
       "       [nan],\n",
       "       [nan],\n",
       "       [nan],\n",
       "       [nan],\n",
       "       [nan],\n",
       "       [nan],\n",
       "       [nan],\n",
       "       [nan],\n",
       "       [nan],\n",
       "       [nan],\n",
       "       [nan],\n",
       "       [nan],\n",
       "       [nan],\n",
       "       [nan],\n",
       "       [nan],\n",
       "       [nan],\n",
       "       [nan],\n",
       "       [nan],\n",
       "       [nan],\n",
       "       [nan],\n",
       "       [nan],\n",
       "       [nan],\n",
       "       [nan],\n",
       "       [nan],\n",
       "       [nan],\n",
       "       [nan],\n",
       "       [nan],\n",
       "       [nan],\n",
       "       [nan],\n",
       "       [nan],\n",
       "       [nan],\n",
       "       [nan],\n",
       "       [nan],\n",
       "       [nan],\n",
       "       [nan],\n",
       "       [nan],\n",
       "       [nan],\n",
       "       [nan],\n",
       "       [nan],\n",
       "       [nan],\n",
       "       [nan],\n",
       "       [nan],\n",
       "       [nan],\n",
       "       [nan],\n",
       "       [nan],\n",
       "       [nan],\n",
       "       [nan],\n",
       "       [nan],\n",
       "       [nan],\n",
       "       [nan],\n",
       "       [nan],\n",
       "       [nan],\n",
       "       [nan],\n",
       "       [nan],\n",
       "       [nan],\n",
       "       [nan],\n",
       "       [nan],\n",
       "       [nan],\n",
       "       [nan],\n",
       "       [nan]], dtype=float32)}}, tx=GradientTransformationExtraArgs(init=<function chain.<locals>.init_fn at 0x7fe99c1de3b0>, update=<function chain.<locals>.update_fn at 0x7fe980388a60>), opt_state=(ScaleByAdamState(count=Array(1, dtype=int32), mu={'Dense_0': {'bias': Array([ 0., nan,  0.,  0., nan, nan, nan, nan, nan, nan,  0., nan, nan,\n",
       "       nan, nan,  0.,  0.,  0.,  0., nan, nan,  0.,  0.,  0.,  0.,  0.,\n",
       "       nan,  0., nan, nan, nan,  0., nan, nan, nan, nan, nan,  0., nan,\n",
       "       nan, nan, nan, nan, nan, nan, nan, nan,  0., nan,  0.,  0., nan,\n",
       "       nan, nan, nan, nan,  0., nan, nan,  0.,  0., nan,  0.,  0., nan,\n",
       "       nan, nan, nan, nan,  0.,  0., nan, nan, nan,  0.,  0.,  0.,  0.,\n",
       "        0., nan, nan, nan, nan,  0.,  0.,  0., nan,  0., nan, nan,  0.,\n",
       "       nan, nan, nan, nan, nan, nan, nan, nan,  0.,  0.,  0., nan, nan,\n",
       "       nan, nan, nan, nan,  0., nan, nan,  0.,  0.,  0., nan, nan,  0.,\n",
       "        0., nan,  0.,  0.,  0., nan,  0.,  0., nan,  0., nan],      dtype=float32), 'kernel': Array([[ 0., nan,  0.,  0., nan, nan, nan, nan, nan, nan,  0., nan, nan,\n",
       "        nan, nan,  0.,  0.,  0.,  0., nan, nan,  0.,  0.,  0.,  0.,  0.,\n",
       "        nan,  0., nan, nan, nan,  0., nan, nan, nan, nan, nan,  0., nan,\n",
       "        nan, nan, nan, nan, nan, nan, nan, nan,  0., nan,  0.,  0., nan,\n",
       "        nan, nan, nan, nan,  0., nan, nan,  0.,  0., nan,  0.,  0., nan,\n",
       "        nan, nan, nan, nan,  0.,  0., nan, nan, nan,  0.,  0.,  0.,  0.,\n",
       "         0., nan, nan, nan, nan,  0.,  0.,  0., nan,  0., nan, nan,  0.,\n",
       "        nan, nan, nan, nan, nan, nan, nan, nan,  0.,  0.,  0., nan, nan,\n",
       "        nan, nan, nan, nan,  0., nan, nan,  0.,  0.,  0., nan, nan,  0.,\n",
       "         0., nan,  0.,  0.,  0., nan,  0.,  0., nan,  0., nan],\n",
       "       [ 0., nan,  0.,  0., nan, nan, nan, nan, nan, nan,  0., nan, nan,\n",
       "        nan, nan,  0.,  0.,  0.,  0., nan, nan,  0.,  0.,  0.,  0.,  0.,\n",
       "        nan,  0., nan, nan, nan,  0., nan, nan, nan, nan, nan,  0., nan,\n",
       "        nan, nan, nan, nan, nan, nan, nan, nan,  0., nan,  0.,  0., nan,\n",
       "        nan, nan, nan, nan,  0., nan, nan,  0.,  0., nan,  0.,  0., nan,\n",
       "        nan, nan, nan, nan,  0.,  0., nan, nan, nan,  0.,  0.,  0.,  0.,\n",
       "         0., nan, nan, nan, nan,  0.,  0.,  0., nan,  0., nan, nan,  0.,\n",
       "        nan, nan, nan, nan, nan, nan, nan, nan,  0.,  0.,  0., nan, nan,\n",
       "        nan, nan, nan, nan,  0., nan, nan,  0.,  0.,  0., nan, nan,  0.,\n",
       "         0., nan,  0.,  0.,  0., nan,  0.,  0., nan,  0., nan]],      dtype=float32)}, 'Dense_1': {'bias': Array([nan, nan, nan, nan,  0., nan,  0., nan, nan, nan,  0., nan,  0.,\n",
       "       nan, nan, nan, nan, nan, nan,  0.,  0., nan, nan,  0.,  0., nan,\n",
       "        0., nan, nan, nan, nan, nan, nan, nan, nan, nan,  0., nan, nan,\n",
       "       nan, nan, nan,  0.,  0., nan, nan, nan, nan, nan,  0.,  0.,  0.,\n",
       "        0., nan, nan, nan, nan,  0., nan, nan,  0., nan, nan,  0., nan,\n",
       "       nan,  0., nan, nan,  0., nan, nan,  0.,  0., nan,  0.,  0., nan,\n",
       "       nan,  0., nan, nan,  0., nan, nan, nan,  0., nan,  0., nan,  0.,\n",
       "       nan, nan, nan, nan, nan, nan,  0., nan, nan, nan,  0.,  0.,  0.,\n",
       "        0.,  0., nan, nan,  0.,  0., nan, nan,  0., nan, nan,  0.,  0.,\n",
       "       nan,  0.,  0., nan,  0., nan, nan, nan,  0.,  0.,  0.],      dtype=float32), 'kernel': Array([[nan, nan, nan, ...,  0.,  0.,  0.],\n",
       "       [nan, nan, nan, ...,  0.,  0.,  0.],\n",
       "       [nan, nan, nan, ...,  0.,  0.,  0.],\n",
       "       ...,\n",
       "       [nan, nan, nan, ...,  0.,  0.,  0.],\n",
       "       [nan, nan, nan, ...,  0.,  0.,  0.],\n",
       "       [nan, nan, nan, ...,  0.,  0.,  0.]], dtype=float32)}, 'Dense_2': {'bias': Array([nan], dtype=float32), 'kernel': Array([[nan],\n",
       "       [nan],\n",
       "       [nan],\n",
       "       [nan],\n",
       "       [nan],\n",
       "       [nan],\n",
       "       [nan],\n",
       "       [nan],\n",
       "       [nan],\n",
       "       [nan],\n",
       "       [nan],\n",
       "       [nan],\n",
       "       [nan],\n",
       "       [nan],\n",
       "       [nan],\n",
       "       [nan],\n",
       "       [nan],\n",
       "       [nan],\n",
       "       [nan],\n",
       "       [nan],\n",
       "       [nan],\n",
       "       [nan],\n",
       "       [nan],\n",
       "       [nan],\n",
       "       [nan],\n",
       "       [nan],\n",
       "       [nan],\n",
       "       [nan],\n",
       "       [nan],\n",
       "       [nan],\n",
       "       [nan],\n",
       "       [nan],\n",
       "       [nan],\n",
       "       [nan],\n",
       "       [nan],\n",
       "       [nan],\n",
       "       [nan],\n",
       "       [nan],\n",
       "       [nan],\n",
       "       [nan],\n",
       "       [nan],\n",
       "       [nan],\n",
       "       [nan],\n",
       "       [nan],\n",
       "       [nan],\n",
       "       [nan],\n",
       "       [nan],\n",
       "       [nan],\n",
       "       [nan],\n",
       "       [nan],\n",
       "       [nan],\n",
       "       [nan],\n",
       "       [nan],\n",
       "       [nan],\n",
       "       [nan],\n",
       "       [nan],\n",
       "       [nan],\n",
       "       [nan],\n",
       "       [nan],\n",
       "       [nan],\n",
       "       [nan],\n",
       "       [nan],\n",
       "       [nan],\n",
       "       [nan],\n",
       "       [nan],\n",
       "       [nan],\n",
       "       [nan],\n",
       "       [nan],\n",
       "       [nan],\n",
       "       [nan],\n",
       "       [nan],\n",
       "       [nan],\n",
       "       [nan],\n",
       "       [nan],\n",
       "       [nan],\n",
       "       [nan],\n",
       "       [nan],\n",
       "       [nan],\n",
       "       [nan],\n",
       "       [nan],\n",
       "       [nan],\n",
       "       [nan],\n",
       "       [nan],\n",
       "       [nan],\n",
       "       [nan],\n",
       "       [nan],\n",
       "       [nan],\n",
       "       [nan],\n",
       "       [nan],\n",
       "       [nan],\n",
       "       [nan],\n",
       "       [nan],\n",
       "       [nan],\n",
       "       [nan],\n",
       "       [nan],\n",
       "       [nan],\n",
       "       [nan],\n",
       "       [nan],\n",
       "       [nan],\n",
       "       [nan],\n",
       "       [nan],\n",
       "       [nan],\n",
       "       [nan],\n",
       "       [nan],\n",
       "       [nan],\n",
       "       [nan],\n",
       "       [nan],\n",
       "       [nan],\n",
       "       [nan],\n",
       "       [nan],\n",
       "       [nan],\n",
       "       [nan],\n",
       "       [nan],\n",
       "       [nan],\n",
       "       [nan],\n",
       "       [nan],\n",
       "       [nan],\n",
       "       [nan],\n",
       "       [nan],\n",
       "       [nan],\n",
       "       [nan],\n",
       "       [nan],\n",
       "       [nan],\n",
       "       [nan],\n",
       "       [nan],\n",
       "       [nan],\n",
       "       [nan],\n",
       "       [nan]], dtype=float32)}}, nu={'Dense_0': {'bias': Array([ 0., nan,  0.,  0., nan, nan, nan, nan, nan, nan,  0., nan, nan,\n",
       "       nan, nan,  0.,  0.,  0.,  0., nan, nan,  0.,  0.,  0.,  0.,  0.,\n",
       "       nan,  0., nan, nan, nan,  0., nan, nan, nan, nan, nan,  0., nan,\n",
       "       nan, nan, nan, nan, nan, nan, nan, nan,  0., nan,  0.,  0., nan,\n",
       "       nan, nan, nan, nan,  0., nan, nan,  0.,  0., nan,  0.,  0., nan,\n",
       "       nan, nan, nan, nan,  0.,  0., nan, nan, nan,  0.,  0.,  0.,  0.,\n",
       "        0., nan, nan, nan, nan,  0.,  0.,  0., nan,  0., nan, nan,  0.,\n",
       "       nan, nan, nan, nan, nan, nan, nan, nan,  0.,  0.,  0., nan, nan,\n",
       "       nan, nan, nan, nan,  0., nan, nan,  0.,  0.,  0., nan, nan,  0.,\n",
       "        0., nan,  0.,  0.,  0., nan,  0.,  0., nan,  0., nan],      dtype=float32), 'kernel': Array([[ 0., nan,  0.,  0., nan, nan, nan, nan, nan, nan,  0., nan, nan,\n",
       "        nan, nan,  0.,  0.,  0.,  0., nan, nan,  0.,  0.,  0.,  0.,  0.,\n",
       "        nan,  0., nan, nan, nan,  0., nan, nan, nan, nan, nan,  0., nan,\n",
       "        nan, nan, nan, nan, nan, nan, nan, nan,  0., nan,  0.,  0., nan,\n",
       "        nan, nan, nan, nan,  0., nan, nan,  0.,  0., nan,  0.,  0., nan,\n",
       "        nan, nan, nan, nan,  0.,  0., nan, nan, nan,  0.,  0.,  0.,  0.,\n",
       "         0., nan, nan, nan, nan,  0.,  0.,  0., nan,  0., nan, nan,  0.,\n",
       "        nan, nan, nan, nan, nan, nan, nan, nan,  0.,  0.,  0., nan, nan,\n",
       "        nan, nan, nan, nan,  0., nan, nan,  0.,  0.,  0., nan, nan,  0.,\n",
       "         0., nan,  0.,  0.,  0., nan,  0.,  0., nan,  0., nan],\n",
       "       [ 0., nan,  0.,  0., nan, nan, nan, nan, nan, nan,  0., nan, nan,\n",
       "        nan, nan,  0.,  0.,  0.,  0., nan, nan,  0.,  0.,  0.,  0.,  0.,\n",
       "        nan,  0., nan, nan, nan,  0., nan, nan, nan, nan, nan,  0., nan,\n",
       "        nan, nan, nan, nan, nan, nan, nan, nan,  0., nan,  0.,  0., nan,\n",
       "        nan, nan, nan, nan,  0., nan, nan,  0.,  0., nan,  0.,  0., nan,\n",
       "        nan, nan, nan, nan,  0.,  0., nan, nan, nan,  0.,  0.,  0.,  0.,\n",
       "         0., nan, nan, nan, nan,  0.,  0.,  0., nan,  0., nan, nan,  0.,\n",
       "        nan, nan, nan, nan, nan, nan, nan, nan,  0.,  0.,  0., nan, nan,\n",
       "        nan, nan, nan, nan,  0., nan, nan,  0.,  0.,  0., nan, nan,  0.,\n",
       "         0., nan,  0.,  0.,  0., nan,  0.,  0., nan,  0., nan]],      dtype=float32)}, 'Dense_1': {'bias': Array([nan, nan, nan, nan,  0., nan,  0., nan, nan, nan,  0., nan,  0.,\n",
       "       nan, nan, nan, nan, nan, nan,  0.,  0., nan, nan,  0.,  0., nan,\n",
       "        0., nan, nan, nan, nan, nan, nan, nan, nan, nan,  0., nan, nan,\n",
       "       nan, nan, nan,  0.,  0., nan, nan, nan, nan, nan,  0.,  0.,  0.,\n",
       "        0., nan, nan, nan, nan,  0., nan, nan,  0., nan, nan,  0., nan,\n",
       "       nan,  0., nan, nan,  0., nan, nan,  0.,  0., nan,  0.,  0., nan,\n",
       "       nan,  0., nan, nan,  0., nan, nan, nan,  0., nan,  0., nan,  0.,\n",
       "       nan, nan, nan, nan, nan, nan,  0., nan, nan, nan,  0.,  0.,  0.,\n",
       "        0.,  0., nan, nan,  0.,  0., nan, nan,  0., nan, nan,  0.,  0.,\n",
       "       nan,  0.,  0., nan,  0., nan, nan, nan,  0.,  0.,  0.],      dtype=float32), 'kernel': Array([[nan, nan, nan, ...,  0.,  0.,  0.],\n",
       "       [nan, nan, nan, ...,  0.,  0.,  0.],\n",
       "       [nan, nan, nan, ...,  0.,  0.,  0.],\n",
       "       ...,\n",
       "       [nan, nan, nan, ...,  0.,  0.,  0.],\n",
       "       [nan, nan, nan, ...,  0.,  0.,  0.],\n",
       "       [nan, nan, nan, ...,  0.,  0.,  0.]], dtype=float32)}, 'Dense_2': {'bias': Array([nan], dtype=float32), 'kernel': Array([[nan],\n",
       "       [nan],\n",
       "       [nan],\n",
       "       [nan],\n",
       "       [nan],\n",
       "       [nan],\n",
       "       [nan],\n",
       "       [nan],\n",
       "       [nan],\n",
       "       [nan],\n",
       "       [nan],\n",
       "       [nan],\n",
       "       [nan],\n",
       "       [nan],\n",
       "       [nan],\n",
       "       [nan],\n",
       "       [nan],\n",
       "       [nan],\n",
       "       [nan],\n",
       "       [nan],\n",
       "       [nan],\n",
       "       [nan],\n",
       "       [nan],\n",
       "       [nan],\n",
       "       [nan],\n",
       "       [nan],\n",
       "       [nan],\n",
       "       [nan],\n",
       "       [nan],\n",
       "       [nan],\n",
       "       [nan],\n",
       "       [nan],\n",
       "       [nan],\n",
       "       [nan],\n",
       "       [nan],\n",
       "       [nan],\n",
       "       [nan],\n",
       "       [nan],\n",
       "       [nan],\n",
       "       [nan],\n",
       "       [nan],\n",
       "       [nan],\n",
       "       [nan],\n",
       "       [nan],\n",
       "       [nan],\n",
       "       [nan],\n",
       "       [nan],\n",
       "       [nan],\n",
       "       [nan],\n",
       "       [nan],\n",
       "       [nan],\n",
       "       [nan],\n",
       "       [nan],\n",
       "       [nan],\n",
       "       [nan],\n",
       "       [nan],\n",
       "       [nan],\n",
       "       [nan],\n",
       "       [nan],\n",
       "       [nan],\n",
       "       [nan],\n",
       "       [nan],\n",
       "       [nan],\n",
       "       [nan],\n",
       "       [nan],\n",
       "       [nan],\n",
       "       [nan],\n",
       "       [nan],\n",
       "       [nan],\n",
       "       [nan],\n",
       "       [nan],\n",
       "       [nan],\n",
       "       [nan],\n",
       "       [nan],\n",
       "       [nan],\n",
       "       [nan],\n",
       "       [nan],\n",
       "       [nan],\n",
       "       [nan],\n",
       "       [nan],\n",
       "       [nan],\n",
       "       [nan],\n",
       "       [nan],\n",
       "       [nan],\n",
       "       [nan],\n",
       "       [nan],\n",
       "       [nan],\n",
       "       [nan],\n",
       "       [nan],\n",
       "       [nan],\n",
       "       [nan],\n",
       "       [nan],\n",
       "       [nan],\n",
       "       [nan],\n",
       "       [nan],\n",
       "       [nan],\n",
       "       [nan],\n",
       "       [nan],\n",
       "       [nan],\n",
       "       [nan],\n",
       "       [nan],\n",
       "       [nan],\n",
       "       [nan],\n",
       "       [nan],\n",
       "       [nan],\n",
       "       [nan],\n",
       "       [nan],\n",
       "       [nan],\n",
       "       [nan],\n",
       "       [nan],\n",
       "       [nan],\n",
       "       [nan],\n",
       "       [nan],\n",
       "       [nan],\n",
       "       [nan],\n",
       "       [nan],\n",
       "       [nan],\n",
       "       [nan],\n",
       "       [nan],\n",
       "       [nan],\n",
       "       [nan],\n",
       "       [nan],\n",
       "       [nan],\n",
       "       [nan],\n",
       "       [nan],\n",
       "       [nan],\n",
       "       [nan],\n",
       "       [nan]], dtype=float32)}}), EmptyState()))"
      ]
     },
     "execution_count": 9,
     "metadata": {},
     "output_type": "execute_result"
    }
   ],
   "source": [
    "state"
   ]
  },
  {
   "cell_type": "code",
   "execution_count": 76,
   "metadata": {},
   "outputs": [
    {
     "data": {
      "text/plain": [
       "Array([nan, nan, nan, ..., nan, nan, nan], dtype=float32)"
      ]
     },
     "execution_count": 76,
     "metadata": {},
     "output_type": "execute_result"
    }
   ],
   "source": [
    "nn_in = jnp.vstack([\n",
    "            input_variables[\"log10_reco_energy\"],\n",
    "            input_variables[\"cos_reco_zenith\"],]).T\n",
    "state.apply_fn({\"params\": state.params}, nn_in)[:, 0]"
   ]
  }
 ],
 "metadata": {
  "kernelspec": {
   "display_name": ".venv",
   "language": "python",
   "name": "python3"
  },
  "language_info": {
   "codemirror_mode": {
    "name": "ipython",
    "version": 3
   },
   "file_extension": ".py",
   "mimetype": "text/x-python",
   "name": "python",
   "nbconvert_exporter": "python",
   "pygments_lexer": "ipython3",
   "version": "3.12.8"
  }
 },
 "nbformat": 4,
 "nbformat_minor": 2
}
