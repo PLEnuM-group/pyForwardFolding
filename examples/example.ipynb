{
 "cells": [
  {
   "cell_type": "code",
   "execution_count": 1,
   "metadata": {},
   "outputs": [
    {
     "name": "stderr",
     "output_type": "stream",
     "text": [
      "WARNING:2025-09-04 13:14:24,164:jax._src.xla_bridge:872: An NVIDIA GPU may be present on this machine, but a CUDA-enabled jaxlib is not installed. Falling back to cpu.\n"
     ]
    }
   ],
   "source": [
    "%load_ext autoreload\n",
    "%autoreload 2\n",
    "\n",
    "import jax\n",
    "jax.config.update(\"jax_enable_x64\", True)\n",
    "import jax.numpy as jnp\n",
    "import matplotlib.pyplot as plt\n",
    "import numpy as np\n",
    "import pandas as pd\n",
    "\n",
    "import pyForwardFolding as pyFF\n",
    "import scipy.stats"
   ]
  },
  {
   "cell_type": "code",
   "execution_count": 2,
   "metadata": {},
   "outputs": [],
   "source": [
    "data = pd.read_parquet(\"../../NNMFit_testdata/src/NNMFit_testdata/data/datasets/Toise_ToyTracks/dataframe.parquet\")\n",
    "\n",
    "input_variables = {\n",
    "    \"true_energy\": jnp.asarray(data.true_e),\n",
    "    \"log10_reco_energy\": jnp.log10(jnp.asarray(data.reco_e)),\n",
    "    \"cos_reco_zenith\": jnp.cos(jnp.asarray(data.reco_zenith)),\n",
    "    \"baseline_weight\": jnp.asarray(data.fluxless_weight),\n",
    "    \"conv_weight\": jnp.asarray(data.weight_honda2006),\n",
    "    \"e_scaling\": jnp.asarray(data.e_scaling),\n",
    "    \"e_smearing\": jnp.asarray(data.e_smearing),\n",
    "    \"median_energy\": 2500.,\n",
    "}\n",
    "\n",
    "input_variables_2 = {\n",
    "    \"muon_weight\": jnp.ones_like(input_variables[\"true_energy\"]),\n",
    "    \"log10_reco_energy\": jnp.log10(jnp.asarray(data.reco_e)),\n",
    "    \"cos_reco_zenith\": jnp.cos(jnp.asarray(data.reco_zenith)),\n",
    "    \"e_scaling\": jnp.asarray(data.e_scaling),\n",
    "    \"e_smearing\": jnp.asarray(data.e_smearing),\n",
    "}\n",
    "\n",
    "dataset = {\"dataset1\": input_variables, \"dataset2\": input_variables_2}\n"
   ]
  },
  {
   "cell_type": "code",
   "execution_count": 3,
   "metadata": {},
   "outputs": [],
   "source": [
    "ana = pyFF.config.analysis_from_config(\"test.yaml\")\n"
   ]
  },
  {
   "cell_type": "code",
   "execution_count": 4,
   "metadata": {},
   "outputs": [
    {
     "data": {
      "text/markdown": [
       "# Analysis Configuration\n",
       "**1 expectations configured**\n",
       "\n",
       "## Summary\n",
       "| Aspect | Details |\n",
       "|--------|---------|\n",
       "| Required variables | `cos_reco_zenith, e_scaling, e_smearing, log10_reco_energy, median_energy, true_energy` |\n",
       "| Exposed parameters | `astro_index, astro_norm, atmo_norm, delta_gamma, escale, esmear, muon_norm` |\n",
       "\n",
       "  - **Expectation:** `det1`\n",
       "    - Datasets: `['dataset1', 'dataset2']`\n",
       "\n",
       "    - Models (2):\n",
       "    1. **model** (2 components) - Uses datasets: `dataset1`\n",
       "      - **Model:** model\n",
       "        - Components (2):\n",
       "        - **astro** (weight: baseline_weight)\n",
       "        - **atmo** (weight: conv_weight)\n",
       "    2. **mock_muon_model** (1 components) - Uses datasets: `dataset2`\n",
       "      - **Model:** mock_muon_model\n",
       "        - Components (1):\n",
       "        - **muons** (weight: muon_weight)\n",
       "\n",
       "    - Binning:\n",
       "      - Type: `RectangularBinning`\n",
       "      - Variables: `['log10_reco_energy', 'cos_reco_zenith']`\n",
       "      - Dimensions: `(30, 24)` (720 bins)\n",
       "\n",
       "    - Required variables: 6\n",
       "    - Exposed parameters: 7\n",
       "    - Lifetime: `1.0`\n"
      ],
      "text/plain": [
       "Analysis with 1 expectations\n",
       "==================================================\n",
       "Required variables: ['cos_reco_zenith', 'e_scaling', 'e_smearing', 'log10_reco_energy', 'median_energy', 'true_energy']\n",
       "Exposed parameters: ['astro_index', 'astro_norm', 'atmo_norm', 'delta_gamma', 'escale', 'esmear', 'muon_norm']\n",
       "\n",
       "Expectation: det1\n",
       "------------------------------\n",
       "  Dataset keys: ['dataset1', 'dataset2']\n",
       "  Models (2):\n",
       "    Model: model\n",
       "      Components (2):\n",
       "        • astro (weight: baseline_weight)\n",
       "          ModelComponent: astro\n",
       "            Factors (3):\n",
       "              PowerLawFlux: powerlaw\n",
       "                Parameters: {'flux_norm': 'astro_norm', 'spectral_index': 'astro_index'}\n",
       "                Required variables: ['true_energy']\n",
       "              SnowstormGauss: snowstorm_escale\n",
       "                Parameters: {'scale': 'escale'}\n",
       "                Required variables: ['e_scaling']\n",
       "              SnowstormGauss: snowstorm_esmear\n",
       "                Parameters: {'scale': 'esmear'}\n",
       "                Required variables: ['e_smearing']\n",
       "            Required variables: ['e_scaling', 'e_smearing', 'true_energy']\n",
       "            Exposed parameters: ['astro_index', 'astro_norm', 'escale', 'esmear']\n",
       "        • atmo (weight: conv_weight)\n",
       "          ModelComponent: atmo\n",
       "            Factors (4):\n",
       "              FluxNorm: atmo_norm\n",
       "                Parameters: {'flux_norm': 'atmo_norm'}\n",
       "              DeltaGamma: delta_gamma\n",
       "                Parameters: {'delta_gamma': 'delta_gamma'}\n",
       "                Required variables: ['true_energy', 'median_energy']\n",
       "              SnowstormGauss: snowstorm_escale\n",
       "                Parameters: {'scale': 'escale'}\n",
       "                Required variables: ['e_scaling']\n",
       "              SnowstormGauss: snowstorm_esmear\n",
       "                Parameters: {'scale': 'esmear'}\n",
       "                Required variables: ['e_smearing']\n",
       "            Required variables: ['e_scaling', 'e_smearing', 'median_energy', 'true_energy']\n",
       "            Exposed parameters: ['atmo_norm', 'delta_gamma', 'escale', 'esmear']\n",
       "      Required variables: ['e_scaling', 'e_smearing', 'median_energy', 'true_energy']\n",
       "      Exposed parameters: ['astro_index', 'astro_norm', 'atmo_norm', 'delta_gamma', 'escale', 'esmear']\n",
       "    Model: mock_muon_model\n",
       "      Components (1):\n",
       "        • muons (weight: muon_weight)\n",
       "          ModelComponent: muons\n",
       "            Factors (3):\n",
       "              FluxNorm: muon_norm\n",
       "                Parameters: {'flux_norm': 'muon_norm'}\n",
       "              SnowstormGauss: snowstorm_escale\n",
       "                Parameters: {'scale': 'escale'}\n",
       "                Required variables: ['e_scaling']\n",
       "              SnowstormGauss: snowstorm_esmear\n",
       "                Parameters: {'scale': 'esmear'}\n",
       "                Required variables: ['e_smearing']\n",
       "            Required variables: ['e_scaling', 'e_smearing']\n",
       "            Exposed parameters: ['escale', 'esmear', 'muon_norm']\n",
       "      Required variables: ['e_scaling', 'e_smearing']\n",
       "      Exposed parameters: ['escale', 'esmear', 'muon_norm']\n",
       "  Binning:\n",
       "    RectangularBinning\n",
       "      Variables: ['log10_reco_energy', 'cos_reco_zenith']\n",
       "      Histogram dimensions: (30, 24)\n",
       "      Number of bins: 720\n",
       "  Required variables: ['cos_reco_zenith', 'e_scaling', 'e_smearing', 'log10_reco_energy', 'median_energy', 'true_energy']\n",
       "  Exposed parameters: ['astro_index', 'astro_norm', 'atmo_norm', 'delta_gamma', 'escale', 'esmear', 'muon_norm']\n",
       "  Lifetime: 1.0"
      ]
     },
     "execution_count": 4,
     "metadata": {},
     "output_type": "execute_result"
    }
   ],
   "source": [
    "ana"
   ]
  },
  {
   "cell_type": "code",
   "execution_count": 5,
   "metadata": {},
   "outputs": [
    {
     "data": {
      "text/markdown": [
       "## Expectation: `det1`\n",
       "**Datasets:** `['dataset1', 'dataset2']`\n",
       "\n",
       "**Models (2):**\n",
       "1. **model** (2 components) - Uses datasets: `dataset1`\n",
       "  - **Model:** model\n",
       "    - Components (2):\n",
       "    - **astro** (weight: baseline_weight)\n",
       "    - **atmo** (weight: conv_weight)\n",
       "2. **mock_muon_model** (1 components) - Uses datasets: `dataset2`\n",
       "  - **Model:** mock_muon_model\n",
       "    - Components (1):\n",
       "    - **muons** (weight: muon_weight)\n",
       "\n",
       "**Binning:**\n",
       "  - Type: `RectangularBinning`\n",
       "  - Variables: `['log10_reco_energy', 'cos_reco_zenith']`\n",
       "  - Dimensions: `(30, 24)` (720 bins)\n",
       "\n",
       "**Configuration Summary:**\n",
       "| Aspect | Count/Details |\n",
       "|--------|---------------|\n",
       "| Required variables | 6 |\n",
       "| Exposed parameters | 7 |\n",
       "| Lifetime | `1.0` |"
      ],
      "text/plain": [
       "<pyForwardFolding.binned_expectation.BinnedExpectation at 0x71703dfb3e00>"
      ]
     },
     "execution_count": 5,
     "metadata": {},
     "output_type": "execute_result"
    }
   ],
   "source": [
    "ana.expectations[\"det1\"]"
   ]
  },
  {
   "cell_type": "code",
   "execution_count": 6,
   "metadata": {},
   "outputs": [
    {
     "data": {
      "text/markdown": [
       "### Model: model\n",
       "\n",
       "**Required variables:** `['e_scaling', 'e_smearing', 'median_energy', 'true_energy']`\n",
       "\n",
       "**Exposed parameters:** `['astro_index', 'astro_norm', 'atmo_norm', 'delta_gamma', 'escale', 'esmear']`\n",
       "**Components (2):**\n",
       "- **astro** (weight: baseline_weight)\n",
       "  - **ModelComponent:** astro\n",
       "    - Factors (3):\n",
       "      - **PowerLawFlux** (`powerlaw`)\n",
       "        - Parameters:\n",
       "          - `flux_norm` → `astro_norm`\n",
       "          - `spectral_index` → `astro_index`\n",
       "        - Required variables:\n",
       "          - `true_energy`\n",
       "      - **SnowstormGauss** (`snowstorm_escale`)\n",
       "        - Parameters:\n",
       "          - `scale` → `escale`\n",
       "        - Required variables:\n",
       "          - `e_scaling`\n",
       "      - **SnowstormGauss** (`snowstorm_esmear`)\n",
       "        - Parameters:\n",
       "          - `scale` → `esmear`\n",
       "        - Required variables:\n",
       "          - `e_smearing`\n",
       "\n",
       "    - Required variables: `['e_scaling', 'e_smearing', 'true_energy']`\n",
       "    - Exposed parameters: `['astro_index', 'astro_norm', 'escale', 'esmear']`\n",
       "- **atmo** (weight: conv_weight)\n",
       "  - **ModelComponent:** atmo\n",
       "    - Factors (4):\n",
       "      - **FluxNorm** (`atmo_norm`)\n",
       "        - Parameters:\n",
       "          - `flux_norm` → `atmo_norm`\n",
       "      - **DeltaGamma** (`delta_gamma`)\n",
       "        - Parameters:\n",
       "          - `delta_gamma` → `delta_gamma`\n",
       "        - Required variables:\n",
       "          - `true_energy`\n",
       "          - `median_energy`\n",
       "      - **SnowstormGauss** (`snowstorm_escale`)\n",
       "        - Parameters:\n",
       "          - `scale` → `escale`\n",
       "        - Required variables:\n",
       "          - `e_scaling`\n",
       "      - **SnowstormGauss** (`snowstorm_esmear`)\n",
       "        - Parameters:\n",
       "          - `scale` → `esmear`\n",
       "        - Required variables:\n",
       "          - `e_smearing`\n",
       "\n",
       "    - Required variables: `['e_scaling', 'e_smearing', 'median_energy', 'true_energy']`\n",
       "    - Exposed parameters: `['atmo_norm', 'delta_gamma', 'escale', 'esmear']`"
      ],
      "text/plain": [
       "Model: model\n",
       "  Components (2):\n",
       "    • astro (weight: baseline_weight)\n",
       "      ModelComponent: astro\n",
       "        Factors (3):\n",
       "          PowerLawFlux: powerlaw\n",
       "            Parameters: {'flux_norm': 'astro_norm', 'spectral_index': 'astro_index'}\n",
       "            Required variables: ['true_energy']\n",
       "          SnowstormGauss: snowstorm_escale\n",
       "            Parameters: {'scale': 'escale'}\n",
       "            Required variables: ['e_scaling']\n",
       "          SnowstormGauss: snowstorm_esmear\n",
       "            Parameters: {'scale': 'esmear'}\n",
       "            Required variables: ['e_smearing']\n",
       "        Required variables: ['e_scaling', 'e_smearing', 'true_energy']\n",
       "        Exposed parameters: ['astro_index', 'astro_norm', 'escale', 'esmear']\n",
       "    • atmo (weight: conv_weight)\n",
       "      ModelComponent: atmo\n",
       "        Factors (4):\n",
       "          FluxNorm: atmo_norm\n",
       "            Parameters: {'flux_norm': 'atmo_norm'}\n",
       "          DeltaGamma: delta_gamma\n",
       "            Parameters: {'delta_gamma': 'delta_gamma'}\n",
       "            Required variables: ['true_energy', 'median_energy']\n",
       "          SnowstormGauss: snowstorm_escale\n",
       "            Parameters: {'scale': 'escale'}\n",
       "            Required variables: ['e_scaling']\n",
       "          SnowstormGauss: snowstorm_esmear\n",
       "            Parameters: {'scale': 'esmear'}\n",
       "            Required variables: ['e_smearing']\n",
       "        Required variables: ['e_scaling', 'e_smearing', 'median_energy', 'true_energy']\n",
       "        Exposed parameters: ['atmo_norm', 'delta_gamma', 'escale', 'esmear']\n",
       "  Required variables: ['e_scaling', 'e_smearing', 'median_energy', 'true_energy']\n",
       "  Exposed parameters: ['astro_index', 'astro_norm', 'atmo_norm', 'delta_gamma', 'escale', 'esmear']"
      ]
     },
     "execution_count": 6,
     "metadata": {},
     "output_type": "execute_result"
    }
   ],
   "source": [
    "ana.expectations[\"det1\"].models[0]"
   ]
  },
  {
   "cell_type": "code",
   "execution_count": 7,
   "metadata": {},
   "outputs": [
    {
     "data": {
      "text/markdown": [
       "#### ModelComponent: astro\n",
       "**Factors (3):**\n",
       "  - **PowerLawFlux** (`powerlaw`)\n",
       "    - Parameters:\n",
       "      - `flux_norm` → `astro_norm`\n",
       "      - `spectral_index` → `astro_index`\n",
       "    - Required variables:\n",
       "      - `true_energy`\n",
       "  - **SnowstormGauss** (`snowstorm_escale`)\n",
       "    - Parameters:\n",
       "      - `scale` → `escale`\n",
       "    - Required variables:\n",
       "      - `e_scaling`\n",
       "  - **SnowstormGauss** (`snowstorm_esmear`)\n",
       "    - Parameters:\n",
       "      - `scale` → `esmear`\n",
       "    - Required variables:\n",
       "      - `e_smearing`\n",
       "\n",
       "**Required variables:** `['e_scaling', 'e_smearing', 'true_energy']`\n",
       "\n",
       "**Exposed parameters:** `['astro_index', 'astro_norm', 'escale', 'esmear']`"
      ],
      "text/plain": [
       "ModelComponent: astro\n",
       "  Factors (3):\n",
       "    PowerLawFlux: powerlaw\n",
       "      Parameters: {'flux_norm': 'astro_norm', 'spectral_index': 'astro_index'}\n",
       "      Required variables: ['true_energy']\n",
       "    SnowstormGauss: snowstorm_escale\n",
       "      Parameters: {'scale': 'escale'}\n",
       "      Required variables: ['e_scaling']\n",
       "    SnowstormGauss: snowstorm_esmear\n",
       "      Parameters: {'scale': 'esmear'}\n",
       "      Required variables: ['e_smearing']\n",
       "  Required variables: ['e_scaling', 'e_smearing', 'true_energy']\n",
       "  Exposed parameters: ['astro_index', 'astro_norm', 'escale', 'esmear']"
      ]
     },
     "execution_count": 7,
     "metadata": {},
     "output_type": "execute_result"
    }
   ],
   "source": [
    "ana.expectations[\"det1\"].models[0].components[0]"
   ]
  },
  {
   "cell_type": "code",
   "execution_count": 8,
   "metadata": {},
   "outputs": [],
   "source": [
    "ana = pyFF.config.analysis_from_config(\"test.yaml\")\n",
    "\n",
    "prior_bounds = {\n",
    "    \"astro_norm\": (0.0, 3),\n",
    "    \"astro_index\": (1.0, 4.0),\n",
    "    \"atmo_norm\": (0.0, np.inf),\n",
    "    \"escale\": (0.9, 1.1),\n",
    "    \"esmear\": (0.9, 1.1),\n",
    "    \"delta_gamma\": (-1.0, 1.0),\n",
    "    \"muon_norm\": (0.0, np.inf)\n",
    "}\n",
    "\n",
    "prior_seeds = {\n",
    "    \"astro_norm\": 1.0,\n",
    "    \"astro_index\": 2.37,\n",
    "    \"atmo_norm\": 1.0,\n",
    "    \"escale\": 1.0,\n",
    "    \"esmear\": 1.0,\n",
    "    \"delta_gamma\": 0.0,\n",
    "    \"muon_norm\": 0.0,\n",
    "}\n",
    "\n",
    "priors = [\n",
    "    pyFF.likelihood.UniformPrior(prior_seeds, prior_bounds)\n",
    "]\n",
    "\n",
    "\n",
    "lik_p = pyFF.likelihood.PoissonLikelihood(ana, priors)\n",
    "lik_s = pyFF.likelihood.SAYLikelihood(ana, priors)\n"
   ]
  },
  {
   "cell_type": "code",
   "execution_count": 9,
   "metadata": {},
   "outputs": [
    {
     "data": {
      "text/plain": [
       "{'astro_norm': (0.0, 3),\n",
       " 'astro_index': (1.0, 4.0),\n",
       " 'atmo_norm': (0.0, inf),\n",
       " 'escale': (0.9, 1.1),\n",
       " 'esmear': (0.9, 1.1),\n",
       " 'delta_gamma': (-1.0, 1.0),\n",
       " 'muon_norm': (0.0, inf)}"
      ]
     },
     "execution_count": 9,
     "metadata": {},
     "output_type": "execute_result"
    }
   ],
   "source": [
    "lik_p.get_bounds()"
   ]
  },
  {
   "cell_type": "code",
   "execution_count": 10,
   "metadata": {},
   "outputs": [],
   "source": [
    "model_parameters = {\n",
    "    \"astro_norm\": 1.0,\n",
    "    \"astro_index\": 2.37,\n",
    "    \"atmo_norm\": 1.0,\n",
    "    \"escale\": 1.0,\n",
    "    \"esmear\": 1.0,\n",
    "    \"delta_gamma\": 0.0,\n",
    "    \"muon_norm\": 0.0,\n",
    "}\n"
   ]
  },
  {
   "cell_type": "code",
   "execution_count": 11,
   "metadata": {},
   "outputs": [
    {
     "data": {
      "text/plain": [
       "[]"
      ]
     },
     "execution_count": 11,
     "metadata": {},
     "output_type": "execute_result"
    },
    {
     "data": {
      "image/png": "[encoded data removed]",
      "text/plain": [
       "<Figure size 640x480 with 1 Axes>"
      ]
     },
     "metadata": {},
     "output_type": "display_data"
    }
   ],
   "source": [
    "be = ana.expectations[\"det1\"]\n",
    "pred = ana.evaluate(dataset, model_parameters)[0]\n",
    "hsum = pred[\"det1\"].sum(axis=1)\n",
    "plt.step(be.binning.bin_edges[0], jnp.append(hsum, hsum[-1]))\n",
    "plt.semilogy()\n",
    "\n"
   ]
  },
  {
   "cell_type": "code",
   "execution_count": 12,
   "metadata": {},
   "outputs": [],
   "source": [
    "hist, hist_ssq = ana.evaluate(dataset, model_parameters)\n",
    "\n",
    "pgen = pyFF.statistics.PseudoExpGenerator(ana, dataset, model_parameters)\n",
    "pexp = next(pgen.generate(1))\n",
    "obs = hist"
   ]
  },
  {
   "cell_type": "code",
   "execution_count": 13,
   "metadata": {},
   "outputs": [],
   "source": [
    "def eval_for_par(par_val, par_dict, llh_f):\n",
    "    par_dict[\"astro_norm\"]= par_val\n",
    "    lh = llh_f(obs, dataset, par_dict)\n",
    "    return lh\n",
    "\n",
    "\n",
    "val_grad = jax.jit(jax.value_and_grad(eval_for_par, 0), static_argnums=(2,))\n"
   ]
  },
  {
   "cell_type": "code",
   "execution_count": 14,
   "metadata": {},
   "outputs": [
    {
     "data": {
      "image/png": "[encoded data removed]",
      "text/plain": [
       "<Figure size 800x600 with 2 Axes>"
      ]
     },
     "metadata": {},
     "output_type": "display_data"
    }
   ],
   "source": [
    "scan_vals = jnp.linspace(0, 2, 100)\n",
    "lhs, grads = jax.vmap(val_grad, in_axes=(0, None, None))(scan_vals, model_parameters, lik_p.llh)\n",
    "fig, (ax1, ax2) = plt.subplots(1, 2, figsize=(8, 6), sharex=True)\n",
    "ax1.plot(scan_vals, lhs)\n",
    "ax1.set_ylabel(\"LH\")\n",
    "ax2.plot(scan_vals, grads)\n",
    "ax2.set_ylabel(\"grad\")\n",
    "plt.tight_layout()"
   ]
  },
  {
   "cell_type": "code",
   "execution_count": 15,
   "metadata": {},
   "outputs": [],
   "source": [
    "wrapped_lh = pyFF.minimizer.WrappedLLH(lik_p, obs, dataset, {})\n",
    "\n"
   ]
  },
  {
   "cell_type": "code",
   "execution_count": 16,
   "metadata": {},
   "outputs": [],
   "source": [
    "dest_args = pyFF.minimizer.destructure_args(model_parameters, ana.exposed_parameters, {})\n",
    "hess_func = jax.jit(jax.hessian(wrapped_lh))\n",
    "hessian = hess_func(jnp.asarray(dest_args))\n",
    "fisher = jnp.linalg.inv(hessian)\n",
    "#sns.heatmap(fisher, cmap=\"viridis\", xticklabels=ana.exposed_parameters, yticklabels=ana.exposed_parameters)"
   ]
  },
  {
   "cell_type": "code",
   "execution_count": 24,
   "metadata": {},
   "outputs": [],
   "source": [
    "fmin_and_grad = jax.jit(jax.value_and_grad(wrapped_lh))"
   ]
  },
  {
   "cell_type": "code",
   "execution_count": 29,
   "metadata": {},
   "outputs": [
    {
     "data": {
      "text/plain": [
       "(  message: CONVERGENCE: RELATIVE REDUCTION OF F <= FACTR*EPSMCH\n",
       "   success: True\n",
       "    status: 0\n",
       "       fun: 555.1632493599856\n",
       "         x: [ 2.370e+00  2.901e-01 -5.818e-02  9.973e-01  9.975e-01\n",
       "              3.393e-02]\n",
       "       nit: 32\n",
       "       jac: [ 0.000e+00  4.871e-04  1.575e-04  1.042e-03  1.239e-03\n",
       "              1.100e-02]\n",
       "      nfev: 37\n",
       "      njev: 37\n",
       "  hess_inv: <6x6 LbfgsInvHessProduct with dtype=float64>,\n",
       " {'astro_index': np.float64(2.37),\n",
       "  'astro_norm': 0.0,\n",
       "  'atmo_norm': np.float64(0.29008826952475436),\n",
       "  'delta_gamma': np.float64(-0.05817562107100916),\n",
       "  'escale': np.float64(0.9972685407561482),\n",
       "  'esmear': np.float64(0.9974751580500969),\n",
       "  'muon_norm': np.float64(0.03392812443036212)},\n",
       " 555.1632493599856)"
      ]
     },
     "execution_count": 29,
     "metadata": {},
     "output_type": "execute_result"
    }
   ],
   "source": [
    "mini = pyFF.minimizer.ScipyMinimizer(lik_p)\n",
    "\n",
    "mini.minimize(obs, dataset, fixed_pars={\"astro_norm\": 0.0})\n"
   ]
  },
  {
   "cell_type": "code",
   "execution_count": 56,
   "metadata": {},
   "outputs": [],
   "source": [
    "h0 = pyFF.statistics.Hypothesis(\n",
    "    \"Null\",\n",
    "    likelihood=lik_p,\n",
    "    fixed_pars={\"astro_norm\": 0.0},\n",
    ")\n",
    "\n",
    "h1 = pyFF.statistics.Hypothesis(\n",
    "    \"Alternative\",\n",
    "    likelihood=lik_p,\n",
    "    fixed_pars=None,\n",
    ")\n",
    "\n",
    "\n",
    "test = pyFF.statistics.HypothesisTest(h0, h1, dataset)\n"
   ]
  },
  {
   "cell_type": "code",
   "execution_count": 17,
   "metadata": {},
   "outputs": [],
   "source": [
    "test = pyFF.statistics.HypothesisTest.from_likelihood(lik_p, dataset, {\"astro_norm\": 0.0})"
   ]
  },
  {
   "cell_type": "code",
   "execution_count": 21,
   "metadata": {},
   "outputs": [],
   "source": [
    "obs = test.h0.asimov_experiment(dataset)\n",
    "scan_points, ts_val = test.scan(obs, 20)"
   ]
  },
  {
   "cell_type": "code",
   "execution_count": 22,
   "metadata": {},
   "outputs": [
    {
     "data": {
      "text/plain": [
       "<matplotlib.collections.PathCollection at 0x716fe0f5c690>"
      ]
     },
     "execution_count": 22,
     "metadata": {},
     "output_type": "execute_result"
    },
    {
     "data": {
      "image/png": "[encoded data removed]",
      "text/plain": [
       "<Figure size 640x480 with 1 Axes>"
      ]
     },
     "metadata": {},
     "output_type": "display_data"
    }
   ],
   "source": [
    "plt.scatter(scan_points, ts_val)"
   ]
  },
  {
   "cell_type": "code",
   "execution_count": null,
   "metadata": {},
   "outputs": [],
   "source": [
    "null_ts_vals = test.null_dist(500)\n"
   ]
  },
  {
   "cell_type": "code",
   "execution_count": null,
   "metadata": {},
   "outputs": [
    {
     "name": "stdout",
     "output_type": "stream",
     "text": [
      "called with x = 0.0\n",
      "called with x = 10.0\n",
      "called with x = 0.344140204692762\n",
      "called with x = 1.8427894047607447\n",
      "called with x = 0.8332721984934197\n",
      "called with x = 0.9208742761949203\n",
      "called with x = 1.3818318404778325\n",
      "called with x = 1.001116665211734\n",
      "called with x = 0.956856546380029\n"
     ]
    }
   ],
   "source": [
    "null_dist, alt_dist, alt_param_value = test.discovery_potential(400, 30, 2, 0.05, 10, null_dist=null_ts_vals)"
   ]
  },
  {
   "cell_type": "code",
   "execution_count": null,
   "metadata": {},
   "outputs": [],
   "source": [
    "sigma_level = 2.0\n",
    "\n",
    "# Calc median of alt dist\n",
    "alt_median = pyFF.backend.backend.median(alt_dist)   \n",
    "\n",
    "# Calc p-value for sigma level\n",
    "p_value = 1 - pyFF.backend.backend.norm_sf(sigma_level)\n",
    "\n",
    "# Calculate the threshold for discovery\n",
    "threshold = pyFF.backend.backend.quantile(null_dist, p_value)"
   ]
  },
  {
   "cell_type": "code",
   "execution_count": null,
   "metadata": {},
   "outputs": [
    {
     "name": "stdout",
     "output_type": "stream",
     "text": [
      "Parameter bounds: (0.0, 10.0)\n"
     ]
    }
   ],
   "source": [
    "alt_param_value_asimov = test.discovery_potential_asimov(sigma_level=2, xtol=0.02, maxiter=25)"
   ]
  },
  {
   "cell_type": "code",
   "execution_count": null,
   "metadata": {},
   "outputs": [
    {
     "data": {
      "text/plain": [
       "0.8169555000114688"
      ]
     },
     "execution_count": 44,
     "metadata": {},
     "output_type": "execute_result"
    }
   ],
   "source": [
    "alt_param_value_asimov"
   ]
  },
  {
   "cell_type": "code",
   "execution_count": null,
   "metadata": {},
   "outputs": [
    {
     "data": {
      "text/plain": [
       "(0.956856546380029, 0.8248826977840399)"
      ]
     },
     "execution_count": 78,
     "metadata": {},
     "output_type": "execute_result"
    }
   ],
   "source": [
    "alt_param_value, alt_param_value_asimov"
   ]
  },
  {
   "cell_type": "code",
   "execution_count": null,
   "metadata": {},
   "outputs": [
    {
     "data": {
      "text/plain": [
       "Text(0.5, 1.0, 'Test Statistic Distributions')"
      ]
     },
     "execution_count": 74,
     "metadata": {},
     "output_type": "execute_result"
    },
    {
     "data": {
      "image/png": "[encoded data removed]",
      "text/plain": [
       "<Figure size 640x480 with 1 Axes>"
      ]
     },
     "metadata": {},
     "output_type": "display_data"
    }
   ],
   "source": [
    "bins = np.linspace(0, 25, 10)\n",
    "plt.hist(null_dist, bins=bins, alpha=0.5, label='Null Distribution')\n",
    "plt.hist(alt_dist, bins=bins, alpha=0.5, label='Alternative Distribution')\n",
    "plt.axvline(threshold, color='red', linestyle='--', label='Discovery Threshold')\n",
    "plt.axvline(alt_median, color='green', linestyle='--', label='Alt Median')\n",
    "plt.xlabel('Test Statistic')\n",
    "plt.ylabel('Frequency')\n",
    "plt.legend()\n",
    "plt.title('Test Statistic Distributions')\n"
   ]
  },
  {
   "cell_type": "code",
   "execution_count": 75,
   "metadata": {},
   "outputs": [],
   "source": [
    "null_asimov = h0.asimov_experiment()\n",
    "alt_asimov = h1.asimov_experiment()\n",
    "\n",
    "ts_asimov_null = test.test(null_asimov)\n",
    "ts_asimov_alt = test.test(alt_asimov)\n"
   ]
  },
  {
   "cell_type": "code",
   "execution_count": 49,
   "metadata": {},
   "outputs": [],
   "source": [
    "import scipy.optimize\n",
    "\n",
    "astro_scan = np.linspace(0, 3, 100)\n",
    "\n",
    "scan_res = []\n",
    "\n",
    "for astro in astro_scan:\n",
    "\n",
    "    bounds = scipy.optimize.Bounds(\n",
    "        [astro,      1.0, 0.9, 0.9, 0,      -1],\n",
    "        [astro,      4.0, 1.1, 1.1, np.inf,  1]\n",
    "    )\n",
    "\n",
    "    res = scipy.optimize.minimize(fmin_and_grad, [1.001, 2.37, 1., 1., 1., 0.01], bounds=bounds, jac=True, method=\"L-BFGS-B\", tol=10)\n",
    "    scan_res.append(res.fun)\n",
    "\n",
    "bounds = scipy.optimize.Bounds(\n",
    "        [0,      1.0, 0.9, 0.9, 0,      -1],\n",
    "        [np.inf,      4.0, 1.1, 1.1, np.inf,  1]\n",
    "    )\n",
    "\n",
    "free_fit = scipy.optimize.minimize(fmin_and_grad, [1.001, 2.37, 1., 1., 1., 0.01], bounds=bounds, jac=True, method=\"L-BFGS-B\", tol=10)"
   ]
  },
  {
   "cell_type": "code",
   "execution_count": 52,
   "metadata": {},
   "outputs": [
    {
     "data": {
      "text/plain": [
       "Text(0, 0.5, 'Test Statistic')"
      ]
     },
     "execution_count": 52,
     "metadata": {},
     "output_type": "execute_result"
    },
    {
     "data": {
      "image/png": "[encoded data removed]",
      "text/plain": [
       "<Figure size 640x480 with 1 Axes>"
      ]
     },
     "metadata": {},
     "output_type": "display_data"
    }
   ],
   "source": [
    "plt.plot(astro_scan, 2*(np.asarray(scan_res) - free_fit.fun))\n",
    "plt.xlabel(\"Astro Norm\")\n",
    "plt.ylabel(\"Test Statistic\")"
   ]
  },
  {
   "cell_type": "code",
   "execution_count": 75,
   "metadata": {},
   "outputs": [
    {
     "data": {
      "text/plain": [
       "[<matplotlib.lines.Line2D at 0x7fc8061b3140>]"
      ]
     },
     "execution_count": 75,
     "metadata": {},
     "output_type": "execute_result"
    },
    {
     "data": {
      "image/png": "[encoded data removed]",
      "text/plain": [
       "<Figure size 640x480 with 1 Axes>"
      ]
     },
     "metadata": {},
     "output_type": "display_data"
    }
   ],
   "source": [
    "nn_in = jnp.vstack([\n",
    "            input_variables[\"log10_reco_energy\"],\n",
    "            input_variables[\"cos_reco_zenith\"],]).T\n",
    "summary_stat = state.apply_fn({\"params\": state.params}, nn_in)[:, 0]\n",
    "input_variables[\"summary_stat\"] = summary_stat\n",
    "dataset = {\"det1\": input_variables}\n",
    "hist, hist_ssq = ana.evaluate(dataset, model_parameters)\n",
    "hsum = hist[\"det1\"]\n",
    "plt.step(be.binning.bin_edges[0], jnp.append(hsum, hsum[-1]))"
   ]
  },
  {
   "cell_type": "code",
   "execution_count": 20,
   "metadata": {},
   "outputs": [
    {
     "data": {
      "image/svg+xml": [
       "<?xml version=\"1.0\" encoding=\"UTF-8\" standalone=\"no\"?>\n",
       "<!DOCTYPE svg PUBLIC \"-//W3C//DTD SVG 1.1//EN\"\n",
       " \"http://www.w3.org/Graphics/SVG/1.1/DTD/svg11.dtd\">\n",
       "<!-- Generated by graphviz version 13.1.1 (20250720.1534)\n",
       " -->\n",
       "<!-- Pages: 1 -->\n",
       "<svg width=\"1008pt\" height=\"316pt\"\n",
       " viewBox=\"0.00 0.00 1008.00 316.00\" xmlns=\"http://www.w3.org/2000/svg\" xmlns:xlink=\"http://www.w3.org/1999/xlink\">\n",
       "<g id=\"graph0\" class=\"graph\" transform=\"scale(0.698082 0.698082) rotate(0) translate(4 448.3)\">\n",
       "<polygon fill=\"white\" stroke=\"none\" points=\"-4,4 -4,-448.3 1439.96,-448.3 1439.96,4 -4,4\"/>\n",
       "<!-- Analysis -->\n",
       "<g id=\"node1\" class=\"node\">\n",
       "<title>Analysis</title>\n",
       "<polygon fill=\"#ff6b6b\" stroke=\"black\" points=\"975.66,-444.3 921.66,-444.3 921.66,-408.3 975.66,-408.3 975.66,-444.3\"/>\n",
       "<text xml:space=\"preserve\" text-anchor=\"middle\" x=\"948.66\" y=\"-423.57\" font-family=\"Arial\" font-size=\"8.00\" fill=\"white\">Analysis</text>\n",
       "</g>\n",
       "<!-- Expectation_det1 -->\n",
       "<g id=\"node2\" class=\"node\">\n",
       "<title>Expectation_det1</title>\n",
       "<polygon fill=\"#4ecdc4\" stroke=\"black\" points=\"981.04,-372.3 916.29,-372.3 916.29,-336.3 981.04,-336.3 981.04,-372.3\"/>\n",
       "<text xml:space=\"preserve\" text-anchor=\"middle\" x=\"948.66\" y=\"-356.45\" font-family=\"Arial\" font-size=\"8.00\">Expectation</text>\n",
       "<text xml:space=\"preserve\" text-anchor=\"middle\" x=\"948.66\" y=\"-346.7\" font-family=\"Arial\" font-size=\"8.00\">det1</text>\n",
       "</g>\n",
       "<!-- Analysis&#45;&gt;Expectation_det1 -->\n",
       "<g id=\"edge1\" class=\"edge\">\n",
       "<title>Analysis&#45;&gt;Expectation_det1</title>\n",
       "<path fill=\"none\" stroke=\"black\" d=\"M948.66,-407.99C948.66,-400.7 948.66,-392.02 948.66,-383.83\"/>\n",
       "<polygon fill=\"black\" stroke=\"black\" points=\"952.16,-383.91 948.66,-373.91 945.16,-383.91 952.16,-383.91\"/>\n",
       "</g>\n",
       "<!-- Binning_det1 -->\n",
       "<g id=\"node3\" class=\"node\">\n",
       "<title>Binning_det1</title>\n",
       "<polygon fill=\"#ff9999\" stroke=\"black\" points=\"948.66,-300.3 785.66,-263.05 948.66,-225.8 1111.66,-263.05 948.66,-300.3\"/>\n",
       "<text xml:space=\"preserve\" text-anchor=\"middle\" x=\"948.66\" y=\"-270.07\" font-family=\"Arial\" font-size=\"8.00\">Binning</text>\n",
       "<text xml:space=\"preserve\" text-anchor=\"middle\" x=\"948.66\" y=\"-260.32\" font-family=\"Arial\" font-size=\"8.00\">RectangularBinning</text>\n",
       "<text xml:space=\"preserve\" text-anchor=\"middle\" x=\"948.66\" y=\"-250.57\" font-family=\"Arial\" font-size=\"8.00\">log10_reco_energy, cos_reco_zenith</text>\n",
       "</g>\n",
       "<!-- Expectation_det1&#45;&gt;Binning_det1 -->\n",
       "<g id=\"edge2\" class=\"edge\">\n",
       "<title>Expectation_det1&#45;&gt;Binning_det1</title>\n",
       "<path fill=\"none\" stroke=\"black\" d=\"M948.66,-336.09C948.66,-329.11 948.66,-320.68 948.66,-312.08\"/>\n",
       "<polygon fill=\"black\" stroke=\"black\" points=\"952.16,-312.29 948.66,-302.29 945.16,-312.29 952.16,-312.29\"/>\n",
       "</g>\n",
       "<!-- Model_model_det1 -->\n",
       "<g id=\"node4\" class=\"node\">\n",
       "<title>Model_model_det1</title>\n",
       "<polygon fill=\"#45b7d1\" stroke=\"black\" points=\"737.66,-281.05 683.66,-281.05 683.66,-245.05 737.66,-245.05 737.66,-281.05\"/>\n",
       "<text xml:space=\"preserve\" text-anchor=\"middle\" x=\"710.66\" y=\"-265.2\" font-family=\"Arial\" font-size=\"8.00\" fill=\"white\">Model</text>\n",
       "<text xml:space=\"preserve\" text-anchor=\"middle\" x=\"710.66\" y=\"-255.45\" font-family=\"Arial\" font-size=\"8.00\" fill=\"white\">model</text>\n",
       "</g>\n",
       "<!-- Expectation_det1&#45;&gt;Model_model_det1 -->\n",
       "<g id=\"edge3\" class=\"edge\">\n",
       "<title>Expectation_det1&#45;&gt;Model_model_det1</title>\n",
       "<path fill=\"none\" stroke=\"black\" d=\"M915.95,-345.34C880.82,-336.31 823.71,-320.22 776.66,-300.3 767.13,-296.26 757.18,-291.25 747.98,-286.26\"/>\n",
       "<polygon fill=\"black\" stroke=\"black\" points=\"749.74,-283.23 739.3,-281.42 746.33,-289.35 749.74,-283.23\"/>\n",
       "</g>\n",
       "<!-- Model_mock_muon_model_det1 -->\n",
       "<g id=\"node5\" class=\"node\">\n",
       "<title>Model_mock_muon_model_det1</title>\n",
       "<polygon fill=\"#45b7d1\" stroke=\"black\" points=\"1238.7,-281.05 1144.7,-281.05 1144.7,-245.05 1238.7,-245.05 1238.7,-281.05\"/>\n",
       "<text xml:space=\"preserve\" text-anchor=\"middle\" x=\"1191.7\" y=\"-265.2\" font-family=\"Arial\" font-size=\"8.00\" fill=\"white\">Model</text>\n",
       "<text xml:space=\"preserve\" text-anchor=\"middle\" x=\"1191.7\" y=\"-255.45\" font-family=\"Arial\" font-size=\"8.00\" fill=\"white\">mock_muon_model</text>\n",
       "</g>\n",
       "<!-- Expectation_det1&#45;&gt;Model_mock_muon_model_det1 -->\n",
       "<g id=\"edge4\" class=\"edge\">\n",
       "<title>Expectation_det1&#45;&gt;Model_mock_muon_model_det1</title>\n",
       "<path fill=\"none\" stroke=\"black\" d=\"M981.26,-345.06C1016.3,-335.8 1073.3,-319.51 1120.7,-300.3 1130.5,-296.32 1140.7,-291.49 1150.3,-286.67\"/>\n",
       "<polygon fill=\"black\" stroke=\"black\" points=\"1151.76,-289.86 1159.05,-282.17 1148.56,-283.63 1151.76,-289.86\"/>\n",
       "</g>\n",
       "<!-- Component_astro_model_det1 -->\n",
       "<g id=\"node6\" class=\"node\">\n",
       "<title>Component_astro_model_det1</title>\n",
       "<polygon fill=\"#96ceb4\" stroke=\"black\" points=\"349.54,-157.86 227.78,-157.86 227.78,-120.61 349.54,-120.61 349.54,-157.86\"/>\n",
       "<text xml:space=\"preserve\" text-anchor=\"middle\" x=\"288.66\" y=\"-146.26\" font-family=\"Arial\" font-size=\"8.00\">Component</text>\n",
       "<text xml:space=\"preserve\" text-anchor=\"middle\" x=\"288.66\" y=\"-136.51\" font-family=\"Arial\" font-size=\"8.00\">astro</text>\n",
       "<text xml:space=\"preserve\" text-anchor=\"middle\" x=\"288.66\" y=\"-126.76\" font-family=\"Arial\" font-size=\"8.00\">(weight: baseline_weight)</text>\n",
       "</g>\n",
       "<!-- Model_model_det1&#45;&gt;Component_astro_model_det1 -->\n",
       "<g id=\"edge5\" class=\"edge\">\n",
       "<title>Model_model_det1&#45;&gt;Component_astro_model_det1</title>\n",
       "<path fill=\"none\" stroke=\"black\" d=\"M683.18,-259.14C624.61,-252.31 483.86,-232.48 373.66,-189.8 356.42,-183.12 338.55,-173.22 323.68,-164.02\"/>\n",
       "<polygon fill=\"black\" stroke=\"black\" points=\"325.97,-161.33 315.65,-158.93 322.22,-167.24 325.97,-161.33\"/>\n",
       "</g>\n",
       "<!-- Component_atmo_model_det1 -->\n",
       "<g id=\"node7\" class=\"node\">\n",
       "<title>Component_atmo_model_det1</title>\n",
       "<polygon fill=\"#96ceb4\" stroke=\"black\" points=\"763.66,-157.86 657.66,-157.86 657.66,-120.61 763.66,-120.61 763.66,-157.86\"/>\n",
       "<text xml:space=\"preserve\" text-anchor=\"middle\" x=\"710.66\" y=\"-146.26\" font-family=\"Arial\" font-size=\"8.00\">Component</text>\n",
       "<text xml:space=\"preserve\" text-anchor=\"middle\" x=\"710.66\" y=\"-136.51\" font-family=\"Arial\" font-size=\"8.00\">atmo</text>\n",
       "<text xml:space=\"preserve\" text-anchor=\"middle\" x=\"710.66\" y=\"-126.76\" font-family=\"Arial\" font-size=\"8.00\">(weight: conv_weight)</text>\n",
       "</g>\n",
       "<!-- Model_model_det1&#45;&gt;Component_atmo_model_det1 -->\n",
       "<g id=\"edge6\" class=\"edge\">\n",
       "<title>Model_model_det1&#45;&gt;Component_atmo_model_det1</title>\n",
       "<path fill=\"none\" stroke=\"black\" d=\"M710.66,-244.59C710.66,-224.99 710.66,-192.84 710.66,-169.41\"/>\n",
       "<polygon fill=\"black\" stroke=\"black\" points=\"714.16,-169.56 710.66,-159.56 707.16,-169.56 714.16,-169.56\"/>\n",
       "</g>\n",
       "<!-- Component_muons_mock_muon_model_det1 -->\n",
       "<g id=\"node8\" class=\"node\">\n",
       "<title>Component_muons_mock_muon_model_det1</title>\n",
       "<polygon fill=\"#96ceb4\" stroke=\"black\" points=\"1254.58,-157.86 1144.83,-157.86 1144.83,-120.61 1254.58,-120.61 1254.58,-157.86\"/>\n",
       "<text xml:space=\"preserve\" text-anchor=\"middle\" x=\"1199.7\" y=\"-146.26\" font-family=\"Arial\" font-size=\"8.00\">Component</text>\n",
       "<text xml:space=\"preserve\" text-anchor=\"middle\" x=\"1199.7\" y=\"-136.51\" font-family=\"Arial\" font-size=\"8.00\">muons</text>\n",
       "<text xml:space=\"preserve\" text-anchor=\"middle\" x=\"1199.7\" y=\"-126.76\" font-family=\"Arial\" font-size=\"8.00\">(weight: muon_weight)</text>\n",
       "</g>\n",
       "<!-- Model_mock_muon_model_det1&#45;&gt;Component_muons_mock_muon_model_det1 -->\n",
       "<g id=\"edge7\" class=\"edge\">\n",
       "<title>Model_mock_muon_model_det1&#45;&gt;Component_muons_mock_muon_model_det1</title>\n",
       "<path fill=\"none\" stroke=\"black\" d=\"M1192.8,-244.59C1194.1,-224.99 1196.2,-192.84 1197.7,-169.41\"/>\n",
       "<polygon fill=\"black\" stroke=\"black\" points=\"1201.18,-169.78 1198.39,-159.56 1194.2,-169.29 1201.18,-169.78\"/>\n",
       "</g>\n",
       "<!-- Factor_powerlaw_astro_model_det1 -->\n",
       "<g id=\"node9\" class=\"node\">\n",
       "<title>Factor_powerlaw_astro_model_det1</title>\n",
       "<ellipse fill=\"#fcea2b\" stroke=\"black\" cx=\"133.66\" cy=\"-26.34\" rx=\"56.39\" ry=\"26.34\"/>\n",
       "<text xml:space=\"preserve\" text-anchor=\"middle\" x=\"133.66\" y=\"-33.36\" font-family=\"Arial\" font-size=\"8.00\">Factor</text>\n",
       "<text xml:space=\"preserve\" text-anchor=\"middle\" x=\"133.66\" y=\"-23.61\" font-family=\"Arial\" font-size=\"8.00\">powerlaw</text>\n",
       "<text xml:space=\"preserve\" text-anchor=\"middle\" x=\"133.66\" y=\"-13.86\" font-family=\"Arial\" font-size=\"8.00\">(PowerLawFlux)</text>\n",
       "</g>\n",
       "<!-- Component_astro_model_det1&#45;&gt;Factor_powerlaw_astro_model_det1 -->\n",
       "<g id=\"edge8\" class=\"edge\">\n",
       "<title>Component_astro_model_det1&#45;&gt;Factor_powerlaw_astro_model_det1</title>\n",
       "<path fill=\"none\" stroke=\"black\" d=\"M263.42,-120.17C238.98,-102.69 201.58,-75.93 173.2,-55.63\"/>\n",
       "<polygon fill=\"black\" stroke=\"black\" points=\"175.36,-52.87 165.19,-49.89 171.28,-58.56 175.36,-52.87\"/>\n",
       "</g>\n",
       "<!-- Factor_snowstorm_escale_astro_model_det1 -->\n",
       "<g id=\"node10\" class=\"node\">\n",
       "<title>Factor_snowstorm_escale_astro_model_det1</title>\n",
       "<ellipse fill=\"#fcea2b\" stroke=\"black\" cx=\"273.66\" cy=\"-26.34\" rx=\"65.94\" ry=\"26.34\"/>\n",
       "<text xml:space=\"preserve\" text-anchor=\"middle\" x=\"273.66\" y=\"-33.36\" font-family=\"Arial\" font-size=\"8.00\">Factor</text>\n",
       "<text xml:space=\"preserve\" text-anchor=\"middle\" x=\"273.66\" y=\"-23.61\" font-family=\"Arial\" font-size=\"8.00\">snowstorm_escale</text>\n",
       "<text xml:space=\"preserve\" text-anchor=\"middle\" x=\"273.66\" y=\"-13.86\" font-family=\"Arial\" font-size=\"8.00\">(SnowstormGauss)</text>\n",
       "</g>\n",
       "<!-- Component_astro_model_det1&#45;&gt;Factor_snowstorm_escale_astro_model_det1 -->\n",
       "<g id=\"edge9\" class=\"edge\">\n",
       "<title>Component_astro_model_det1&#45;&gt;Factor_snowstorm_escale_astro_model_det1</title>\n",
       "<path fill=\"none\" stroke=\"black\" d=\"M286.25,-120.42C284.21,-105.31 281.21,-83.14 278.65,-64.23\"/>\n",
       "<polygon fill=\"black\" stroke=\"black\" points=\"282.14,-63.91 277.33,-54.47 275.2,-64.84 282.14,-63.91\"/>\n",
       "</g>\n",
       "<!-- Factor_snowstorm_esmear_astro_model_det1 -->\n",
       "<g id=\"node11\" class=\"node\">\n",
       "<title>Factor_snowstorm_esmear_astro_model_det1</title>\n",
       "<ellipse fill=\"#fcea2b\" stroke=\"black\" cx=\"574.66\" cy=\"-26.34\" rx=\"67.53\" ry=\"26.34\"/>\n",
       "<text xml:space=\"preserve\" text-anchor=\"middle\" x=\"574.66\" y=\"-33.36\" font-family=\"Arial\" font-size=\"8.00\">Factor</text>\n",
       "<text xml:space=\"preserve\" text-anchor=\"middle\" x=\"574.66\" y=\"-23.61\" font-family=\"Arial\" font-size=\"8.00\">snowstorm_esmear</text>\n",
       "<text xml:space=\"preserve\" text-anchor=\"middle\" x=\"574.66\" y=\"-13.86\" font-family=\"Arial\" font-size=\"8.00\">(SnowstormGauss)</text>\n",
       "</g>\n",
       "<!-- Component_astro_model_det1&#45;&gt;Factor_snowstorm_esmear_astro_model_det1 -->\n",
       "<g id=\"edge10\" class=\"edge\">\n",
       "<title>Component_astro_model_det1&#45;&gt;Factor_snowstorm_esmear_astro_model_det1</title>\n",
       "<path fill=\"none\" stroke=\"black\" d=\"M315.71,-120.15C331.98,-109.86 353.4,-97.34 373.66,-88.68 426.82,-65.95 443.45,-69.83 498.66,-52.68 503.63,-51.14 508.77,-49.5 513.93,-47.84\"/>\n",
       "<polygon fill=\"black\" stroke=\"black\" points=\"514.62,-51.3 523.04,-44.87 512.45,-44.64 514.62,-51.3\"/>\n",
       "</g>\n",
       "<!-- Factor_atmo_norm_atmo_model_det1 -->\n",
       "<g id=\"node12\" class=\"node\">\n",
       "<title>Factor_atmo_norm_atmo_model_det1</title>\n",
       "<ellipse fill=\"#fcea2b\" stroke=\"black\" cx=\"703.66\" cy=\"-26.34\" rx=\"43.66\" ry=\"26.34\"/>\n",
       "<text xml:space=\"preserve\" text-anchor=\"middle\" x=\"703.66\" y=\"-33.36\" font-family=\"Arial\" font-size=\"8.00\">Factor</text>\n",
       "<text xml:space=\"preserve\" text-anchor=\"middle\" x=\"703.66\" y=\"-23.61\" font-family=\"Arial\" font-size=\"8.00\">atmo_norm</text>\n",
       "<text xml:space=\"preserve\" text-anchor=\"middle\" x=\"703.66\" y=\"-13.86\" font-family=\"Arial\" font-size=\"8.00\">(FluxNorm)</text>\n",
       "</g>\n",
       "<!-- Component_atmo_model_det1&#45;&gt;Factor_atmo_norm_atmo_model_det1 -->\n",
       "<g id=\"edge11\" class=\"edge\">\n",
       "<title>Component_atmo_model_det1&#45;&gt;Factor_atmo_norm_atmo_model_det1</title>\n",
       "<path fill=\"none\" stroke=\"black\" d=\"M709.54,-120.42C708.59,-105.31 707.19,-83.14 705.99,-64.23\"/>\n",
       "<polygon fill=\"black\" stroke=\"black\" points=\"709.5,-64.24 705.38,-54.48 702.51,-64.68 709.5,-64.24\"/>\n",
       "</g>\n",
       "<!-- Factor_delta_gamma_atmo_model_det1 -->\n",
       "<g id=\"node13\" class=\"node\">\n",
       "<title>Factor_delta_gamma_atmo_model_det1</title>\n",
       "<ellipse fill=\"#fcea2b\" stroke=\"black\" cx=\"818.66\" cy=\"-26.34\" rx=\"53.21\" ry=\"26.34\"/>\n",
       "<text xml:space=\"preserve\" text-anchor=\"middle\" x=\"818.66\" y=\"-33.36\" font-family=\"Arial\" font-size=\"8.00\">Factor</text>\n",
       "<text xml:space=\"preserve\" text-anchor=\"middle\" x=\"818.66\" y=\"-23.61\" font-family=\"Arial\" font-size=\"8.00\">delta_gamma</text>\n",
       "<text xml:space=\"preserve\" text-anchor=\"middle\" x=\"818.66\" y=\"-13.86\" font-family=\"Arial\" font-size=\"8.00\">(DeltaGamma)</text>\n",
       "</g>\n",
       "<!-- Component_atmo_model_det1&#45;&gt;Factor_delta_gamma_atmo_model_det1 -->\n",
       "<g id=\"edge12\" class=\"edge\">\n",
       "<title>Component_atmo_model_det1&#45;&gt;Factor_delta_gamma_atmo_model_det1</title>\n",
       "<path fill=\"none\" stroke=\"black\" d=\"M728.02,-120.42C744.19,-103.81 768.67,-78.68 788.11,-58.71\"/>\n",
       "<polygon fill=\"black\" stroke=\"black\" points=\"790.57,-61.2 795.04,-51.59 785.56,-56.31 790.57,-61.2\"/>\n",
       "</g>\n",
       "<!-- Factor_snowstorm_escale_atmo_model_det1 -->\n",
       "<g id=\"node14\" class=\"node\">\n",
       "<title>Factor_snowstorm_escale_atmo_model_det1</title>\n",
       "<ellipse fill=\"#fcea2b\" stroke=\"black\" cx=\"423.66\" cy=\"-26.34\" rx=\"65.94\" ry=\"26.34\"/>\n",
       "<text xml:space=\"preserve\" text-anchor=\"middle\" x=\"423.66\" y=\"-33.36\" font-family=\"Arial\" font-size=\"8.00\">Factor</text>\n",
       "<text xml:space=\"preserve\" text-anchor=\"middle\" x=\"423.66\" y=\"-23.61\" font-family=\"Arial\" font-size=\"8.00\">snowstorm_escale</text>\n",
       "<text xml:space=\"preserve\" text-anchor=\"middle\" x=\"423.66\" y=\"-13.86\" font-family=\"Arial\" font-size=\"8.00\">(SnowstormGauss)</text>\n",
       "</g>\n",
       "<!-- Component_atmo_model_det1&#45;&gt;Factor_snowstorm_escale_atmo_model_det1 -->\n",
       "<g id=\"edge13\" class=\"edge\">\n",
       "<title>Component_atmo_model_det1&#45;&gt;Factor_snowstorm_escale_atmo_model_det1</title>\n",
       "<path fill=\"none\" stroke=\"black\" d=\"M692.62,-120.24C680.98,-109.59 665.01,-96.66 648.66,-88.68 586.67,-58.41 563.93,-71.88 497.66,-52.68 492.84,-51.28 487.86,-49.76 482.88,-48.17\"/>\n",
       "<polygon fill=\"black\" stroke=\"black\" points=\"484.04,-44.87 473.45,-45.11 481.88,-51.53 484.04,-44.87\"/>\n",
       "</g>\n",
       "<!-- Factor_snowstorm_esmear_atmo_model_det1 -->\n",
       "<g id=\"node15\" class=\"node\">\n",
       "<title>Factor_snowstorm_esmear_atmo_model_det1</title>\n",
       "<ellipse fill=\"#fcea2b\" stroke=\"black\" cx=\"957.66\" cy=\"-26.34\" rx=\"67.53\" ry=\"26.34\"/>\n",
       "<text xml:space=\"preserve\" text-anchor=\"middle\" x=\"957.66\" y=\"-33.36\" font-family=\"Arial\" font-size=\"8.00\">Factor</text>\n",
       "<text xml:space=\"preserve\" text-anchor=\"middle\" x=\"957.66\" y=\"-23.61\" font-family=\"Arial\" font-size=\"8.00\">snowstorm_esmear</text>\n",
       "<text xml:space=\"preserve\" text-anchor=\"middle\" x=\"957.66\" y=\"-13.86\" font-family=\"Arial\" font-size=\"8.00\">(SnowstormGauss)</text>\n",
       "</g>\n",
       "<!-- Component_atmo_model_det1&#45;&gt;Factor_snowstorm_esmear_atmo_model_det1 -->\n",
       "<g id=\"edge14\" class=\"edge\">\n",
       "<title>Component_atmo_model_det1&#45;&gt;Factor_snowstorm_esmear_atmo_model_det1</title>\n",
       "<path fill=\"none\" stroke=\"black\" d=\"M729.5,-120.25C741.18,-109.87 756.92,-97.22 772.66,-88.68 774.12,-87.89 843.11,-65.08 896.41,-47.51\"/>\n",
       "<polygon fill=\"black\" stroke=\"black\" points=\"897.34,-50.89 905.74,-44.43 895.15,-44.24 897.34,-50.89\"/>\n",
       "</g>\n",
       "<!-- Factor_muon_norm_muons_mock_muon_model_det1 -->\n",
       "<g id=\"node16\" class=\"node\">\n",
       "<title>Factor_muon_norm_muons_mock_muon_model_det1</title>\n",
       "<ellipse fill=\"#fcea2b\" stroke=\"black\" cx=\"1390.7\" cy=\"-26.34\" rx=\"45.26\" ry=\"26.34\"/>\n",
       "<text xml:space=\"preserve\" text-anchor=\"middle\" x=\"1390.7\" y=\"-33.36\" font-family=\"Arial\" font-size=\"8.00\">Factor</text>\n",
       "<text xml:space=\"preserve\" text-anchor=\"middle\" x=\"1390.7\" y=\"-23.61\" font-family=\"Arial\" font-size=\"8.00\">muon_norm</text>\n",
       "<text xml:space=\"preserve\" text-anchor=\"middle\" x=\"1390.7\" y=\"-13.86\" font-family=\"Arial\" font-size=\"8.00\">(FluxNorm)</text>\n",
       "</g>\n",
       "<!-- Component_muons_mock_muon_model_det1&#45;&gt;Factor_muon_norm_muons_mock_muon_model_det1 -->\n",
       "<g id=\"edge15\" class=\"edge\">\n",
       "<title>Component_muons_mock_muon_model_det1&#45;&gt;Factor_muon_norm_muons_mock_muon_model_det1</title>\n",
       "<path fill=\"none\" stroke=\"black\" d=\"M1230.8,-120.17C1263.1,-101.38 1314,-71.86 1349.6,-51.17\"/>\n",
       "<polygon fill=\"black\" stroke=\"black\" points=\"1351.01,-54.4 1357.89,-46.34 1347.49,-48.35 1351.01,-54.4\"/>\n",
       "</g>\n",
       "<!-- Factor_snowstorm_escale_muons_mock_muon_model_det1 -->\n",
       "<g id=\"node17\" class=\"node\">\n",
       "<title>Factor_snowstorm_escale_muons_mock_muon_model_det1</title>\n",
       "<ellipse fill=\"#fcea2b\" stroke=\"black\" cx=\"1108.7\" cy=\"-26.34\" rx=\"65.94\" ry=\"26.34\"/>\n",
       "<text xml:space=\"preserve\" text-anchor=\"middle\" x=\"1108.7\" y=\"-33.36\" font-family=\"Arial\" font-size=\"8.00\">Factor</text>\n",
       "<text xml:space=\"preserve\" text-anchor=\"middle\" x=\"1108.7\" y=\"-23.61\" font-family=\"Arial\" font-size=\"8.00\">snowstorm_escale</text>\n",
       "<text xml:space=\"preserve\" text-anchor=\"middle\" x=\"1108.7\" y=\"-13.86\" font-family=\"Arial\" font-size=\"8.00\">(SnowstormGauss)</text>\n",
       "</g>\n",
       "<!-- Component_muons_mock_muon_model_det1&#45;&gt;Factor_snowstorm_escale_muons_mock_muon_model_det1 -->\n",
       "<g id=\"edge16\" class=\"edge\">\n",
       "<title>Component_muons_mock_muon_model_det1&#45;&gt;Factor_snowstorm_escale_muons_mock_muon_model_det1</title>\n",
       "<path fill=\"none\" stroke=\"black\" d=\"M1185,-120.42C1171.8,-104.28 1151.9,-80.08 1135.8,-60.41\"/>\n",
       "<polygon fill=\"black\" stroke=\"black\" points=\"1138.7,-58.42 1129.66,-52.9 1133.28,-62.86 1138.7,-58.42\"/>\n",
       "</g>\n",
       "<!-- Factor_snowstorm_esmear_muons_mock_muon_model_det1 -->\n",
       "<g id=\"node18\" class=\"node\">\n",
       "<title>Factor_snowstorm_esmear_muons_mock_muon_model_det1</title>\n",
       "<ellipse fill=\"#fcea2b\" stroke=\"black\" cx=\"1259.7\" cy=\"-26.34\" rx=\"67.53\" ry=\"26.34\"/>\n",
       "<text xml:space=\"preserve\" text-anchor=\"middle\" x=\"1259.7\" y=\"-33.36\" font-family=\"Arial\" font-size=\"8.00\">Factor</text>\n",
       "<text xml:space=\"preserve\" text-anchor=\"middle\" x=\"1259.7\" y=\"-23.61\" font-family=\"Arial\" font-size=\"8.00\">snowstorm_esmear</text>\n",
       "<text xml:space=\"preserve\" text-anchor=\"middle\" x=\"1259.7\" y=\"-13.86\" font-family=\"Arial\" font-size=\"8.00\">(SnowstormGauss)</text>\n",
       "</g>\n",
       "<!-- Component_muons_mock_muon_model_det1&#45;&gt;Factor_snowstorm_esmear_muons_mock_muon_model_det1 -->\n",
       "<g id=\"edge17\" class=\"edge\">\n",
       "<title>Component_muons_mock_muon_model_det1&#45;&gt;Factor_snowstorm_esmear_muons_mock_muon_model_det1</title>\n",
       "<path fill=\"none\" stroke=\"black\" d=\"M1209.3,-120.42C1217.7,-104.85 1230.2,-81.78 1240.6,-62.51\"/>\n",
       "<polygon fill=\"black\" stroke=\"black\" points=\"1243.59,-64.34 1245.28,-53.88 1237.44,-61 1243.59,-64.34\"/>\n",
       "</g>\n",
       "<!-- Dataset_dataset1 -->\n",
       "<g id=\"node19\" class=\"node\">\n",
       "<title>Dataset_dataset1</title>\n",
       "<polygon fill=\"#dda0dd\" stroke=\"black\" points=\"737.66,-372.3 734.66,-376.3 713.66,-376.3 710.66,-372.3 683.66,-372.3 683.66,-336.3 737.66,-336.3 737.66,-372.3\"/>\n",
       "<text xml:space=\"preserve\" text-anchor=\"middle\" x=\"710.66\" y=\"-356.45\" font-family=\"Arial\" font-size=\"8.00\">Dataset</text>\n",
       "<text xml:space=\"preserve\" text-anchor=\"middle\" x=\"710.66\" y=\"-346.7\" font-family=\"Arial\" font-size=\"8.00\">dataset1</text>\n",
       "</g>\n",
       "<!-- Dataset_dataset1&#45;&gt;Model_model_det1 -->\n",
       "<g id=\"edge18\" class=\"edge\">\n",
       "<title>Dataset_dataset1&#45;&gt;Model_model_det1</title>\n",
       "<path fill=\"none\" stroke=\"black\" d=\"M710.66,-336.09C710.66,-323.82 710.66,-307.04 710.66,-292.76\"/>\n",
       "<polygon fill=\"black\" stroke=\"black\" points=\"714.16,-293.02 710.66,-283.02 707.16,-293.02 714.16,-293.02\"/>\n",
       "</g>\n",
       "<!-- Dataset_dataset2 -->\n",
       "<g id=\"node20\" class=\"node\">\n",
       "<title>Dataset_dataset2</title>\n",
       "<polygon fill=\"#dda0dd\" stroke=\"black\" points=\"1218.7,-372.3 1215.7,-376.3 1194.7,-376.3 1191.7,-372.3 1164.7,-372.3 1164.7,-336.3 1218.7,-336.3 1218.7,-372.3\"/>\n",
       "<text xml:space=\"preserve\" text-anchor=\"middle\" x=\"1191.7\" y=\"-356.45\" font-family=\"Arial\" font-size=\"8.00\">Dataset</text>\n",
       "<text xml:space=\"preserve\" text-anchor=\"middle\" x=\"1191.7\" y=\"-346.7\" font-family=\"Arial\" font-size=\"8.00\">dataset2</text>\n",
       "</g>\n",
       "<!-- Dataset_dataset2&#45;&gt;Model_mock_muon_model_det1 -->\n",
       "<g id=\"edge19\" class=\"edge\">\n",
       "<title>Dataset_dataset2&#45;&gt;Model_mock_muon_model_det1</title>\n",
       "<path fill=\"none\" stroke=\"black\" d=\"M1191.7,-336.09C1191.7,-323.82 1191.7,-307.04 1191.7,-292.76\"/>\n",
       "<polygon fill=\"black\" stroke=\"black\" points=\"1195.2,-293.02 1191.7,-283.02 1188.2,-293.02 1195.2,-293.02\"/>\n",
       "</g>\n",
       "<!-- Parameter_astro_norm -->\n",
       "<g id=\"node21\" class=\"node\">\n",
       "<title>Parameter_astro_norm</title>\n",
       "<ellipse fill=\"#ffb347\" stroke=\"black\" cx=\"43.66\" cy=\"-139.24\" rx=\"43.66\" ry=\"43.66\"/>\n",
       "<text xml:space=\"preserve\" text-anchor=\"middle\" x=\"43.66\" y=\"-141.39\" font-family=\"Arial\" font-size=\"8.00\">Parameter</text>\n",
       "<text xml:space=\"preserve\" text-anchor=\"middle\" x=\"43.66\" y=\"-131.64\" font-family=\"Arial\" font-size=\"8.00\">astro_norm</text>\n",
       "</g>\n",
       "<!-- Parameter_astro_norm&#45;&gt;Factor_powerlaw_astro_model_det1 -->\n",
       "<g id=\"edge20\" class=\"edge\">\n",
       "<title>Parameter_astro_norm&#45;&gt;Factor_powerlaw_astro_model_det1</title>\n",
       "<path fill=\"none\" stroke=\"black\" d=\"M70.91,-104.66C82.37,-90.54 95.66,-74.17 107.05,-60.13\"/>\n",
       "<polygon fill=\"black\" stroke=\"black\" points=\"109.68,-62.44 113.27,-52.47 104.25,-58.03 109.68,-62.44\"/>\n",
       "</g>\n",
       "<!-- Parameter_astro_index -->\n",
       "<g id=\"node22\" class=\"node\">\n",
       "<title>Parameter_astro_index</title>\n",
       "<ellipse fill=\"#ffb347\" stroke=\"black\" cx=\"149.66\" cy=\"-139.24\" rx=\"44.19\" ry=\"44.19\"/>\n",
       "<text xml:space=\"preserve\" text-anchor=\"middle\" x=\"149.66\" y=\"-141.39\" font-family=\"Arial\" font-size=\"8.00\">Parameter</text>\n",
       "<text xml:space=\"preserve\" text-anchor=\"middle\" x=\"149.66\" y=\"-131.64\" font-family=\"Arial\" font-size=\"8.00\">astro_index</text>\n",
       "</g>\n",
       "<!-- Parameter_astro_index&#45;&gt;Factor_powerlaw_astro_model_det1 -->\n",
       "<g id=\"edge21\" class=\"edge\">\n",
       "<title>Parameter_astro_index&#45;&gt;Factor_powerlaw_astro_model_det1</title>\n",
       "<path fill=\"none\" stroke=\"black\" d=\"M143.43,-95.04C141.96,-84.81 140.4,-74 138.97,-64.09\"/>\n",
       "<polygon fill=\"black\" stroke=\"black\" points=\"142.47,-63.85 137.58,-54.46 135.54,-64.85 142.47,-63.85\"/>\n",
       "</g>\n",
       "<!-- Parameter_escale -->\n",
       "<g id=\"node23\" class=\"node\">\n",
       "<title>Parameter_escale</title>\n",
       "<ellipse fill=\"#ffb347\" stroke=\"black\" cx=\"423.66\" cy=\"-139.24\" rx=\"41.01\" ry=\"41.01\"/>\n",
       "<text xml:space=\"preserve\" text-anchor=\"middle\" x=\"423.66\" y=\"-141.39\" font-family=\"Arial\" font-size=\"8.00\">Parameter</text>\n",
       "<text xml:space=\"preserve\" text-anchor=\"middle\" x=\"423.66\" y=\"-131.64\" font-family=\"Arial\" font-size=\"8.00\">escale</text>\n",
       "</g>\n",
       "<!-- Parameter_escale&#45;&gt;Factor_snowstorm_escale_astro_model_det1 -->\n",
       "<g id=\"edge22\" class=\"edge\">\n",
       "<title>Parameter_escale&#45;&gt;Factor_snowstorm_escale_astro_model_det1</title>\n",
       "<path fill=\"none\" stroke=\"black\" d=\"M391.39,-113.37C380.99,-105.42 369.38,-96.63 358.66,-88.68 344.28,-78.01 328.39,-66.47 314.28,-56.32\"/>\n",
       "<polygon fill=\"black\" stroke=\"black\" points=\"316.69,-53.73 306.52,-50.75 312.6,-59.42 316.69,-53.73\"/>\n",
       "</g>\n",
       "<!-- Parameter_escale&#45;&gt;Factor_snowstorm_escale_atmo_model_det1 -->\n",
       "<g id=\"edge23\" class=\"edge\">\n",
       "<title>Parameter_escale&#45;&gt;Factor_snowstorm_escale_atmo_model_det1</title>\n",
       "<path fill=\"none\" stroke=\"black\" d=\"M423.66,-97.89C423.66,-86.88 423.66,-75.02 423.66,-64.21\"/>\n",
       "<polygon fill=\"black\" stroke=\"black\" points=\"427.16,-64.51 423.66,-54.51 420.16,-64.51 427.16,-64.51\"/>\n",
       "</g>\n",
       "<!-- Parameter_escale&#45;&gt;Factor_snowstorm_escale_muons_mock_muon_model_det1 -->\n",
       "<g id=\"edge24\" class=\"edge\">\n",
       "<title>Parameter_escale&#45;&gt;Factor_snowstorm_escale_muons_mock_muon_model_det1</title>\n",
       "<path fill=\"none\" stroke=\"black\" d=\"M460.15,-119.44C483.19,-108.49 513.93,-95.52 542.66,-88.68 755.95,-37.88 819.85,-96.55 1034.7,-52.68 1040.2,-51.55 1045.8,-50.13 1051.5,-48.53\"/>\n",
       "<polygon fill=\"black\" stroke=\"black\" points=\"1052.2,-51.97 1060.75,-45.72 1050.17,-45.28 1052.2,-51.97\"/>\n",
       "</g>\n",
       "<!-- Parameter_esmear -->\n",
       "<g id=\"node24\" class=\"node\">\n",
       "<title>Parameter_esmear</title>\n",
       "<ellipse fill=\"#ffb347\" stroke=\"black\" cx=\"957.66\" cy=\"-139.24\" rx=\"41.01\" ry=\"41.01\"/>\n",
       "<text xml:space=\"preserve\" text-anchor=\"middle\" x=\"957.66\" y=\"-141.39\" font-family=\"Arial\" font-size=\"8.00\">Parameter</text>\n",
       "<text xml:space=\"preserve\" text-anchor=\"middle\" x=\"957.66\" y=\"-131.64\" font-family=\"Arial\" font-size=\"8.00\">esmear</text>\n",
       "</g>\n",
       "<!-- Parameter_esmear&#45;&gt;Factor_snowstorm_esmear_astro_model_det1 -->\n",
       "<g id=\"edge25\" class=\"edge\">\n",
       "<title>Parameter_esmear&#45;&gt;Factor_snowstorm_esmear_astro_model_det1</title>\n",
       "<path fill=\"none\" stroke=\"black\" d=\"M927.94,-110.57C917.49,-102.27 905.21,-93.98 892.66,-88.68 792.49,-46.38 756.42,-77.97 650.66,-52.68 645.22,-51.38 639.62,-49.86 634.03,-48.23\"/>\n",
       "<polygon fill=\"black\" stroke=\"black\" points=\"635.39,-44.98 624.81,-45.41 633.35,-51.68 635.39,-44.98\"/>\n",
       "</g>\n",
       "<!-- Parameter_esmear&#45;&gt;Factor_snowstorm_esmear_atmo_model_det1 -->\n",
       "<g id=\"edge26\" class=\"edge\">\n",
       "<title>Parameter_esmear&#45;&gt;Factor_snowstorm_esmear_atmo_model_det1</title>\n",
       "<path fill=\"none\" stroke=\"black\" d=\"M957.66,-97.89C957.66,-86.88 957.66,-75.02 957.66,-64.21\"/>\n",
       "<polygon fill=\"black\" stroke=\"black\" points=\"961.16,-64.51 957.66,-54.51 954.16,-64.51 961.16,-64.51\"/>\n",
       "</g>\n",
       "<!-- Parameter_esmear&#45;&gt;Factor_snowstorm_esmear_muons_mock_muon_model_det1 -->\n",
       "<g id=\"edge27\" class=\"edge\">\n",
       "<title>Parameter_esmear&#45;&gt;Factor_snowstorm_esmear_muons_mock_muon_model_det1</title>\n",
       "<path fill=\"none\" stroke=\"black\" d=\"M996.22,-124.08C1048,-105.08 1140.4,-71.14 1200.8,-48.94\"/>\n",
       "<polygon fill=\"black\" stroke=\"black\" points=\"1201.78,-52.31 1209.98,-45.59 1199.38,-45.73 1201.78,-52.31\"/>\n",
       "</g>\n",
       "<!-- Parameter_atmo_norm -->\n",
       "<g id=\"node25\" class=\"node\">\n",
       "<title>Parameter_atmo_norm</title>\n",
       "<ellipse fill=\"#ffb347\" stroke=\"black\" cx=\"595.66\" cy=\"-139.24\" rx=\"43.66\" ry=\"43.66\"/>\n",
       "<text xml:space=\"preserve\" text-anchor=\"middle\" x=\"595.66\" y=\"-141.39\" font-family=\"Arial\" font-size=\"8.00\">Parameter</text>\n",
       "<text xml:space=\"preserve\" text-anchor=\"middle\" x=\"595.66\" y=\"-131.64\" font-family=\"Arial\" font-size=\"8.00\">atmo_norm</text>\n",
       "</g>\n",
       "<!-- Parameter_atmo_norm&#45;&gt;Factor_atmo_norm_atmo_model_det1 -->\n",
       "<g id=\"edge28\" class=\"edge\">\n",
       "<title>Parameter_atmo_norm&#45;&gt;Factor_atmo_norm_atmo_model_det1</title>\n",
       "<path fill=\"none\" stroke=\"black\" d=\"M625.75,-107.35C640.81,-91.88 658.98,-73.22 673.99,-57.81\"/>\n",
       "<polygon fill=\"black\" stroke=\"black\" points=\"676.44,-60.32 680.9,-50.71 671.42,-55.44 676.44,-60.32\"/>\n",
       "</g>\n",
       "<!-- Parameter_delta_gamma -->\n",
       "<g id=\"node26\" class=\"node\">\n",
       "<title>Parameter_delta_gamma</title>\n",
       "<ellipse fill=\"#ffb347\" stroke=\"black\" cx=\"832.66\" cy=\"-139.24\" rx=\"50.56\" ry=\"50.56\"/>\n",
       "<text xml:space=\"preserve\" text-anchor=\"middle\" x=\"832.66\" y=\"-141.39\" font-family=\"Arial\" font-size=\"8.00\">Parameter</text>\n",
       "<text xml:space=\"preserve\" text-anchor=\"middle\" x=\"832.66\" y=\"-131.64\" font-family=\"Arial\" font-size=\"8.00\">delta_gamma</text>\n",
       "</g>\n",
       "<!-- Parameter_delta_gamma&#45;&gt;Factor_delta_gamma_atmo_model_det1 -->\n",
       "<g id=\"edge29\" class=\"edge\">\n",
       "<title>Parameter_delta_gamma&#45;&gt;Factor_delta_gamma_atmo_model_det1</title>\n",
       "<path fill=\"none\" stroke=\"black\" d=\"M826.4,-88.63C825.37,-80.43 824.31,-72.06 823.32,-64.25\"/>\n",
       "<polygon fill=\"black\" stroke=\"black\" points=\"826.8,-63.9 822.08,-54.42 819.86,-64.78 826.8,-63.9\"/>\n",
       "</g>\n",
       "<!-- Parameter_muon_norm -->\n",
       "<g id=\"node27\" class=\"node\">\n",
       "<title>Parameter_muon_norm</title>\n",
       "<ellipse fill=\"#ffb347\" stroke=\"black\" cx=\"1390.7\" cy=\"-139.24\" rx=\"45.26\" ry=\"45.26\"/>\n",
       "<text xml:space=\"preserve\" text-anchor=\"middle\" x=\"1390.7\" y=\"-141.39\" font-family=\"Arial\" font-size=\"8.00\">Parameter</text>\n",
       "<text xml:space=\"preserve\" text-anchor=\"middle\" x=\"1390.7\" y=\"-131.64\" font-family=\"Arial\" font-size=\"8.00\">muon_norm</text>\n",
       "</g>\n",
       "<!-- Parameter_muon_norm&#45;&gt;Factor_muon_norm_muons_mock_muon_model_det1 -->\n",
       "<g id=\"edge30\" class=\"edge\">\n",
       "<title>Parameter_muon_norm&#45;&gt;Factor_muon_norm_muons_mock_muon_model_det1</title>\n",
       "<path fill=\"none\" stroke=\"black\" d=\"M1390.7,-93.77C1390.7,-84.02 1390.7,-73.81 1390.7,-64.39\"/>\n",
       "<polygon fill=\"black\" stroke=\"black\" points=\"1394.2,-64.5 1390.7,-54.5 1387.2,-64.5 1394.2,-64.5\"/>\n",
       "</g>\n",
       "</g>\n",
       "</svg>\n"
      ],
      "text/plain": [
       "<AGraph <Swig Object of type 'Agraph_t *' at 0x75e3843f0b70>>"
      ]
     },
     "execution_count": 20,
     "metadata": {},
     "output_type": "execute_result"
    }
   ],
   "source": [
    "g = ana.render_graph(\n",
    "        figsize=(14, 10),\n",
    "        node_size=2000,\n",
    "        font_size=8,\n",
    "        layout=\"dot\",\n",
    "        show_datasets=True,\n",
    "        show_parameters=True,\n",
    "        engine=\"graphviz\",\n",
    "    )\n",
    "g\n"
   ]
  },
  {
   "cell_type": "code",
   "execution_count": null,
   "metadata": {},
   "outputs": [],
   "source": []
  }
 ],
 "metadata": {
  "kernelspec": {
   "display_name": "base",
   "language": "python",
   "name": "python3"
  },
  "language_info": {
   "codemirror_mode": {
    "name": "ipython",
    "version": 3
   },
   "file_extension": ".py",
   "mimetype": "text/x-python",
   "name": "python",
   "nbconvert_exporter": "python",
   "pygments_lexer": "ipython3",
   "version": "3.13.3"
  }
 },
 "nbformat": 4,
 "nbformat_minor": 2
}
