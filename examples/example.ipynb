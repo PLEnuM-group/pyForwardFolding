{
 "cells": [
  {
   "cell_type": "code",
   "execution_count": 3,
   "metadata": {},
   "outputs": [
    {
     "name": "stdout",
     "output_type": "stream",
     "text": [
      "The autoreload extension is already loaded. To reload it, use:\n",
      "  %reload_ext autoreload\n"
     ]
    }
   ],
   "source": [
    "%load_ext autoreload\n",
    "%autoreload 2\n",
    "\n",
    "import jax\n",
    "import jax.numpy as jnp\n",
    "import matplotlib.pyplot as plt\n",
    "import numpy as np\n",
    "import pandas as pd\n",
    "\n",
    "import pyForwardFolding as pyFF\n"
   ]
  },
  {
   "cell_type": "code",
   "execution_count": 4,
   "metadata": {},
   "outputs": [
    {
     "name": "stderr",
     "output_type": "stream",
     "text": [
      "WARNING:2025-07-31 11:53:11,239:jax._src.xla_bridge:872: An NVIDIA GPU may be present on this machine, but a CUDA-enabled jaxlib is not installed. Falling back to cpu.\n"
     ]
    }
   ],
   "source": [
    "data = pd.read_parquet(\"../../NNMFit_testdata/src/NNMFit_testdata/data/datasets/Toise_ToyTracks/dataframe.parquet\")\n",
    "\n",
    "input_variables = {\n",
    "    \"true_energy\": jnp.asarray(data.true_e),\n",
    "    \"log10_reco_energy\": jnp.log10(jnp.asarray(data.reco_e)),\n",
    "    \"cos_reco_zenith\": jnp.cos(jnp.asarray(data.reco_zenith)),\n",
    "    \"baseline_weight\": jnp.asarray(data.fluxless_weight),\n",
    "    \"conv_weight\": jnp.asarray(data.weight_honda2006),\n",
    "    \"e_scaling\": jnp.asarray(data.e_scaling),\n",
    "    \"e_smearing\": jnp.asarray(data.e_smearing),\n",
    "    \"median_energy\": 2500.,\n",
    "}\n",
    "\n",
    "input_variables_2 = {\n",
    "    \"muon_weight\": jnp.ones_like(input_variables[\"true_energy\"]),\n",
    "    \"log10_reco_energy\": jnp.log10(jnp.asarray(data.reco_e)),\n",
    "    \"cos_reco_zenith\": jnp.cos(jnp.asarray(data.reco_zenith)),\n",
    "    \"e_scaling\": jnp.asarray(data.e_scaling),\n",
    "    \"e_smearing\": jnp.asarray(data.e_smearing),\n",
    "}\n",
    "\n",
    "dataset = {\"dataset1\": input_variables, \"dataset2\": input_variables_2}\n"
   ]
  },
  {
   "cell_type": "code",
   "execution_count": 5,
   "metadata": {},
   "outputs": [],
   "source": [
    "ana = pyFF.config.analysis_from_config(\"test.yaml\")\n"
   ]
  },
  {
   "cell_type": "code",
   "execution_count": 6,
   "metadata": {},
   "outputs": [
    {
     "data": {
      "text/markdown": [
       "# Analysis Configuration\n",
       "**1 expectations configured**\n",
       "\n",
       "## Summary\n",
       "| Aspect | Details |\n",
       "|--------|---------|\n",
       "| Required variables | `cos_reco_zenith, e_scaling, e_smearing, log10_reco_energy, median_energy, true_energy` |\n",
       "| Exposed parameters | `astro_index, astro_norm, atmo_norm, delta_gamma, escale, esmear, muon_norm` |\n",
       "\n",
       "  - **Expectation:** `det1`\n",
       "    - Datasets: `['dataset1', 'dataset2']`\n",
       "\n",
       "    - Models (2):\n",
       "    1. **model** (2 components) - Uses datasets: `dataset1`\n",
       "      - **Model:** model\n",
       "        - Components (2):\n",
       "        - **astro** (weight: baseline_weight)\n",
       "        - **atmo** (weight: conv_weight)\n",
       "    2. **mock_muon_model** (1 components) - Uses datasets: `dataset2`\n",
       "      - **Model:** mock_muon_model\n",
       "        - Components (1):\n",
       "        - **muons** (weight: muon_weight)\n",
       "\n",
       "    - Binning:\n",
       "      - Type: `RectangularBinning`\n",
       "      - Variables: `['log10_reco_energy', 'cos_reco_zenith']`\n",
       "      - Dimensions: `(30, 24)` (720 bins)\n",
       "\n",
       "    - Required variables: 6\n",
       "    - Exposed parameters: 7\n",
       "    - Lifetime: `1.0`\n"
      ],
      "text/plain": [
       "Analysis with 1 expectations\n",
       "==================================================\n",
       "Required variables: ['cos_reco_zenith', 'e_scaling', 'e_smearing', 'log10_reco_energy', 'median_energy', 'true_energy']\n",
       "Exposed parameters: ['astro_index', 'astro_norm', 'atmo_norm', 'delta_gamma', 'escale', 'esmear', 'muon_norm']\n",
       "\n",
       "Expectation: det1\n",
       "------------------------------\n",
       "  Dataset keys: ['dataset1', 'dataset2']\n",
       "  Models (2):\n",
       "    Model: model\n",
       "      Components (2):\n",
       "        • astro (weight: baseline_weight)\n",
       "          ModelComponent: astro\n",
       "            Factors (3):\n",
       "              PowerLawFlux: powerlaw\n",
       "                Parameters: {'flux_norm': 'astro_norm', 'spectral_index': 'astro_index'}\n",
       "                Required variables: ['true_energy']\n",
       "              SnowstormGauss: snowstorm_escale\n",
       "                Parameters: {'scale': 'escale'}\n",
       "                Required variables: ['e_scaling']\n",
       "              SnowstormGauss: snowstorm_esmear\n",
       "                Parameters: {'scale': 'esmear'}\n",
       "                Required variables: ['e_smearing']\n",
       "            Required variables: ['e_scaling', 'e_smearing', 'true_energy']\n",
       "            Exposed parameters: ['astro_index', 'astro_norm', 'escale', 'esmear']\n",
       "        • atmo (weight: conv_weight)\n",
       "          ModelComponent: atmo\n",
       "            Factors (4):\n",
       "              FluxNorm: atmo_norm\n",
       "                Parameters: {'flux_norm': 'atmo_norm'}\n",
       "              DeltaGamma: delta_gamma\n",
       "                Parameters: {'delta_gamma': 'delta_gamma'}\n",
       "                Required variables: ['true_energy', 'median_energy']\n",
       "              SnowstormGauss: snowstorm_escale\n",
       "                Parameters: {'scale': 'escale'}\n",
       "                Required variables: ['e_scaling']\n",
       "              SnowstormGauss: snowstorm_esmear\n",
       "                Parameters: {'scale': 'esmear'}\n",
       "                Required variables: ['e_smearing']\n",
       "            Required variables: ['e_scaling', 'e_smearing', 'median_energy', 'true_energy']\n",
       "            Exposed parameters: ['atmo_norm', 'delta_gamma', 'escale', 'esmear']\n",
       "      Required variables: ['e_scaling', 'e_smearing', 'median_energy', 'true_energy']\n",
       "      Exposed parameters: ['astro_index', 'astro_norm', 'atmo_norm', 'delta_gamma', 'escale', 'esmear']\n",
       "    Model: mock_muon_model\n",
       "      Components (1):\n",
       "        • muons (weight: muon_weight)\n",
       "          ModelComponent: muons\n",
       "            Factors (3):\n",
       "              FluxNorm: muon_norm\n",
       "                Parameters: {'flux_norm': 'muon_norm'}\n",
       "              SnowstormGauss: snowstorm_escale\n",
       "                Parameters: {'scale': 'escale'}\n",
       "                Required variables: ['e_scaling']\n",
       "              SnowstormGauss: snowstorm_esmear\n",
       "                Parameters: {'scale': 'esmear'}\n",
       "                Required variables: ['e_smearing']\n",
       "            Required variables: ['e_scaling', 'e_smearing']\n",
       "            Exposed parameters: ['escale', 'esmear', 'muon_norm']\n",
       "      Required variables: ['e_scaling', 'e_smearing']\n",
       "      Exposed parameters: ['escale', 'esmear', 'muon_norm']\n",
       "  Binning:\n",
       "    RectangularBinning\n",
       "      Variables: ['log10_reco_energy', 'cos_reco_zenith']\n",
       "      Histogram dimensions: (30, 24)\n",
       "      Number of bins: 720\n",
       "  Required variables: ['cos_reco_zenith', 'e_scaling', 'e_smearing', 'log10_reco_energy', 'median_energy', 'true_energy']\n",
       "  Exposed parameters: ['astro_index', 'astro_norm', 'atmo_norm', 'delta_gamma', 'escale', 'esmear', 'muon_norm']\n",
       "  Lifetime: 1.0"
      ]
     },
     "execution_count": 6,
     "metadata": {},
     "output_type": "execute_result"
    }
   ],
   "source": [
    "ana"
   ]
  },
  {
   "cell_type": "code",
   "execution_count": 8,
   "metadata": {},
   "outputs": [
    {
     "data": {
      "text/markdown": [
       "## Expectation: `det1`\n",
       "**Datasets:** `['dataset1', 'dataset2']`\n",
       "\n",
       "**Models (2):**\n",
       "1. **model** (2 components) - Uses datasets: `dataset1`\n",
       "  - **Model:** model\n",
       "    - Components (2):\n",
       "    - **astro** (weight: baseline_weight)\n",
       "    - **atmo** (weight: conv_weight)\n",
       "2. **mock_muon_model** (1 components) - Uses datasets: `dataset2`\n",
       "  - **Model:** mock_muon_model\n",
       "    - Components (1):\n",
       "    - **muons** (weight: muon_weight)\n",
       "\n",
       "**Binning:**\n",
       "  - Type: `RectangularBinning`\n",
       "  - Variables: `['log10_reco_energy', 'cos_reco_zenith']`\n",
       "  - Dimensions: `(30, 24)` (720 bins)\n",
       "\n",
       "**Configuration Summary:**\n",
       "| Aspect | Count/Details |\n",
       "|--------|---------------|\n",
       "| Required variables | 6 |\n",
       "| Exposed parameters | 7 |\n",
       "| Lifetime | `1.0` |"
      ],
      "text/plain": [
       "<pyForwardFolding.binned_expectation.BinnedExpectation at 0x75d193be5580>"
      ]
     },
     "execution_count": 8,
     "metadata": {},
     "output_type": "execute_result"
    }
   ],
   "source": [
    "ana.expectations[\"det1\"]"
   ]
  },
  {
   "cell_type": "code",
   "execution_count": 9,
   "metadata": {},
   "outputs": [
    {
     "data": {
      "text/markdown": [
       "### Model: model\n",
       "\n",
       "**Required variables:** `['e_scaling', 'e_smearing', 'median_energy', 'true_energy']`\n",
       "\n",
       "**Exposed parameters:** `['astro_index', 'astro_norm', 'atmo_norm', 'delta_gamma', 'escale', 'esmear']`\n",
       "**Components (2):**\n",
       "- **astro** (weight: baseline_weight)\n",
       "  - **ModelComponent:** astro\n",
       "    - Factors (3):\n",
       "      - **PowerLawFlux** (`powerlaw`)\n",
       "        - Parameters:\n",
       "          - `flux_norm` → `astro_norm`\n",
       "          - `spectral_index` → `astro_index`\n",
       "        - Required variables:\n",
       "          - `true_energy`\n",
       "      - **SnowstormGauss** (`snowstorm_escale`)\n",
       "        - Parameters:\n",
       "          - `scale` → `escale`\n",
       "        - Required variables:\n",
       "          - `e_scaling`\n",
       "      - **SnowstormGauss** (`snowstorm_esmear`)\n",
       "        - Parameters:\n",
       "          - `scale` → `esmear`\n",
       "        - Required variables:\n",
       "          - `e_smearing`\n",
       "\n",
       "    - Required variables: `['e_scaling', 'e_smearing', 'true_energy']`\n",
       "    - Exposed parameters: `['astro_index', 'astro_norm', 'escale', 'esmear']`\n",
       "- **atmo** (weight: conv_weight)\n",
       "  - **ModelComponent:** atmo\n",
       "    - Factors (4):\n",
       "      - **FluxNorm** (`atmo_norm`)\n",
       "        - Parameters:\n",
       "          - `flux_norm` → `atmo_norm`\n",
       "      - **DeltaGamma** (`delta_gamma`)\n",
       "        - Parameters:\n",
       "          - `delta_gamma` → `delta_gamma`\n",
       "        - Required variables:\n",
       "          - `true_energy`\n",
       "          - `median_energy`\n",
       "      - **SnowstormGauss** (`snowstorm_escale`)\n",
       "        - Parameters:\n",
       "          - `scale` → `escale`\n",
       "        - Required variables:\n",
       "          - `e_scaling`\n",
       "      - **SnowstormGauss** (`snowstorm_esmear`)\n",
       "        - Parameters:\n",
       "          - `scale` → `esmear`\n",
       "        - Required variables:\n",
       "          - `e_smearing`\n",
       "\n",
       "    - Required variables: `['e_scaling', 'e_smearing', 'median_energy', 'true_energy']`\n",
       "    - Exposed parameters: `['atmo_norm', 'delta_gamma', 'escale', 'esmear']`"
      ],
      "text/plain": [
       "Model: model\n",
       "  Components (2):\n",
       "    • astro (weight: baseline_weight)\n",
       "      ModelComponent: astro\n",
       "        Factors (3):\n",
       "          PowerLawFlux: powerlaw\n",
       "            Parameters: {'flux_norm': 'astro_norm', 'spectral_index': 'astro_index'}\n",
       "            Required variables: ['true_energy']\n",
       "          SnowstormGauss: snowstorm_escale\n",
       "            Parameters: {'scale': 'escale'}\n",
       "            Required variables: ['e_scaling']\n",
       "          SnowstormGauss: snowstorm_esmear\n",
       "            Parameters: {'scale': 'esmear'}\n",
       "            Required variables: ['e_smearing']\n",
       "        Required variables: ['e_scaling', 'e_smearing', 'true_energy']\n",
       "        Exposed parameters: ['astro_index', 'astro_norm', 'escale', 'esmear']\n",
       "    • atmo (weight: conv_weight)\n",
       "      ModelComponent: atmo\n",
       "        Factors (4):\n",
       "          FluxNorm: atmo_norm\n",
       "            Parameters: {'flux_norm': 'atmo_norm'}\n",
       "          DeltaGamma: delta_gamma\n",
       "            Parameters: {'delta_gamma': 'delta_gamma'}\n",
       "            Required variables: ['true_energy', 'median_energy']\n",
       "          SnowstormGauss: snowstorm_escale\n",
       "            Parameters: {'scale': 'escale'}\n",
       "            Required variables: ['e_scaling']\n",
       "          SnowstormGauss: snowstorm_esmear\n",
       "            Parameters: {'scale': 'esmear'}\n",
       "            Required variables: ['e_smearing']\n",
       "        Required variables: ['e_scaling', 'e_smearing', 'median_energy', 'true_energy']\n",
       "        Exposed parameters: ['atmo_norm', 'delta_gamma', 'escale', 'esmear']\n",
       "  Required variables: ['e_scaling', 'e_smearing', 'median_energy', 'true_energy']\n",
       "  Exposed parameters: ['astro_index', 'astro_norm', 'atmo_norm', 'delta_gamma', 'escale', 'esmear']"
      ]
     },
     "execution_count": 9,
     "metadata": {},
     "output_type": "execute_result"
    }
   ],
   "source": [
    "ana.expectations[\"det1\"].models[0]"
   ]
  },
  {
   "cell_type": "code",
   "execution_count": 10,
   "metadata": {},
   "outputs": [
    {
     "data": {
      "text/markdown": [
       "#### ModelComponent: astro\n",
       "**Factors (3):**\n",
       "  - **PowerLawFlux** (`powerlaw`)\n",
       "    - Parameters:\n",
       "      - `flux_norm` → `astro_norm`\n",
       "      - `spectral_index` → `astro_index`\n",
       "    - Required variables:\n",
       "      - `true_energy`\n",
       "  - **SnowstormGauss** (`snowstorm_escale`)\n",
       "    - Parameters:\n",
       "      - `scale` → `escale`\n",
       "    - Required variables:\n",
       "      - `e_scaling`\n",
       "  - **SnowstormGauss** (`snowstorm_esmear`)\n",
       "    - Parameters:\n",
       "      - `scale` → `esmear`\n",
       "    - Required variables:\n",
       "      - `e_smearing`\n",
       "\n",
       "**Required variables:** `['e_scaling', 'e_smearing', 'true_energy']`\n",
       "\n",
       "**Exposed parameters:** `['astro_index', 'astro_norm', 'escale', 'esmear']`"
      ],
      "text/plain": [
       "ModelComponent: astro\n",
       "  Factors (3):\n",
       "    PowerLawFlux: powerlaw\n",
       "      Parameters: {'flux_norm': 'astro_norm', 'spectral_index': 'astro_index'}\n",
       "      Required variables: ['true_energy']\n",
       "    SnowstormGauss: snowstorm_escale\n",
       "      Parameters: {'scale': 'escale'}\n",
       "      Required variables: ['e_scaling']\n",
       "    SnowstormGauss: snowstorm_esmear\n",
       "      Parameters: {'scale': 'esmear'}\n",
       "      Required variables: ['e_smearing']\n",
       "  Required variables: ['e_scaling', 'e_smearing', 'true_energy']\n",
       "  Exposed parameters: ['astro_index', 'astro_norm', 'escale', 'esmear']"
      ]
     },
     "execution_count": 10,
     "metadata": {},
     "output_type": "execute_result"
    }
   ],
   "source": [
    "ana.expectations[\"det1\"].models[0].components[0]"
   ]
  },
  {
   "cell_type": "code",
   "execution_count": 5,
   "metadata": {},
   "outputs": [
    {
     "name": "stdout",
     "output_type": "stream",
     "text": [
      "Analysis.evaluate() method requirements:\n",
      "=============================================\n",
      "datasets argument should be a Dict[str, Dict[str, Union[Array, float]]] with keys:\n",
      "  'dataset1': Dict containing variables:\n",
      "    'cos_reco_zenith': Array or float\n",
      "    'e_scaling': Array or float\n",
      "    'e_smearing': Array or float\n",
      "    'log10_reco_energy': Array or float\n",
      "    'median_energy': Array or float\n",
      "    'true_energy': Array or float\n",
      "  'dataset2': Dict containing variables:\n",
      "    'cos_reco_zenith': Array or float\n",
      "    'e_scaling': Array or float\n",
      "    'e_smearing': Array or float\n",
      "    'log10_reco_energy': Array or float\n",
      "\n",
      "parameter_values argument should be a Dict[str, float] with keys:\n",
      "  'astro_index': float\n",
      "  'astro_norm': float\n",
      "  'atmo_norm': float\n",
      "  'delta_gamma': float\n",
      "  'escale': float\n",
      "  'esmear': float\n",
      "  'muon_norm': float\n",
      "\n",
      "Returns: Tuple[Dict[str, Array], Dict[str, Array]]\n",
      "  First dict: expectation name -> histogram array\n",
      "  Second dict: expectation name -> squared histogram array\n"
     ]
    }
   ],
   "source": [
    "ana.print_evaluation_requirements()"
   ]
  },
  {
   "cell_type": "code",
   "execution_count": 4,
   "metadata": {},
   "outputs": [],
   "source": [
    "ana = pyFF.config.analysis_from_config(\"test.yaml\")\n",
    "lik_p = pyFF.likelihood.PoissonLikelihood(ana)\n",
    "lik_s = pyFF.likelihood.SAYLikelihood(ana)\n"
   ]
  },
  {
   "cell_type": "code",
   "execution_count": 11,
   "metadata": {},
   "outputs": [],
   "source": [
    "edges = np.linspace(0, 1, 16)\n",
    "bi = pyFF.binning.RectangularBinning((\"test\", ), (edges, ), )"
   ]
  },
  {
   "cell_type": "code",
   "execution_count": 35,
   "metadata": {},
   "outputs": [
    {
     "data": {
      "text/plain": [
       "Array([0., 0., 0., 0., 0., 0., 0., 0., 0., 0., 0., 0., 0., 0., 0.],      dtype=float32)"
      ]
     },
     "execution_count": 35,
     "metadata": {},
     "output_type": "execute_result"
    }
   ],
   "source": [
    "smp = np.random.uniform(size=1)\n",
    "smp[0] = -0.01\n",
    "bi.clear_bin_indices()\n",
    "bi.build_histogram(\"test\", np.ones_like(smp), (smp, ))\n"
   ]
  },
  {
   "cell_type": "code",
   "execution_count": 34,
   "metadata": {},
   "outputs": [
    {
     "data": {
      "text/plain": [
       "(Array([0., 0., 0., 0., 0., 0., 0., 0., 0., 0., 0., 0., 0., 0., 0.],      dtype=float32),\n",
       " Array([0.        , 0.06666667, 0.13333334, 0.2       , 0.26666668,\n",
       "        0.33333334, 0.4       , 0.46666667, 0.53333336, 0.6       ,\n",
       "        0.6666667 , 0.73333335, 0.8       , 0.8666667 , 0.93333334,\n",
       "        1.        ], dtype=float32))"
      ]
     },
     "execution_count": 34,
     "metadata": {},
     "output_type": "execute_result"
    }
   ],
   "source": [
    "jnp.histogram(smp, bins=edges)"
   ]
  },
  {
   "cell_type": "code",
   "execution_count": 22,
   "metadata": {},
   "outputs": [],
   "source": [
    "model_parameters = {\n",
    "    \"astro_norm\": 1.0,\n",
    "    \"astro_index\": 2.37,\n",
    "    \"atmo_norm\": 1.0,\n",
    "    \"escale\": 1.0,\n",
    "    \"esmear\": 1.0,\n",
    "    \"delta_gamma\": 0.0,\n",
    "    \"muon_norm\": 0.0,\n",
    "}"
   ]
  },
  {
   "cell_type": "code",
   "execution_count": 23,
   "metadata": {},
   "outputs": [
    {
     "data": {
      "text/plain": [
       "[]"
      ]
     },
     "execution_count": 23,
     "metadata": {},
     "output_type": "execute_result"
    },
    {
     "data": {
      "image/png": "[encoded data removed]",
      "text/plain": [
       "<Figure size 640x480 with 1 Axes>"
      ]
     },
     "metadata": {},
     "output_type": "display_data"
    }
   ],
   "source": [
    "be = ana.expectations[\"det1\"]\n",
    "pred = ana.evaluate(dataset, model_parameters)[0]\n",
    "hsum = pred[\"det1\"].sum(axis=1)\n",
    "plt.step(be.binning.bin_edges[0], jnp.append(hsum, hsum[-1]))\n",
    "plt.semilogy()\n",
    "\n"
   ]
  },
  {
   "cell_type": "code",
   "execution_count": 24,
   "metadata": {},
   "outputs": [],
   "source": [
    "hist, hist_ssq = ana.evaluate(dataset, model_parameters)\n",
    "key = jax.random.PRNGKey(0)\n",
    "obs = {}\n",
    "for k, v in hist.items():\n",
    "    key, subkey = jax.random.split(key)\n",
    "    obs[k] = jax.random.poisson(subkey, v)\n",
    "obs = hist # asimov"
   ]
  },
  {
   "cell_type": "code",
   "execution_count": 25,
   "metadata": {},
   "outputs": [],
   "source": [
    "def eval_for_par(par_val, par_dict, llh_f):\n",
    "    par_dict[\"astro_norm\"]= par_val\n",
    "    lh = llh_f(obs, dataset, par_dict)\n",
    "    return lh\n",
    "\n",
    "\n",
    "val_grad = jax.jit(jax.value_and_grad(eval_for_par, 0), static_argnums=(2,))\n"
   ]
  },
  {
   "cell_type": "code",
   "execution_count": 28,
   "metadata": {},
   "outputs": [
    {
     "data": {
      "image/png": "[encoded data removed]",
      "text/plain": [
       "<Figure size 800x600 with 2 Axes>"
      ]
     },
     "metadata": {},
     "output_type": "display_data"
    }
   ],
   "source": [
    "scan_vals = jnp.linspace(0, 2, 100)\n",
    "lhs, grads = jax.vmap(val_grad, in_axes=(0, None, None))(scan_vals, model_parameters, lik_p.llh)\n",
    "fig, (ax1, ax2) = plt.subplots(1, 2, figsize=(8, 6), sharex=True)\n",
    "ax1.plot(scan_vals, lhs)\n",
    "ax1.set_ylabel(\"LH\")\n",
    "ax2.plot(scan_vals, grads)\n",
    "ax2.set_ylabel(\"grad\")\n",
    "plt.tight_layout()"
   ]
  },
  {
   "cell_type": "code",
   "execution_count": 33,
   "metadata": {},
   "outputs": [],
   "source": [
    "wrapped_lh = pyFF.minimizer.WrappedLLH(lik_p, obs, dataset, {}, {})"
   ]
  },
  {
   "cell_type": "code",
   "execution_count": 34,
   "metadata": {},
   "outputs": [
    {
     "data": {
      "text/plain": [
       "<Axes: >"
      ]
     },
     "execution_count": 34,
     "metadata": {},
     "output_type": "execute_result"
    },
    {
     "data": {
      "image/png": "[encoded data removed]",
      "text/plain": [
       "<Figure size 640x480 with 2 Axes>"
      ]
     },
     "metadata": {},
     "output_type": "display_data"
    }
   ],
   "source": [
    "dest_args = pyFF.minimizer.destructure_args(model_parameters, ana.exposed_parameters, {})\n",
    "hess_func = jax.jit(jax.hessian(wrapped_lh))\n",
    "hessian = hess_func(jnp.asarray(dest_args))\n",
    "fisher = jnp.linalg.inv(hessian)\n",
    "sns.heatmap(fisher, cmap=\"viridis\", xticklabels=ana.exposed_parameters, yticklabels=ana.exposed_parameters)"
   ]
  },
  {
   "cell_type": "code",
   "execution_count": 22,
   "metadata": {},
   "outputs": [],
   "source": [
    "fmin_and_grad = jax.jit(jax.value_and_grad(wrapped_lh))"
   ]
  },
  {
   "cell_type": "code",
   "execution_count": 49,
   "metadata": {},
   "outputs": [],
   "source": [
    "import scipy.optimize\n",
    "\n",
    "astro_scan = np.linspace(0, 3, 100)\n",
    "\n",
    "scan_res = []\n",
    "\n",
    "for astro in astro_scan:\n",
    "\n",
    "    bounds = scipy.optimize.Bounds(\n",
    "        [astro,      1.0, 0.9, 0.9, 0,      -1],\n",
    "        [astro,      4.0, 1.1, 1.1, np.inf,  1]\n",
    "    )\n",
    "\n",
    "    res = scipy.optimize.minimize(fmin_and_grad, [1.001, 2.37, 1., 1., 1., 0.01], bounds=bounds, jac=True, method=\"L-BFGS-B\", tol=10)\n",
    "    scan_res.append(res.fun)\n",
    "\n",
    "bounds = scipy.optimize.Bounds(\n",
    "        [0,      1.0, 0.9, 0.9, 0,      -1],\n",
    "        [np.inf,      4.0, 1.1, 1.1, np.inf,  1]\n",
    "    )\n",
    "\n",
    "free_fit = scipy.optimize.minimize(fmin_and_grad, [1.001, 2.37, 1., 1., 1., 0.01], bounds=bounds, jac=True, method=\"L-BFGS-B\", tol=10)"
   ]
  },
  {
   "cell_type": "code",
   "execution_count": 52,
   "metadata": {},
   "outputs": [
    {
     "data": {
      "text/plain": [
       "Text(0, 0.5, 'Test Statistic')"
      ]
     },
     "execution_count": 52,
     "metadata": {},
     "output_type": "execute_result"
    },
    {
     "data": {
      "image/png": "[encoded data removed]",
      "text/plain": [
       "<Figure size 640x480 with 1 Axes>"
      ]
     },
     "metadata": {},
     "output_type": "display_data"
    }
   ],
   "source": [
    "plt.plot(astro_scan, 2*(np.asarray(scan_res) - free_fit.fun))\n",
    "plt.xlabel(\"Astro Norm\")\n",
    "plt.ylabel(\"Test Statistic\")"
   ]
  },
  {
   "cell_type": "code",
   "execution_count": 14,
   "metadata": {},
   "outputs": [],
   "source": [
    "import jax\n",
    "import jax.numpy as jnp\n",
    "import numpy as np\n",
    "import optax\n",
    "from flax import nnx\n",
    "\n",
    "class MLP(nnx.Module):\n",
    "    \"\"\"A simple CNN model.\"\"\"\n",
    "\n",
    "    def __init__(self, rngs: nnx.Rngs):\n",
    "        self.linear1 = nnx.Linear(2, 32, rngs=rngs)\n",
    "        self.linear2 = nnx.Linear(32, 32, rngs=rngs)\n",
    "        self.out = nnx.Linear(32, 1, rngs=rngs)\n",
    "\n",
    "    def __call__(self, x):\n",
    "        x = nnx.relu(self.linear1(x))\n",
    "        x = nnx.relu(self.linear2(x))\n",
    "        x = nnx.sigmoid(self.out(x))\n",
    "        return x\n",
    "  "
   ]
  },
  {
   "cell_type": "code",
   "execution_count": 15,
   "metadata": {},
   "outputs": [],
   "source": [
    "model = MLP(rngs=nnx.Rngs(0))\n",
    "\n",
    "learning_rate = 0.005\n",
    "momentum = 0.9\n",
    "\n",
    "optimizer = nnx.Optimizer(model, optax.adamw(learning_rate, momentum))\n",
    "metrics = nnx.MultiMetric(\n",
    "  loss=nnx.metrics.Average('loss'),\n",
    ")\n",
    "\n",
    "nn_in = jnp.vstack([\n",
    "        input_variables[\"log10_reco_energy\"],\n",
    "        input_variables[\"cos_reco_zenith\"],]).T\n",
    "\n",
    "def loss_fn(model: MLP):\n",
    "    summary_stat = model(nn_in)\n",
    "    input_variables[\"summary_stat\"] = summary_stat\n",
    "    dataset = {\"det1\": input_variables}\n",
    "    hist, hist_ssq = ana.evaluate(dataset, model_parameters)\n",
    "    obs = hist\n",
    "    wrapped_lh = pyFF.minimizer.WrappedLLH(lik, obs, dataset, {}, {})\n",
    "    dest_args = pyFF.minimizer.destructure_args(model_parameters, ana.exposed_parameters, {})\n",
    "    #hess_func = jax.jit(jax.hessian(wrapped_lh))\n",
    "    #hessian = hess_func(jnp.asarray(dest_args))\n",
    "    \n",
    "    grad = jax.grad(wrapped_lh)(jnp.asarray(dest_args))\n",
    "    fisher = jnp.outer(grad, grad)\n",
    "    cov = jnp.linalg.inv(fisher)\n",
    "    ts = jnp.linalg.trace(cov)\n",
    "\n",
    "    return ts\n",
    "\n",
    "@nnx.jit\n",
    "def train_step(model: MLP, optimizer: nnx.Optimizer, metrics: nnx.MultiMetric):\n",
    "    \"\"\"Train for a single step.\"\"\"\n",
    "    grad_fn = nnx.value_and_grad(loss_fn, has_aux=False)\n",
    "    loss, grads = grad_fn(model)\n",
    "    metrics.update(loss=loss,)  \n",
    "    optimizer.update(grads) \n",
    "\n",
    "@nnx.jit\n",
    "def eval_step(model: MLP, metrics: nnx.MultiMetric):\n",
    "    loss = loss_fn(model)\n",
    "    metrics.update(loss=loss)  # In-place updates.\n"
   ]
  },
  {
   "cell_type": "code",
   "execution_count": 16,
   "metadata": {},
   "outputs": [],
   "source": [
    "ts = nnx.jit(loss_fn)(model)"
   ]
  },
  {
   "cell_type": "code",
   "execution_count": 17,
   "metadata": {},
   "outputs": [
    {
     "ename": "XlaRuntimeError",
     "evalue": "FAILED_PRECONDITION: Buffer Definition Event: Error preparing computation: Out of memory allocating 3907341534360 bytes.",
     "output_type": "error",
     "traceback": [
      "\u001b[31m---------------------------------------------------------------------------\u001b[39m",
      "\u001b[31mXlaRuntimeError\u001b[39m                           Traceback (most recent call last)",
      "\u001b[36mFile \u001b[39m\u001b[32m~/repos/pyForwardFolding/.venv/lib/python3.12/site-packages/IPython/core/formatters.py:770\u001b[39m, in \u001b[36mPlainTextFormatter.__call__\u001b[39m\u001b[34m(self, obj)\u001b[39m\n\u001b[32m    763\u001b[39m stream = StringIO()\n\u001b[32m    764\u001b[39m printer = pretty.RepresentationPrinter(stream, \u001b[38;5;28mself\u001b[39m.verbose,\n\u001b[32m    765\u001b[39m     \u001b[38;5;28mself\u001b[39m.max_width, \u001b[38;5;28mself\u001b[39m.newline,\n\u001b[32m    766\u001b[39m     max_seq_length=\u001b[38;5;28mself\u001b[39m.max_seq_length,\n\u001b[32m    767\u001b[39m     singleton_pprinters=\u001b[38;5;28mself\u001b[39m.singleton_printers,\n\u001b[32m    768\u001b[39m     type_pprinters=\u001b[38;5;28mself\u001b[39m.type_printers,\n\u001b[32m    769\u001b[39m     deferred_pprinters=\u001b[38;5;28mself\u001b[39m.deferred_printers)\n\u001b[32m--> \u001b[39m\u001b[32m770\u001b[39m \u001b[43mprinter\u001b[49m\u001b[43m.\u001b[49m\u001b[43mpretty\u001b[49m\u001b[43m(\u001b[49m\u001b[43mobj\u001b[49m\u001b[43m)\u001b[49m\n\u001b[32m    771\u001b[39m printer.flush()\n\u001b[32m    772\u001b[39m \u001b[38;5;28;01mreturn\u001b[39;00m stream.getvalue()\n",
      "\u001b[36mFile \u001b[39m\u001b[32m~/repos/pyForwardFolding/.venv/lib/python3.12/site-packages/IPython/lib/pretty.py:411\u001b[39m, in \u001b[36mRepresentationPrinter.pretty\u001b[39m\u001b[34m(self, obj)\u001b[39m\n\u001b[32m    400\u001b[39m                         \u001b[38;5;28;01mreturn\u001b[39;00m meth(obj, \u001b[38;5;28mself\u001b[39m, cycle)\n\u001b[32m    401\u001b[39m                 \u001b[38;5;28;01mif\u001b[39;00m (\n\u001b[32m    402\u001b[39m                     \u001b[38;5;28mcls\u001b[39m \u001b[38;5;129;01mis\u001b[39;00m \u001b[38;5;129;01mnot\u001b[39;00m \u001b[38;5;28mobject\u001b[39m\n\u001b[32m    403\u001b[39m                     \u001b[38;5;66;03m# check if cls defines __repr__\u001b[39;00m\n\u001b[32m   (...)\u001b[39m\u001b[32m    409\u001b[39m                     \u001b[38;5;129;01mand\u001b[39;00m \u001b[38;5;28mcallable\u001b[39m(_safe_getattr(\u001b[38;5;28mcls\u001b[39m, \u001b[33m\"\u001b[39m\u001b[33m__repr__\u001b[39m\u001b[33m\"\u001b[39m, \u001b[38;5;28;01mNone\u001b[39;00m))\n\u001b[32m    410\u001b[39m                 ):\n\u001b[32m--> \u001b[39m\u001b[32m411\u001b[39m                     \u001b[38;5;28;01mreturn\u001b[39;00m \u001b[43m_repr_pprint\u001b[49m\u001b[43m(\u001b[49m\u001b[43mobj\u001b[49m\u001b[43m,\u001b[49m\u001b[43m \u001b[49m\u001b[38;5;28;43mself\u001b[39;49m\u001b[43m,\u001b[49m\u001b[43m \u001b[49m\u001b[43mcycle\u001b[49m\u001b[43m)\u001b[49m\n\u001b[32m    413\u001b[39m     \u001b[38;5;28;01mreturn\u001b[39;00m _default_pprint(obj, \u001b[38;5;28mself\u001b[39m, cycle)\n\u001b[32m    414\u001b[39m \u001b[38;5;28;01mfinally\u001b[39;00m:\n",
      "\u001b[36mFile \u001b[39m\u001b[32m~/repos/pyForwardFolding/.venv/lib/python3.12/site-packages/IPython/lib/pretty.py:786\u001b[39m, in \u001b[36m_repr_pprint\u001b[39m\u001b[34m(obj, p, cycle)\u001b[39m\n\u001b[32m    784\u001b[39m \u001b[38;5;250m\u001b[39m\u001b[33;03m\"\"\"A pprint that just redirects to the normal repr function.\"\"\"\u001b[39;00m\n\u001b[32m    785\u001b[39m \u001b[38;5;66;03m# Find newlines and replace them with p.break_()\u001b[39;00m\n\u001b[32m--> \u001b[39m\u001b[32m786\u001b[39m output = \u001b[38;5;28;43mrepr\u001b[39;49m\u001b[43m(\u001b[49m\u001b[43mobj\u001b[49m\u001b[43m)\u001b[49m\n\u001b[32m    787\u001b[39m lines = output.splitlines()\n\u001b[32m    788\u001b[39m \u001b[38;5;28;01mwith\u001b[39;00m p.group():\n",
      "\u001b[36mFile \u001b[39m\u001b[32m~/repos/pyForwardFolding/.venv/lib/python3.12/site-packages/jax/_src/array.py:414\u001b[39m, in \u001b[36mArrayImpl.__repr__\u001b[39m\u001b[34m(self)\u001b[39m\n\u001b[32m    412\u001b[39m   s = \u001b[33mf\u001b[39m\u001b[33m\"\u001b[39m\u001b[33m[], shape=\u001b[39m\u001b[38;5;132;01m{\u001b[39;00m\u001b[38;5;28mself\u001b[39m.shape\u001b[38;5;132;01m}\u001b[39;00m\u001b[33m\"\u001b[39m\n\u001b[32m    413\u001b[39m \u001b[38;5;28;01melse\u001b[39;00m:\n\u001b[32m--> \u001b[39m\u001b[32m414\u001b[39m   s = np.array2string(\u001b[38;5;28;43mself\u001b[39;49m\u001b[43m.\u001b[49m\u001b[43m_value\u001b[49m, prefix=prefix, suffix=\u001b[33m'\u001b[39m\u001b[33m,\u001b[39m\u001b[33m'\u001b[39m,\n\u001b[32m    415\u001b[39m                       separator=\u001b[33m'\u001b[39m\u001b[33m, \u001b[39m\u001b[33m'\u001b[39m, max_line_width=line_width)\n\u001b[32m    416\u001b[39m last_line_len = \u001b[38;5;28mlen\u001b[39m(s) - s.rfind(\u001b[33m'\u001b[39m\u001b[38;5;130;01m\\n\u001b[39;00m\u001b[33m'\u001b[39m) + \u001b[32m1\u001b[39m\n\u001b[32m    417\u001b[39m sep = \u001b[33m'\u001b[39m\u001b[33m \u001b[39m\u001b[33m'\u001b[39m\n",
      "\u001b[36mFile \u001b[39m\u001b[32m~/repos/pyForwardFolding/.venv/lib/python3.12/site-packages/jax/_src/profiler.py:334\u001b[39m, in \u001b[36mannotate_function.<locals>.wrapper\u001b[39m\u001b[34m(*args, **kwargs)\u001b[39m\n\u001b[32m    331\u001b[39m \u001b[38;5;129m@wraps\u001b[39m(func)\n\u001b[32m    332\u001b[39m \u001b[38;5;28;01mdef\u001b[39;00m\u001b[38;5;250m \u001b[39m\u001b[34mwrapper\u001b[39m(*args, **kwargs):\n\u001b[32m    333\u001b[39m   \u001b[38;5;28;01mwith\u001b[39;00m TraceAnnotation(name, **decorator_kwargs):\n\u001b[32m--> \u001b[39m\u001b[32m334\u001b[39m     \u001b[38;5;28;01mreturn\u001b[39;00m \u001b[43mfunc\u001b[49m\u001b[43m(\u001b[49m\u001b[43m*\u001b[49m\u001b[43margs\u001b[49m\u001b[43m,\u001b[49m\u001b[43m \u001b[49m\u001b[43m*\u001b[49m\u001b[43m*\u001b[49m\u001b[43mkwargs\u001b[49m\u001b[43m)\u001b[49m\n\u001b[32m    335\u001b[39m   \u001b[38;5;28;01mreturn\u001b[39;00m wrapper\n",
      "\u001b[36mFile \u001b[39m\u001b[32m~/repos/pyForwardFolding/.venv/lib/python3.12/site-packages/jax/_src/array.py:640\u001b[39m, in \u001b[36mArrayImpl._value\u001b[39m\u001b[34m(self)\u001b[39m\n\u001b[32m    638\u001b[39m \u001b[38;5;28;01mif\u001b[39;00m \u001b[38;5;28mself\u001b[39m._npy_value \u001b[38;5;129;01mis\u001b[39;00m \u001b[38;5;28;01mNone\u001b[39;00m:\n\u001b[32m    639\u001b[39m   \u001b[38;5;28;01mif\u001b[39;00m \u001b[38;5;28mself\u001b[39m.is_fully_replicated:\n\u001b[32m--> \u001b[39m\u001b[32m640\u001b[39m     npy_value, did_copy = \u001b[38;5;28;43mself\u001b[39;49m\u001b[43m.\u001b[49m\u001b[43m_single_device_array_to_np_array_did_copy\u001b[49m\u001b[43m(\u001b[49m\u001b[43m)\u001b[49m\n\u001b[32m    641\u001b[39m     npy_value.flags.writeable = \u001b[38;5;28;01mFalse\u001b[39;00m\n\u001b[32m    642\u001b[39m     \u001b[38;5;28;01mif\u001b[39;00m did_copy:\n",
      "\u001b[31mXlaRuntimeError\u001b[39m: FAILED_PRECONDITION: Buffer Definition Event: Error preparing computation: Out of memory allocating 3907341534360 bytes."
     ]
    }
   ],
   "source": [
    "ts"
   ]
  },
  {
   "cell_type": "code",
   "execution_count": 15,
   "metadata": {},
   "outputs": [
    {
     "ename": "XlaRuntimeError",
     "evalue": "FAILED_PRECONDITION: Buffer Definition Event: Error dispatching computation: Error dispatching computation: Error dispatching computation: Error dispatching computation: Error dispatching computation: Error dispatching computation: Error dispatching computation: Error dispatching computation: Error dispatching computation: Error dispatching computation: Error dispatching computation: Error dispatching computation: Error preparing computation: Out of memory allocating 3907341534360 bytes.",
     "output_type": "error",
     "traceback": [
      "\u001b[31m---------------------------------------------------------------------------\u001b[39m",
      "\u001b[31mXlaRuntimeError\u001b[39m                           Traceback (most recent call last)",
      "\u001b[36mCell\u001b[39m\u001b[36m \u001b[39m\u001b[32mIn[15]\u001b[39m\u001b[32m, line 34\u001b[39m\n\u001b[32m     32\u001b[39m ax1.set_title(\u001b[33m'\u001b[39m\u001b[33mLoss\u001b[39m\u001b[33m'\u001b[39m)\n\u001b[32m     33\u001b[39m \u001b[38;5;28;01mfor\u001b[39;00m dataset \u001b[38;5;129;01min\u001b[39;00m (\u001b[33m'\u001b[39m\u001b[33mtrain\u001b[39m\u001b[33m'\u001b[39m, \u001b[33m'\u001b[39m\u001b[33mtest\u001b[39m\u001b[33m'\u001b[39m):\n\u001b[32m---> \u001b[39m\u001b[32m34\u001b[39m     \u001b[43max1\u001b[49m\u001b[43m.\u001b[49m\u001b[43mplot\u001b[49m\u001b[43m(\u001b[49m\u001b[43mmetrics_history\u001b[49m\u001b[43m[\u001b[49m\u001b[33;43mf\u001b[39;49m\u001b[33;43m'\u001b[39;49m\u001b[38;5;132;43;01m{\u001b[39;49;00m\u001b[43mdataset\u001b[49m\u001b[38;5;132;43;01m}\u001b[39;49;00m\u001b[33;43m_loss\u001b[39;49m\u001b[33;43m'\u001b[39;49m\u001b[43m]\u001b[49m\u001b[43m,\u001b[49m\u001b[43m \u001b[49m\u001b[43mlabel\u001b[49m\u001b[43m=\u001b[49m\u001b[33;43mf\u001b[39;49m\u001b[33;43m'\u001b[39;49m\u001b[38;5;132;43;01m{\u001b[39;49;00m\u001b[43mdataset\u001b[49m\u001b[38;5;132;43;01m}\u001b[39;49;00m\u001b[33;43m_loss\u001b[39;49m\u001b[33;43m'\u001b[39;49m\u001b[43m)\u001b[49m\n\u001b[32m     35\u001b[39m ax1.legend()\n\u001b[32m     36\u001b[39m plt.show()\n",
      "\u001b[36mFile \u001b[39m\u001b[32m~/repos/pyForwardFolding/.venv/lib/python3.12/site-packages/matplotlib/axes/_axes.py:1777\u001b[39m, in \u001b[36mAxes.plot\u001b[39m\u001b[34m(self, scalex, scaley, data, *args, **kwargs)\u001b[39m\n\u001b[32m   1534\u001b[39m \u001b[38;5;250m\u001b[39m\u001b[33;03m\"\"\"\u001b[39;00m\n\u001b[32m   1535\u001b[39m \u001b[33;03mPlot y versus x as lines and/or markers.\u001b[39;00m\n\u001b[32m   1536\u001b[39m \n\u001b[32m   (...)\u001b[39m\u001b[32m   1774\u001b[39m \u001b[33;03m(``'green'``) or hex strings (``'#008000'``).\u001b[39;00m\n\u001b[32m   1775\u001b[39m \u001b[33;03m\"\"\"\u001b[39;00m\n\u001b[32m   1776\u001b[39m kwargs = cbook.normalize_kwargs(kwargs, mlines.Line2D)\n\u001b[32m-> \u001b[39m\u001b[32m1777\u001b[39m lines = [*\u001b[38;5;28mself\u001b[39m._get_lines(\u001b[38;5;28mself\u001b[39m, *args, data=data, **kwargs)]\n\u001b[32m   1778\u001b[39m \u001b[38;5;28;01mfor\u001b[39;00m line \u001b[38;5;129;01min\u001b[39;00m lines:\n\u001b[32m   1779\u001b[39m     \u001b[38;5;28mself\u001b[39m.add_line(line)\n",
      "\u001b[36mFile \u001b[39m\u001b[32m~/repos/pyForwardFolding/.venv/lib/python3.12/site-packages/matplotlib/axes/_base.py:297\u001b[39m, in \u001b[36m_process_plot_var_args.__call__\u001b[39m\u001b[34m(self, axes, data, return_kwargs, *args, **kwargs)\u001b[39m\n\u001b[32m    295\u001b[39m     this += args[\u001b[32m0\u001b[39m],\n\u001b[32m    296\u001b[39m     args = args[\u001b[32m1\u001b[39m:]\n\u001b[32m--> \u001b[39m\u001b[32m297\u001b[39m \u001b[38;5;28;01myield from\u001b[39;00m \u001b[38;5;28;43mself\u001b[39;49m\u001b[43m.\u001b[49m\u001b[43m_plot_args\u001b[49m\u001b[43m(\u001b[49m\n\u001b[32m    298\u001b[39m \u001b[43m    \u001b[49m\u001b[43maxes\u001b[49m\u001b[43m,\u001b[49m\u001b[43m \u001b[49m\u001b[43mthis\u001b[49m\u001b[43m,\u001b[49m\u001b[43m \u001b[49m\u001b[43mkwargs\u001b[49m\u001b[43m,\u001b[49m\u001b[43m \u001b[49m\u001b[43mambiguous_fmt_datakey\u001b[49m\u001b[43m=\u001b[49m\u001b[43mambiguous_fmt_datakey\u001b[49m\u001b[43m,\u001b[49m\n\u001b[32m    299\u001b[39m \u001b[43m    \u001b[49m\u001b[43mreturn_kwargs\u001b[49m\u001b[43m=\u001b[49m\u001b[43mreturn_kwargs\u001b[49m\n\u001b[32m    300\u001b[39m \u001b[43m\u001b[49m\u001b[43m)\u001b[49m\n",
      "\u001b[36mFile \u001b[39m\u001b[32m~/repos/pyForwardFolding/.venv/lib/python3.12/site-packages/matplotlib/axes/_base.py:486\u001b[39m, in \u001b[36m_process_plot_var_args._plot_args\u001b[39m\u001b[34m(self, axes, tup, kwargs, return_kwargs, ambiguous_fmt_datakey)\u001b[39m\n\u001b[32m    484\u001b[39m     y = _check_1d(xy[\u001b[32m1\u001b[39m])\n\u001b[32m    485\u001b[39m \u001b[38;5;28;01melse\u001b[39;00m:\n\u001b[32m--> \u001b[39m\u001b[32m486\u001b[39m     x, y = \u001b[43mindex_of\u001b[49m\u001b[43m(\u001b[49m\u001b[43mxy\u001b[49m\u001b[43m[\u001b[49m\u001b[43m-\u001b[49m\u001b[32;43m1\u001b[39;49m\u001b[43m]\u001b[49m\u001b[43m)\u001b[49m\n\u001b[32m    488\u001b[39m \u001b[38;5;28;01mif\u001b[39;00m axes.xaxis \u001b[38;5;129;01mis\u001b[39;00m \u001b[38;5;129;01mnot\u001b[39;00m \u001b[38;5;28;01mNone\u001b[39;00m:\n\u001b[32m    489\u001b[39m     axes.xaxis.update_units(x)\n",
      "\u001b[36mFile \u001b[39m\u001b[32m~/repos/pyForwardFolding/.venv/lib/python3.12/site-packages/matplotlib/cbook.py:1676\u001b[39m, in \u001b[36mindex_of\u001b[39m\u001b[34m(y)\u001b[39m\n\u001b[32m   1674\u001b[39m     \u001b[38;5;28;01mpass\u001b[39;00m\n\u001b[32m   1675\u001b[39m \u001b[38;5;28;01mtry\u001b[39;00m:\n\u001b[32m-> \u001b[39m\u001b[32m1676\u001b[39m     y = \u001b[43m_check_1d\u001b[49m\u001b[43m(\u001b[49m\u001b[43my\u001b[49m\u001b[43m)\u001b[49m\n\u001b[32m   1677\u001b[39m \u001b[38;5;28;01mexcept\u001b[39;00m (VisibleDeprecationWarning, \u001b[38;5;167;01mValueError\u001b[39;00m):\n\u001b[32m   1678\u001b[39m     \u001b[38;5;66;03m# NumPy 1.19 will warn on ragged input, and we can't actually use it.\u001b[39;00m\n\u001b[32m   1679\u001b[39m     \u001b[38;5;28;01mpass\u001b[39;00m\n",
      "\u001b[36mFile \u001b[39m\u001b[32m~/repos/pyForwardFolding/.venv/lib/python3.12/site-packages/matplotlib/cbook.py:1368\u001b[39m, in \u001b[36m_check_1d\u001b[39m\u001b[34m(x)\u001b[39m\n\u001b[32m   1362\u001b[39m \u001b[38;5;66;03m# plot requires `shape` and `ndim`.  If passed an\u001b[39;00m\n\u001b[32m   1363\u001b[39m \u001b[38;5;66;03m# object that doesn't provide them, then force to numpy array.\u001b[39;00m\n\u001b[32m   1364\u001b[39m \u001b[38;5;66;03m# Note this will strip unit information.\u001b[39;00m\n\u001b[32m   1365\u001b[39m \u001b[38;5;28;01mif\u001b[39;00m (\u001b[38;5;129;01mnot\u001b[39;00m \u001b[38;5;28mhasattr\u001b[39m(x, \u001b[33m'\u001b[39m\u001b[33mshape\u001b[39m\u001b[33m'\u001b[39m) \u001b[38;5;129;01mor\u001b[39;00m\n\u001b[32m   1366\u001b[39m         \u001b[38;5;129;01mnot\u001b[39;00m \u001b[38;5;28mhasattr\u001b[39m(x, \u001b[33m'\u001b[39m\u001b[33mndim\u001b[39m\u001b[33m'\u001b[39m) \u001b[38;5;129;01mor\u001b[39;00m\n\u001b[32m   1367\u001b[39m         \u001b[38;5;28mlen\u001b[39m(x.shape) < \u001b[32m1\u001b[39m):\n\u001b[32m-> \u001b[39m\u001b[32m1368\u001b[39m     \u001b[38;5;28;01mreturn\u001b[39;00m \u001b[43mnp\u001b[49m\u001b[43m.\u001b[49m\u001b[43matleast_1d\u001b[49m\u001b[43m(\u001b[49m\u001b[43mx\u001b[49m\u001b[43m)\u001b[49m\n\u001b[32m   1369\u001b[39m \u001b[38;5;28;01melse\u001b[39;00m:\n\u001b[32m   1370\u001b[39m     \u001b[38;5;28;01mreturn\u001b[39;00m x\n",
      "\u001b[36mFile \u001b[39m\u001b[32m~/repos/pyForwardFolding/.venv/lib/python3.12/site-packages/numpy/_core/shape_base.py:63\u001b[39m, in \u001b[36matleast_1d\u001b[39m\u001b[34m(*arys)\u001b[39m\n\u001b[32m     23\u001b[39m \u001b[38;5;250m\u001b[39m\u001b[33;03m\"\"\"\u001b[39;00m\n\u001b[32m     24\u001b[39m \u001b[33;03mConvert inputs to arrays with at least one dimension.\u001b[39;00m\n\u001b[32m     25\u001b[39m \n\u001b[32m   (...)\u001b[39m\u001b[32m     60\u001b[39m \n\u001b[32m     61\u001b[39m \u001b[33;03m\"\"\"\u001b[39;00m\n\u001b[32m     62\u001b[39m \u001b[38;5;28;01mif\u001b[39;00m \u001b[38;5;28mlen\u001b[39m(arys) == \u001b[32m1\u001b[39m:\n\u001b[32m---> \u001b[39m\u001b[32m63\u001b[39m     result = \u001b[43masanyarray\u001b[49m\u001b[43m(\u001b[49m\u001b[43marys\u001b[49m\u001b[43m[\u001b[49m\u001b[32;43m0\u001b[39;49m\u001b[43m]\u001b[49m\u001b[43m)\u001b[49m\n\u001b[32m     64\u001b[39m     \u001b[38;5;28;01mif\u001b[39;00m result.ndim == \u001b[32m0\u001b[39m:\n\u001b[32m     65\u001b[39m         result = result.reshape(\u001b[32m1\u001b[39m)\n",
      "\u001b[36mFile \u001b[39m\u001b[32m~/repos/pyForwardFolding/.venv/lib/python3.12/site-packages/jax/_src/array.py:441\u001b[39m, in \u001b[36mArrayImpl.__array__\u001b[39m\u001b[34m(self, dtype, context, copy)\u001b[39m\n\u001b[32m    438\u001b[39m \u001b[38;5;28;01mdef\u001b[39;00m\u001b[38;5;250m \u001b[39m\u001b[34m__array__\u001b[39m(\u001b[38;5;28mself\u001b[39m, dtype=\u001b[38;5;28;01mNone\u001b[39;00m, context=\u001b[38;5;28;01mNone\u001b[39;00m, copy=\u001b[38;5;28;01mNone\u001b[39;00m):\n\u001b[32m    439\u001b[39m   \u001b[38;5;66;03m# copy argument is supported by np.asarray starting in numpy 2.0\u001b[39;00m\n\u001b[32m    440\u001b[39m   kwds = {} \u001b[38;5;28;01mif\u001b[39;00m copy \u001b[38;5;129;01mis\u001b[39;00m \u001b[38;5;28;01mNone\u001b[39;00m \u001b[38;5;28;01melse\u001b[39;00m {\u001b[33m'\u001b[39m\u001b[33mcopy\u001b[39m\u001b[33m'\u001b[39m: copy}\n\u001b[32m--> \u001b[39m\u001b[32m441\u001b[39m   \u001b[38;5;28;01mreturn\u001b[39;00m np.asarray(\u001b[38;5;28;43mself\u001b[39;49m\u001b[43m.\u001b[49m\u001b[43m_value\u001b[49m, dtype=dtype, **kwds)\n",
      "\u001b[36mFile \u001b[39m\u001b[32m~/repos/pyForwardFolding/.venv/lib/python3.12/site-packages/jax/_src/profiler.py:334\u001b[39m, in \u001b[36mannotate_function.<locals>.wrapper\u001b[39m\u001b[34m(*args, **kwargs)\u001b[39m\n\u001b[32m    331\u001b[39m \u001b[38;5;129m@wraps\u001b[39m(func)\n\u001b[32m    332\u001b[39m \u001b[38;5;28;01mdef\u001b[39;00m\u001b[38;5;250m \u001b[39m\u001b[34mwrapper\u001b[39m(*args, **kwargs):\n\u001b[32m    333\u001b[39m   \u001b[38;5;28;01mwith\u001b[39;00m TraceAnnotation(name, **decorator_kwargs):\n\u001b[32m--> \u001b[39m\u001b[32m334\u001b[39m     \u001b[38;5;28;01mreturn\u001b[39;00m \u001b[43mfunc\u001b[49m\u001b[43m(\u001b[49m\u001b[43m*\u001b[49m\u001b[43margs\u001b[49m\u001b[43m,\u001b[49m\u001b[43m \u001b[49m\u001b[43m*\u001b[49m\u001b[43m*\u001b[49m\u001b[43mkwargs\u001b[49m\u001b[43m)\u001b[49m\n\u001b[32m    335\u001b[39m   \u001b[38;5;28;01mreturn\u001b[39;00m wrapper\n",
      "\u001b[36mFile \u001b[39m\u001b[32m~/repos/pyForwardFolding/.venv/lib/python3.12/site-packages/jax/_src/array.py:640\u001b[39m, in \u001b[36mArrayImpl._value\u001b[39m\u001b[34m(self)\u001b[39m\n\u001b[32m    638\u001b[39m \u001b[38;5;28;01mif\u001b[39;00m \u001b[38;5;28mself\u001b[39m._npy_value \u001b[38;5;129;01mis\u001b[39;00m \u001b[38;5;28;01mNone\u001b[39;00m:\n\u001b[32m    639\u001b[39m   \u001b[38;5;28;01mif\u001b[39;00m \u001b[38;5;28mself\u001b[39m.is_fully_replicated:\n\u001b[32m--> \u001b[39m\u001b[32m640\u001b[39m     npy_value, did_copy = \u001b[38;5;28;43mself\u001b[39;49m\u001b[43m.\u001b[49m\u001b[43m_single_device_array_to_np_array_did_copy\u001b[49m\u001b[43m(\u001b[49m\u001b[43m)\u001b[49m\n\u001b[32m    641\u001b[39m     npy_value.flags.writeable = \u001b[38;5;28;01mFalse\u001b[39;00m\n\u001b[32m    642\u001b[39m     \u001b[38;5;28;01mif\u001b[39;00m did_copy:\n",
      "\u001b[31mXlaRuntimeError\u001b[39m: FAILED_PRECONDITION: Buffer Definition Event: Error dispatching computation: Error dispatching computation: Error dispatching computation: Error dispatching computation: Error dispatching computation: Error dispatching computation: Error dispatching computation: Error dispatching computation: Error dispatching computation: Error dispatching computation: Error dispatching computation: Error dispatching computation: Error preparing computation: Out of memory allocating 3907341534360 bytes."
     ]
    },
    {
     "data": {
      "image/png": "[encoded data removed]",
      "text/plain": [
       "<Figure size 1000x500 with 1 Axes>"
      ]
     },
     "metadata": {},
     "output_type": "display_data"
    }
   ],
   "source": [
    "from IPython.display import clear_output\n",
    "\n",
    "metrics_history = {\n",
    "  'train_loss': [],\n",
    "  'test_loss': [],\n",
    "\n",
    "}\n",
    "\n",
    "eval_every = 10\n",
    "train_steps = 100\n",
    "\n",
    "for step in range(train_steps):\n",
    "    train_step(model, optimizer, metrics)\n",
    "    \n",
    "    if step > 0 and (step % eval_every == 0 or step == train_steps - 1):  # One training epoch has passed.\n",
    "        # Log the training metrics.\n",
    "        for metric, value in metrics.compute().items():  # Compute the metrics.\n",
    "            metrics_history[f'train_{metric}'].append(value)  # Record the metrics.\n",
    "        metrics.reset()  # Reset the metrics for the test set.\n",
    "\n",
    "\n",
    "        eval_step(model, metrics)\n",
    "       \n",
    "        # Log the test metrics.\n",
    "        for metric, value in metrics.compute().items():\n",
    "            metrics_history[f'test_{metric}'].append(value)\n",
    "        metrics.reset()  # Reset the metrics for the next training epoch.\n",
    "\n",
    "        clear_output(wait=True)\n",
    "        # Plot loss and accuracy in subplots\n",
    "        fig, ax1 = plt.subplots(1, 1, figsize=(10, 5))\n",
    "        ax1.set_title('Loss')\n",
    "        for dataset in ('train', 'test'):\n",
    "            ax1.plot(metrics_history[f'{dataset}_loss'], label=f'{dataset}_loss')\n",
    "        ax1.legend()\n",
    "        plt.show()"
   ]
  },
  {
   "cell_type": "code",
   "execution_count": 75,
   "metadata": {},
   "outputs": [
    {
     "data": {
      "text/plain": [
       "[<matplotlib.lines.Line2D at 0x7fc8061b3140>]"
      ]
     },
     "execution_count": 75,
     "metadata": {},
     "output_type": "execute_result"
    },
    {
     "data": {
      "image/png": "[encoded data removed]",
      "text/plain": [
       "<Figure size 640x480 with 1 Axes>"
      ]
     },
     "metadata": {},
     "output_type": "display_data"
    }
   ],
   "source": [
    "nn_in = jnp.vstack([\n",
    "            input_variables[\"log10_reco_energy\"],\n",
    "            input_variables[\"cos_reco_zenith\"],]).T\n",
    "summary_stat = state.apply_fn({\"params\": state.params}, nn_in)[:, 0]\n",
    "input_variables[\"summary_stat\"] = summary_stat\n",
    "dataset = {\"det1\": input_variables}\n",
    "hist, hist_ssq = ana.evaluate(dataset, model_parameters)\n",
    "hsum = hist[\"det1\"]\n",
    "plt.step(be.binning.bin_edges[0], jnp.append(hsum, hsum[-1]))"
   ]
  },
  {
   "cell_type": "code",
   "execution_count": 20,
   "metadata": {},
   "outputs": [
    {
     "data": {
      "image/svg+xml": [
       "<?xml version=\"1.0\" encoding=\"UTF-8\" standalone=\"no\"?>\n",
       "<!DOCTYPE svg PUBLIC \"-//W3C//DTD SVG 1.1//EN\"\n",
       " \"http://www.w3.org/Graphics/SVG/1.1/DTD/svg11.dtd\">\n",
       "<!-- Generated by graphviz version 13.1.1 (20250720.1534)\n",
       " -->\n",
       "<!-- Pages: 1 -->\n",
       "<svg width=\"1008pt\" height=\"316pt\"\n",
       " viewBox=\"0.00 0.00 1008.00 316.00\" xmlns=\"http://www.w3.org/2000/svg\" xmlns:xlink=\"http://www.w3.org/1999/xlink\">\n",
       "<g id=\"graph0\" class=\"graph\" transform=\"scale(0.698082 0.698082) rotate(0) translate(4 448.3)\">\n",
       "<polygon fill=\"white\" stroke=\"none\" points=\"-4,4 -4,-448.3 1439.96,-448.3 1439.96,4 -4,4\"/>\n",
       "<!-- Analysis -->\n",
       "<g id=\"node1\" class=\"node\">\n",
       "<title>Analysis</title>\n",
       "<polygon fill=\"#ff6b6b\" stroke=\"black\" points=\"975.66,-444.3 921.66,-444.3 921.66,-408.3 975.66,-408.3 975.66,-444.3\"/>\n",
       "<text xml:space=\"preserve\" text-anchor=\"middle\" x=\"948.66\" y=\"-423.57\" font-family=\"Arial\" font-size=\"8.00\" fill=\"white\">Analysis</text>\n",
       "</g>\n",
       "<!-- Expectation_det1 -->\n",
       "<g id=\"node2\" class=\"node\">\n",
       "<title>Expectation_det1</title>\n",
       "<polygon fill=\"#4ecdc4\" stroke=\"black\" points=\"981.04,-372.3 916.29,-372.3 916.29,-336.3 981.04,-336.3 981.04,-372.3\"/>\n",
       "<text xml:space=\"preserve\" text-anchor=\"middle\" x=\"948.66\" y=\"-356.45\" font-family=\"Arial\" font-size=\"8.00\">Expectation</text>\n",
       "<text xml:space=\"preserve\" text-anchor=\"middle\" x=\"948.66\" y=\"-346.7\" font-family=\"Arial\" font-size=\"8.00\">det1</text>\n",
       "</g>\n",
       "<!-- Analysis&#45;&gt;Expectation_det1 -->\n",
       "<g id=\"edge1\" class=\"edge\">\n",
       "<title>Analysis&#45;&gt;Expectation_det1</title>\n",
       "<path fill=\"none\" stroke=\"black\" d=\"M948.66,-407.99C948.66,-400.7 948.66,-392.02 948.66,-383.83\"/>\n",
       "<polygon fill=\"black\" stroke=\"black\" points=\"952.16,-383.91 948.66,-373.91 945.16,-383.91 952.16,-383.91\"/>\n",
       "</g>\n",
       "<!-- Binning_det1 -->\n",
       "<g id=\"node3\" class=\"node\">\n",
       "<title>Binning_det1</title>\n",
       "<polygon fill=\"#ff9999\" stroke=\"black\" points=\"948.66,-300.3 785.66,-263.05 948.66,-225.8 1111.66,-263.05 948.66,-300.3\"/>\n",
       "<text xml:space=\"preserve\" text-anchor=\"middle\" x=\"948.66\" y=\"-270.07\" font-family=\"Arial\" font-size=\"8.00\">Binning</text>\n",
       "<text xml:space=\"preserve\" text-anchor=\"middle\" x=\"948.66\" y=\"-260.32\" font-family=\"Arial\" font-size=\"8.00\">RectangularBinning</text>\n",
       "<text xml:space=\"preserve\" text-anchor=\"middle\" x=\"948.66\" y=\"-250.57\" font-family=\"Arial\" font-size=\"8.00\">log10_reco_energy, cos_reco_zenith</text>\n",
       "</g>\n",
       "<!-- Expectation_det1&#45;&gt;Binning_det1 -->\n",
       "<g id=\"edge2\" class=\"edge\">\n",
       "<title>Expectation_det1&#45;&gt;Binning_det1</title>\n",
       "<path fill=\"none\" stroke=\"black\" d=\"M948.66,-336.09C948.66,-329.11 948.66,-320.68 948.66,-312.08\"/>\n",
       "<polygon fill=\"black\" stroke=\"black\" points=\"952.16,-312.29 948.66,-302.29 945.16,-312.29 952.16,-312.29\"/>\n",
       "</g>\n",
       "<!-- Model_model_det1 -->\n",
       "<g id=\"node4\" class=\"node\">\n",
       "<title>Model_model_det1</title>\n",
       "<polygon fill=\"#45b7d1\" stroke=\"black\" points=\"737.66,-281.05 683.66,-281.05 683.66,-245.05 737.66,-245.05 737.66,-281.05\"/>\n",
       "<text xml:space=\"preserve\" text-anchor=\"middle\" x=\"710.66\" y=\"-265.2\" font-family=\"Arial\" font-size=\"8.00\" fill=\"white\">Model</text>\n",
       "<text xml:space=\"preserve\" text-anchor=\"middle\" x=\"710.66\" y=\"-255.45\" font-family=\"Arial\" font-size=\"8.00\" fill=\"white\">model</text>\n",
       "</g>\n",
       "<!-- Expectation_det1&#45;&gt;Model_model_det1 -->\n",
       "<g id=\"edge3\" class=\"edge\">\n",
       "<title>Expectation_det1&#45;&gt;Model_model_det1</title>\n",
       "<path fill=\"none\" stroke=\"black\" d=\"M915.95,-345.34C880.82,-336.31 823.71,-320.22 776.66,-300.3 767.13,-296.26 757.18,-291.25 747.98,-286.26\"/>\n",
       "<polygon fill=\"black\" stroke=\"black\" points=\"749.74,-283.23 739.3,-281.42 746.33,-289.35 749.74,-283.23\"/>\n",
       "</g>\n",
       "<!-- Model_mock_muon_model_det1 -->\n",
       "<g id=\"node5\" class=\"node\">\n",
       "<title>Model_mock_muon_model_det1</title>\n",
       "<polygon fill=\"#45b7d1\" stroke=\"black\" points=\"1238.7,-281.05 1144.7,-281.05 1144.7,-245.05 1238.7,-245.05 1238.7,-281.05\"/>\n",
       "<text xml:space=\"preserve\" text-anchor=\"middle\" x=\"1191.7\" y=\"-265.2\" font-family=\"Arial\" font-size=\"8.00\" fill=\"white\">Model</text>\n",
       "<text xml:space=\"preserve\" text-anchor=\"middle\" x=\"1191.7\" y=\"-255.45\" font-family=\"Arial\" font-size=\"8.00\" fill=\"white\">mock_muon_model</text>\n",
       "</g>\n",
       "<!-- Expectation_det1&#45;&gt;Model_mock_muon_model_det1 -->\n",
       "<g id=\"edge4\" class=\"edge\">\n",
       "<title>Expectation_det1&#45;&gt;Model_mock_muon_model_det1</title>\n",
       "<path fill=\"none\" stroke=\"black\" d=\"M981.26,-345.06C1016.3,-335.8 1073.3,-319.51 1120.7,-300.3 1130.5,-296.32 1140.7,-291.49 1150.3,-286.67\"/>\n",
       "<polygon fill=\"black\" stroke=\"black\" points=\"1151.76,-289.86 1159.05,-282.17 1148.56,-283.63 1151.76,-289.86\"/>\n",
       "</g>\n",
       "<!-- Component_astro_model_det1 -->\n",
       "<g id=\"node6\" class=\"node\">\n",
       "<title>Component_astro_model_det1</title>\n",
       "<polygon fill=\"#96ceb4\" stroke=\"black\" points=\"349.54,-157.86 227.78,-157.86 227.78,-120.61 349.54,-120.61 349.54,-157.86\"/>\n",
       "<text xml:space=\"preserve\" text-anchor=\"middle\" x=\"288.66\" y=\"-146.26\" font-family=\"Arial\" font-size=\"8.00\">Component</text>\n",
       "<text xml:space=\"preserve\" text-anchor=\"middle\" x=\"288.66\" y=\"-136.51\" font-family=\"Arial\" font-size=\"8.00\">astro</text>\n",
       "<text xml:space=\"preserve\" text-anchor=\"middle\" x=\"288.66\" y=\"-126.76\" font-family=\"Arial\" font-size=\"8.00\">(weight: baseline_weight)</text>\n",
       "</g>\n",
       "<!-- Model_model_det1&#45;&gt;Component_astro_model_det1 -->\n",
       "<g id=\"edge5\" class=\"edge\">\n",
       "<title>Model_model_det1&#45;&gt;Component_astro_model_det1</title>\n",
       "<path fill=\"none\" stroke=\"black\" d=\"M683.18,-259.14C624.61,-252.31 483.86,-232.48 373.66,-189.8 356.42,-183.12 338.55,-173.22 323.68,-164.02\"/>\n",
       "<polygon fill=\"black\" stroke=\"black\" points=\"325.97,-161.33 315.65,-158.93 322.22,-167.24 325.97,-161.33\"/>\n",
       "</g>\n",
       "<!-- Component_atmo_model_det1 -->\n",
       "<g id=\"node7\" class=\"node\">\n",
       "<title>Component_atmo_model_det1</title>\n",
       "<polygon fill=\"#96ceb4\" stroke=\"black\" points=\"763.66,-157.86 657.66,-157.86 657.66,-120.61 763.66,-120.61 763.66,-157.86\"/>\n",
       "<text xml:space=\"preserve\" text-anchor=\"middle\" x=\"710.66\" y=\"-146.26\" font-family=\"Arial\" font-size=\"8.00\">Component</text>\n",
       "<text xml:space=\"preserve\" text-anchor=\"middle\" x=\"710.66\" y=\"-136.51\" font-family=\"Arial\" font-size=\"8.00\">atmo</text>\n",
       "<text xml:space=\"preserve\" text-anchor=\"middle\" x=\"710.66\" y=\"-126.76\" font-family=\"Arial\" font-size=\"8.00\">(weight: conv_weight)</text>\n",
       "</g>\n",
       "<!-- Model_model_det1&#45;&gt;Component_atmo_model_det1 -->\n",
       "<g id=\"edge6\" class=\"edge\">\n",
       "<title>Model_model_det1&#45;&gt;Component_atmo_model_det1</title>\n",
       "<path fill=\"none\" stroke=\"black\" d=\"M710.66,-244.59C710.66,-224.99 710.66,-192.84 710.66,-169.41\"/>\n",
       "<polygon fill=\"black\" stroke=\"black\" points=\"714.16,-169.56 710.66,-159.56 707.16,-169.56 714.16,-169.56\"/>\n",
       "</g>\n",
       "<!-- Component_muons_mock_muon_model_det1 -->\n",
       "<g id=\"node8\" class=\"node\">\n",
       "<title>Component_muons_mock_muon_model_det1</title>\n",
       "<polygon fill=\"#96ceb4\" stroke=\"black\" points=\"1254.58,-157.86 1144.83,-157.86 1144.83,-120.61 1254.58,-120.61 1254.58,-157.86\"/>\n",
       "<text xml:space=\"preserve\" text-anchor=\"middle\" x=\"1199.7\" y=\"-146.26\" font-family=\"Arial\" font-size=\"8.00\">Component</text>\n",
       "<text xml:space=\"preserve\" text-anchor=\"middle\" x=\"1199.7\" y=\"-136.51\" font-family=\"Arial\" font-size=\"8.00\">muons</text>\n",
       "<text xml:space=\"preserve\" text-anchor=\"middle\" x=\"1199.7\" y=\"-126.76\" font-family=\"Arial\" font-size=\"8.00\">(weight: muon_weight)</text>\n",
       "</g>\n",
       "<!-- Model_mock_muon_model_det1&#45;&gt;Component_muons_mock_muon_model_det1 -->\n",
       "<g id=\"edge7\" class=\"edge\">\n",
       "<title>Model_mock_muon_model_det1&#45;&gt;Component_muons_mock_muon_model_det1</title>\n",
       "<path fill=\"none\" stroke=\"black\" d=\"M1192.8,-244.59C1194.1,-224.99 1196.2,-192.84 1197.7,-169.41\"/>\n",
       "<polygon fill=\"black\" stroke=\"black\" points=\"1201.18,-169.78 1198.39,-159.56 1194.2,-169.29 1201.18,-169.78\"/>\n",
       "</g>\n",
       "<!-- Factor_powerlaw_astro_model_det1 -->\n",
       "<g id=\"node9\" class=\"node\">\n",
       "<title>Factor_powerlaw_astro_model_det1</title>\n",
       "<ellipse fill=\"#fcea2b\" stroke=\"black\" cx=\"133.66\" cy=\"-26.34\" rx=\"56.39\" ry=\"26.34\"/>\n",
       "<text xml:space=\"preserve\" text-anchor=\"middle\" x=\"133.66\" y=\"-33.36\" font-family=\"Arial\" font-size=\"8.00\">Factor</text>\n",
       "<text xml:space=\"preserve\" text-anchor=\"middle\" x=\"133.66\" y=\"-23.61\" font-family=\"Arial\" font-size=\"8.00\">powerlaw</text>\n",
       "<text xml:space=\"preserve\" text-anchor=\"middle\" x=\"133.66\" y=\"-13.86\" font-family=\"Arial\" font-size=\"8.00\">(PowerLawFlux)</text>\n",
       "</g>\n",
       "<!-- Component_astro_model_det1&#45;&gt;Factor_powerlaw_astro_model_det1 -->\n",
       "<g id=\"edge8\" class=\"edge\">\n",
       "<title>Component_astro_model_det1&#45;&gt;Factor_powerlaw_astro_model_det1</title>\n",
       "<path fill=\"none\" stroke=\"black\" d=\"M263.42,-120.17C238.98,-102.69 201.58,-75.93 173.2,-55.63\"/>\n",
       "<polygon fill=\"black\" stroke=\"black\" points=\"175.36,-52.87 165.19,-49.89 171.28,-58.56 175.36,-52.87\"/>\n",
       "</g>\n",
       "<!-- Factor_snowstorm_escale_astro_model_det1 -->\n",
       "<g id=\"node10\" class=\"node\">\n",
       "<title>Factor_snowstorm_escale_astro_model_det1</title>\n",
       "<ellipse fill=\"#fcea2b\" stroke=\"black\" cx=\"273.66\" cy=\"-26.34\" rx=\"65.94\" ry=\"26.34\"/>\n",
       "<text xml:space=\"preserve\" text-anchor=\"middle\" x=\"273.66\" y=\"-33.36\" font-family=\"Arial\" font-size=\"8.00\">Factor</text>\n",
       "<text xml:space=\"preserve\" text-anchor=\"middle\" x=\"273.66\" y=\"-23.61\" font-family=\"Arial\" font-size=\"8.00\">snowstorm_escale</text>\n",
       "<text xml:space=\"preserve\" text-anchor=\"middle\" x=\"273.66\" y=\"-13.86\" font-family=\"Arial\" font-size=\"8.00\">(SnowstormGauss)</text>\n",
       "</g>\n",
       "<!-- Component_astro_model_det1&#45;&gt;Factor_snowstorm_escale_astro_model_det1 -->\n",
       "<g id=\"edge9\" class=\"edge\">\n",
       "<title>Component_astro_model_det1&#45;&gt;Factor_snowstorm_escale_astro_model_det1</title>\n",
       "<path fill=\"none\" stroke=\"black\" d=\"M286.25,-120.42C284.21,-105.31 281.21,-83.14 278.65,-64.23\"/>\n",
       "<polygon fill=\"black\" stroke=\"black\" points=\"282.14,-63.91 277.33,-54.47 275.2,-64.84 282.14,-63.91\"/>\n",
       "</g>\n",
       "<!-- Factor_snowstorm_esmear_astro_model_det1 -->\n",
       "<g id=\"node11\" class=\"node\">\n",
       "<title>Factor_snowstorm_esmear_astro_model_det1</title>\n",
       "<ellipse fill=\"#fcea2b\" stroke=\"black\" cx=\"574.66\" cy=\"-26.34\" rx=\"67.53\" ry=\"26.34\"/>\n",
       "<text xml:space=\"preserve\" text-anchor=\"middle\" x=\"574.66\" y=\"-33.36\" font-family=\"Arial\" font-size=\"8.00\">Factor</text>\n",
       "<text xml:space=\"preserve\" text-anchor=\"middle\" x=\"574.66\" y=\"-23.61\" font-family=\"Arial\" font-size=\"8.00\">snowstorm_esmear</text>\n",
       "<text xml:space=\"preserve\" text-anchor=\"middle\" x=\"574.66\" y=\"-13.86\" font-family=\"Arial\" font-size=\"8.00\">(SnowstormGauss)</text>\n",
       "</g>\n",
       "<!-- Component_astro_model_det1&#45;&gt;Factor_snowstorm_esmear_astro_model_det1 -->\n",
       "<g id=\"edge10\" class=\"edge\">\n",
       "<title>Component_astro_model_det1&#45;&gt;Factor_snowstorm_esmear_astro_model_det1</title>\n",
       "<path fill=\"none\" stroke=\"black\" d=\"M315.71,-120.15C331.98,-109.86 353.4,-97.34 373.66,-88.68 426.82,-65.95 443.45,-69.83 498.66,-52.68 503.63,-51.14 508.77,-49.5 513.93,-47.84\"/>\n",
       "<polygon fill=\"black\" stroke=\"black\" points=\"514.62,-51.3 523.04,-44.87 512.45,-44.64 514.62,-51.3\"/>\n",
       "</g>\n",
       "<!-- Factor_atmo_norm_atmo_model_det1 -->\n",
       "<g id=\"node12\" class=\"node\">\n",
       "<title>Factor_atmo_norm_atmo_model_det1</title>\n",
       "<ellipse fill=\"#fcea2b\" stroke=\"black\" cx=\"703.66\" cy=\"-26.34\" rx=\"43.66\" ry=\"26.34\"/>\n",
       "<text xml:space=\"preserve\" text-anchor=\"middle\" x=\"703.66\" y=\"-33.36\" font-family=\"Arial\" font-size=\"8.00\">Factor</text>\n",
       "<text xml:space=\"preserve\" text-anchor=\"middle\" x=\"703.66\" y=\"-23.61\" font-family=\"Arial\" font-size=\"8.00\">atmo_norm</text>\n",
       "<text xml:space=\"preserve\" text-anchor=\"middle\" x=\"703.66\" y=\"-13.86\" font-family=\"Arial\" font-size=\"8.00\">(FluxNorm)</text>\n",
       "</g>\n",
       "<!-- Component_atmo_model_det1&#45;&gt;Factor_atmo_norm_atmo_model_det1 -->\n",
       "<g id=\"edge11\" class=\"edge\">\n",
       "<title>Component_atmo_model_det1&#45;&gt;Factor_atmo_norm_atmo_model_det1</title>\n",
       "<path fill=\"none\" stroke=\"black\" d=\"M709.54,-120.42C708.59,-105.31 707.19,-83.14 705.99,-64.23\"/>\n",
       "<polygon fill=\"black\" stroke=\"black\" points=\"709.5,-64.24 705.38,-54.48 702.51,-64.68 709.5,-64.24\"/>\n",
       "</g>\n",
       "<!-- Factor_delta_gamma_atmo_model_det1 -->\n",
       "<g id=\"node13\" class=\"node\">\n",
       "<title>Factor_delta_gamma_atmo_model_det1</title>\n",
       "<ellipse fill=\"#fcea2b\" stroke=\"black\" cx=\"818.66\" cy=\"-26.34\" rx=\"53.21\" ry=\"26.34\"/>\n",
       "<text xml:space=\"preserve\" text-anchor=\"middle\" x=\"818.66\" y=\"-33.36\" font-family=\"Arial\" font-size=\"8.00\">Factor</text>\n",
       "<text xml:space=\"preserve\" text-anchor=\"middle\" x=\"818.66\" y=\"-23.61\" font-family=\"Arial\" font-size=\"8.00\">delta_gamma</text>\n",
       "<text xml:space=\"preserve\" text-anchor=\"middle\" x=\"818.66\" y=\"-13.86\" font-family=\"Arial\" font-size=\"8.00\">(DeltaGamma)</text>\n",
       "</g>\n",
       "<!-- Component_atmo_model_det1&#45;&gt;Factor_delta_gamma_atmo_model_det1 -->\n",
       "<g id=\"edge12\" class=\"edge\">\n",
       "<title>Component_atmo_model_det1&#45;&gt;Factor_delta_gamma_atmo_model_det1</title>\n",
       "<path fill=\"none\" stroke=\"black\" d=\"M728.02,-120.42C744.19,-103.81 768.67,-78.68 788.11,-58.71\"/>\n",
       "<polygon fill=\"black\" stroke=\"black\" points=\"790.57,-61.2 795.04,-51.59 785.56,-56.31 790.57,-61.2\"/>\n",
       "</g>\n",
       "<!-- Factor_snowstorm_escale_atmo_model_det1 -->\n",
       "<g id=\"node14\" class=\"node\">\n",
       "<title>Factor_snowstorm_escale_atmo_model_det1</title>\n",
       "<ellipse fill=\"#fcea2b\" stroke=\"black\" cx=\"423.66\" cy=\"-26.34\" rx=\"65.94\" ry=\"26.34\"/>\n",
       "<text xml:space=\"preserve\" text-anchor=\"middle\" x=\"423.66\" y=\"-33.36\" font-family=\"Arial\" font-size=\"8.00\">Factor</text>\n",
       "<text xml:space=\"preserve\" text-anchor=\"middle\" x=\"423.66\" y=\"-23.61\" font-family=\"Arial\" font-size=\"8.00\">snowstorm_escale</text>\n",
       "<text xml:space=\"preserve\" text-anchor=\"middle\" x=\"423.66\" y=\"-13.86\" font-family=\"Arial\" font-size=\"8.00\">(SnowstormGauss)</text>\n",
       "</g>\n",
       "<!-- Component_atmo_model_det1&#45;&gt;Factor_snowstorm_escale_atmo_model_det1 -->\n",
       "<g id=\"edge13\" class=\"edge\">\n",
       "<title>Component_atmo_model_det1&#45;&gt;Factor_snowstorm_escale_atmo_model_det1</title>\n",
       "<path fill=\"none\" stroke=\"black\" d=\"M692.62,-120.24C680.98,-109.59 665.01,-96.66 648.66,-88.68 586.67,-58.41 563.93,-71.88 497.66,-52.68 492.84,-51.28 487.86,-49.76 482.88,-48.17\"/>\n",
       "<polygon fill=\"black\" stroke=\"black\" points=\"484.04,-44.87 473.45,-45.11 481.88,-51.53 484.04,-44.87\"/>\n",
       "</g>\n",
       "<!-- Factor_snowstorm_esmear_atmo_model_det1 -->\n",
       "<g id=\"node15\" class=\"node\">\n",
       "<title>Factor_snowstorm_esmear_atmo_model_det1</title>\n",
       "<ellipse fill=\"#fcea2b\" stroke=\"black\" cx=\"957.66\" cy=\"-26.34\" rx=\"67.53\" ry=\"26.34\"/>\n",
       "<text xml:space=\"preserve\" text-anchor=\"middle\" x=\"957.66\" y=\"-33.36\" font-family=\"Arial\" font-size=\"8.00\">Factor</text>\n",
       "<text xml:space=\"preserve\" text-anchor=\"middle\" x=\"957.66\" y=\"-23.61\" font-family=\"Arial\" font-size=\"8.00\">snowstorm_esmear</text>\n",
       "<text xml:space=\"preserve\" text-anchor=\"middle\" x=\"957.66\" y=\"-13.86\" font-family=\"Arial\" font-size=\"8.00\">(SnowstormGauss)</text>\n",
       "</g>\n",
       "<!-- Component_atmo_model_det1&#45;&gt;Factor_snowstorm_esmear_atmo_model_det1 -->\n",
       "<g id=\"edge14\" class=\"edge\">\n",
       "<title>Component_atmo_model_det1&#45;&gt;Factor_snowstorm_esmear_atmo_model_det1</title>\n",
       "<path fill=\"none\" stroke=\"black\" d=\"M729.5,-120.25C741.18,-109.87 756.92,-97.22 772.66,-88.68 774.12,-87.89 843.11,-65.08 896.41,-47.51\"/>\n",
       "<polygon fill=\"black\" stroke=\"black\" points=\"897.34,-50.89 905.74,-44.43 895.15,-44.24 897.34,-50.89\"/>\n",
       "</g>\n",
       "<!-- Factor_muon_norm_muons_mock_muon_model_det1 -->\n",
       "<g id=\"node16\" class=\"node\">\n",
       "<title>Factor_muon_norm_muons_mock_muon_model_det1</title>\n",
       "<ellipse fill=\"#fcea2b\" stroke=\"black\" cx=\"1390.7\" cy=\"-26.34\" rx=\"45.26\" ry=\"26.34\"/>\n",
       "<text xml:space=\"preserve\" text-anchor=\"middle\" x=\"1390.7\" y=\"-33.36\" font-family=\"Arial\" font-size=\"8.00\">Factor</text>\n",
       "<text xml:space=\"preserve\" text-anchor=\"middle\" x=\"1390.7\" y=\"-23.61\" font-family=\"Arial\" font-size=\"8.00\">muon_norm</text>\n",
       "<text xml:space=\"preserve\" text-anchor=\"middle\" x=\"1390.7\" y=\"-13.86\" font-family=\"Arial\" font-size=\"8.00\">(FluxNorm)</text>\n",
       "</g>\n",
       "<!-- Component_muons_mock_muon_model_det1&#45;&gt;Factor_muon_norm_muons_mock_muon_model_det1 -->\n",
       "<g id=\"edge15\" class=\"edge\">\n",
       "<title>Component_muons_mock_muon_model_det1&#45;&gt;Factor_muon_norm_muons_mock_muon_model_det1</title>\n",
       "<path fill=\"none\" stroke=\"black\" d=\"M1230.8,-120.17C1263.1,-101.38 1314,-71.86 1349.6,-51.17\"/>\n",
       "<polygon fill=\"black\" stroke=\"black\" points=\"1351.01,-54.4 1357.89,-46.34 1347.49,-48.35 1351.01,-54.4\"/>\n",
       "</g>\n",
       "<!-- Factor_snowstorm_escale_muons_mock_muon_model_det1 -->\n",
       "<g id=\"node17\" class=\"node\">\n",
       "<title>Factor_snowstorm_escale_muons_mock_muon_model_det1</title>\n",
       "<ellipse fill=\"#fcea2b\" stroke=\"black\" cx=\"1108.7\" cy=\"-26.34\" rx=\"65.94\" ry=\"26.34\"/>\n",
       "<text xml:space=\"preserve\" text-anchor=\"middle\" x=\"1108.7\" y=\"-33.36\" font-family=\"Arial\" font-size=\"8.00\">Factor</text>\n",
       "<text xml:space=\"preserve\" text-anchor=\"middle\" x=\"1108.7\" y=\"-23.61\" font-family=\"Arial\" font-size=\"8.00\">snowstorm_escale</text>\n",
       "<text xml:space=\"preserve\" text-anchor=\"middle\" x=\"1108.7\" y=\"-13.86\" font-family=\"Arial\" font-size=\"8.00\">(SnowstormGauss)</text>\n",
       "</g>\n",
       "<!-- Component_muons_mock_muon_model_det1&#45;&gt;Factor_snowstorm_escale_muons_mock_muon_model_det1 -->\n",
       "<g id=\"edge16\" class=\"edge\">\n",
       "<title>Component_muons_mock_muon_model_det1&#45;&gt;Factor_snowstorm_escale_muons_mock_muon_model_det1</title>\n",
       "<path fill=\"none\" stroke=\"black\" d=\"M1185,-120.42C1171.8,-104.28 1151.9,-80.08 1135.8,-60.41\"/>\n",
       "<polygon fill=\"black\" stroke=\"black\" points=\"1138.7,-58.42 1129.66,-52.9 1133.28,-62.86 1138.7,-58.42\"/>\n",
       "</g>\n",
       "<!-- Factor_snowstorm_esmear_muons_mock_muon_model_det1 -->\n",
       "<g id=\"node18\" class=\"node\">\n",
       "<title>Factor_snowstorm_esmear_muons_mock_muon_model_det1</title>\n",
       "<ellipse fill=\"#fcea2b\" stroke=\"black\" cx=\"1259.7\" cy=\"-26.34\" rx=\"67.53\" ry=\"26.34\"/>\n",
       "<text xml:space=\"preserve\" text-anchor=\"middle\" x=\"1259.7\" y=\"-33.36\" font-family=\"Arial\" font-size=\"8.00\">Factor</text>\n",
       "<text xml:space=\"preserve\" text-anchor=\"middle\" x=\"1259.7\" y=\"-23.61\" font-family=\"Arial\" font-size=\"8.00\">snowstorm_esmear</text>\n",
       "<text xml:space=\"preserve\" text-anchor=\"middle\" x=\"1259.7\" y=\"-13.86\" font-family=\"Arial\" font-size=\"8.00\">(SnowstormGauss)</text>\n",
       "</g>\n",
       "<!-- Component_muons_mock_muon_model_det1&#45;&gt;Factor_snowstorm_esmear_muons_mock_muon_model_det1 -->\n",
       "<g id=\"edge17\" class=\"edge\">\n",
       "<title>Component_muons_mock_muon_model_det1&#45;&gt;Factor_snowstorm_esmear_muons_mock_muon_model_det1</title>\n",
       "<path fill=\"none\" stroke=\"black\" d=\"M1209.3,-120.42C1217.7,-104.85 1230.2,-81.78 1240.6,-62.51\"/>\n",
       "<polygon fill=\"black\" stroke=\"black\" points=\"1243.59,-64.34 1245.28,-53.88 1237.44,-61 1243.59,-64.34\"/>\n",
       "</g>\n",
       "<!-- Dataset_dataset1 -->\n",
       "<g id=\"node19\" class=\"node\">\n",
       "<title>Dataset_dataset1</title>\n",
       "<polygon fill=\"#dda0dd\" stroke=\"black\" points=\"737.66,-372.3 734.66,-376.3 713.66,-376.3 710.66,-372.3 683.66,-372.3 683.66,-336.3 737.66,-336.3 737.66,-372.3\"/>\n",
       "<text xml:space=\"preserve\" text-anchor=\"middle\" x=\"710.66\" y=\"-356.45\" font-family=\"Arial\" font-size=\"8.00\">Dataset</text>\n",
       "<text xml:space=\"preserve\" text-anchor=\"middle\" x=\"710.66\" y=\"-346.7\" font-family=\"Arial\" font-size=\"8.00\">dataset1</text>\n",
       "</g>\n",
       "<!-- Dataset_dataset1&#45;&gt;Model_model_det1 -->\n",
       "<g id=\"edge18\" class=\"edge\">\n",
       "<title>Dataset_dataset1&#45;&gt;Model_model_det1</title>\n",
       "<path fill=\"none\" stroke=\"black\" d=\"M710.66,-336.09C710.66,-323.82 710.66,-307.04 710.66,-292.76\"/>\n",
       "<polygon fill=\"black\" stroke=\"black\" points=\"714.16,-293.02 710.66,-283.02 707.16,-293.02 714.16,-293.02\"/>\n",
       "</g>\n",
       "<!-- Dataset_dataset2 -->\n",
       "<g id=\"node20\" class=\"node\">\n",
       "<title>Dataset_dataset2</title>\n",
       "<polygon fill=\"#dda0dd\" stroke=\"black\" points=\"1218.7,-372.3 1215.7,-376.3 1194.7,-376.3 1191.7,-372.3 1164.7,-372.3 1164.7,-336.3 1218.7,-336.3 1218.7,-372.3\"/>\n",
       "<text xml:space=\"preserve\" text-anchor=\"middle\" x=\"1191.7\" y=\"-356.45\" font-family=\"Arial\" font-size=\"8.00\">Dataset</text>\n",
       "<text xml:space=\"preserve\" text-anchor=\"middle\" x=\"1191.7\" y=\"-346.7\" font-family=\"Arial\" font-size=\"8.00\">dataset2</text>\n",
       "</g>\n",
       "<!-- Dataset_dataset2&#45;&gt;Model_mock_muon_model_det1 -->\n",
       "<g id=\"edge19\" class=\"edge\">\n",
       "<title>Dataset_dataset2&#45;&gt;Model_mock_muon_model_det1</title>\n",
       "<path fill=\"none\" stroke=\"black\" d=\"M1191.7,-336.09C1191.7,-323.82 1191.7,-307.04 1191.7,-292.76\"/>\n",
       "<polygon fill=\"black\" stroke=\"black\" points=\"1195.2,-293.02 1191.7,-283.02 1188.2,-293.02 1195.2,-293.02\"/>\n",
       "</g>\n",
       "<!-- Parameter_astro_norm -->\n",
       "<g id=\"node21\" class=\"node\">\n",
       "<title>Parameter_astro_norm</title>\n",
       "<ellipse fill=\"#ffb347\" stroke=\"black\" cx=\"43.66\" cy=\"-139.24\" rx=\"43.66\" ry=\"43.66\"/>\n",
       "<text xml:space=\"preserve\" text-anchor=\"middle\" x=\"43.66\" y=\"-141.39\" font-family=\"Arial\" font-size=\"8.00\">Parameter</text>\n",
       "<text xml:space=\"preserve\" text-anchor=\"middle\" x=\"43.66\" y=\"-131.64\" font-family=\"Arial\" font-size=\"8.00\">astro_norm</text>\n",
       "</g>\n",
       "<!-- Parameter_astro_norm&#45;&gt;Factor_powerlaw_astro_model_det1 -->\n",
       "<g id=\"edge20\" class=\"edge\">\n",
       "<title>Parameter_astro_norm&#45;&gt;Factor_powerlaw_astro_model_det1</title>\n",
       "<path fill=\"none\" stroke=\"black\" d=\"M70.91,-104.66C82.37,-90.54 95.66,-74.17 107.05,-60.13\"/>\n",
       "<polygon fill=\"black\" stroke=\"black\" points=\"109.68,-62.44 113.27,-52.47 104.25,-58.03 109.68,-62.44\"/>\n",
       "</g>\n",
       "<!-- Parameter_astro_index -->\n",
       "<g id=\"node22\" class=\"node\">\n",
       "<title>Parameter_astro_index</title>\n",
       "<ellipse fill=\"#ffb347\" stroke=\"black\" cx=\"149.66\" cy=\"-139.24\" rx=\"44.19\" ry=\"44.19\"/>\n",
       "<text xml:space=\"preserve\" text-anchor=\"middle\" x=\"149.66\" y=\"-141.39\" font-family=\"Arial\" font-size=\"8.00\">Parameter</text>\n",
       "<text xml:space=\"preserve\" text-anchor=\"middle\" x=\"149.66\" y=\"-131.64\" font-family=\"Arial\" font-size=\"8.00\">astro_index</text>\n",
       "</g>\n",
       "<!-- Parameter_astro_index&#45;&gt;Factor_powerlaw_astro_model_det1 -->\n",
       "<g id=\"edge21\" class=\"edge\">\n",
       "<title>Parameter_astro_index&#45;&gt;Factor_powerlaw_astro_model_det1</title>\n",
       "<path fill=\"none\" stroke=\"black\" d=\"M143.43,-95.04C141.96,-84.81 140.4,-74 138.97,-64.09\"/>\n",
       "<polygon fill=\"black\" stroke=\"black\" points=\"142.47,-63.85 137.58,-54.46 135.54,-64.85 142.47,-63.85\"/>\n",
       "</g>\n",
       "<!-- Parameter_escale -->\n",
       "<g id=\"node23\" class=\"node\">\n",
       "<title>Parameter_escale</title>\n",
       "<ellipse fill=\"#ffb347\" stroke=\"black\" cx=\"423.66\" cy=\"-139.24\" rx=\"41.01\" ry=\"41.01\"/>\n",
       "<text xml:space=\"preserve\" text-anchor=\"middle\" x=\"423.66\" y=\"-141.39\" font-family=\"Arial\" font-size=\"8.00\">Parameter</text>\n",
       "<text xml:space=\"preserve\" text-anchor=\"middle\" x=\"423.66\" y=\"-131.64\" font-family=\"Arial\" font-size=\"8.00\">escale</text>\n",
       "</g>\n",
       "<!-- Parameter_escale&#45;&gt;Factor_snowstorm_escale_astro_model_det1 -->\n",
       "<g id=\"edge22\" class=\"edge\">\n",
       "<title>Parameter_escale&#45;&gt;Factor_snowstorm_escale_astro_model_det1</title>\n",
       "<path fill=\"none\" stroke=\"black\" d=\"M391.39,-113.37C380.99,-105.42 369.38,-96.63 358.66,-88.68 344.28,-78.01 328.39,-66.47 314.28,-56.32\"/>\n",
       "<polygon fill=\"black\" stroke=\"black\" points=\"316.69,-53.73 306.52,-50.75 312.6,-59.42 316.69,-53.73\"/>\n",
       "</g>\n",
       "<!-- Parameter_escale&#45;&gt;Factor_snowstorm_escale_atmo_model_det1 -->\n",
       "<g id=\"edge23\" class=\"edge\">\n",
       "<title>Parameter_escale&#45;&gt;Factor_snowstorm_escale_atmo_model_det1</title>\n",
       "<path fill=\"none\" stroke=\"black\" d=\"M423.66,-97.89C423.66,-86.88 423.66,-75.02 423.66,-64.21\"/>\n",
       "<polygon fill=\"black\" stroke=\"black\" points=\"427.16,-64.51 423.66,-54.51 420.16,-64.51 427.16,-64.51\"/>\n",
       "</g>\n",
       "<!-- Parameter_escale&#45;&gt;Factor_snowstorm_escale_muons_mock_muon_model_det1 -->\n",
       "<g id=\"edge24\" class=\"edge\">\n",
       "<title>Parameter_escale&#45;&gt;Factor_snowstorm_escale_muons_mock_muon_model_det1</title>\n",
       "<path fill=\"none\" stroke=\"black\" d=\"M460.15,-119.44C483.19,-108.49 513.93,-95.52 542.66,-88.68 755.95,-37.88 819.85,-96.55 1034.7,-52.68 1040.2,-51.55 1045.8,-50.13 1051.5,-48.53\"/>\n",
       "<polygon fill=\"black\" stroke=\"black\" points=\"1052.2,-51.97 1060.75,-45.72 1050.17,-45.28 1052.2,-51.97\"/>\n",
       "</g>\n",
       "<!-- Parameter_esmear -->\n",
       "<g id=\"node24\" class=\"node\">\n",
       "<title>Parameter_esmear</title>\n",
       "<ellipse fill=\"#ffb347\" stroke=\"black\" cx=\"957.66\" cy=\"-139.24\" rx=\"41.01\" ry=\"41.01\"/>\n",
       "<text xml:space=\"preserve\" text-anchor=\"middle\" x=\"957.66\" y=\"-141.39\" font-family=\"Arial\" font-size=\"8.00\">Parameter</text>\n",
       "<text xml:space=\"preserve\" text-anchor=\"middle\" x=\"957.66\" y=\"-131.64\" font-family=\"Arial\" font-size=\"8.00\">esmear</text>\n",
       "</g>\n",
       "<!-- Parameter_esmear&#45;&gt;Factor_snowstorm_esmear_astro_model_det1 -->\n",
       "<g id=\"edge25\" class=\"edge\">\n",
       "<title>Parameter_esmear&#45;&gt;Factor_snowstorm_esmear_astro_model_det1</title>\n",
       "<path fill=\"none\" stroke=\"black\" d=\"M927.94,-110.57C917.49,-102.27 905.21,-93.98 892.66,-88.68 792.49,-46.38 756.42,-77.97 650.66,-52.68 645.22,-51.38 639.62,-49.86 634.03,-48.23\"/>\n",
       "<polygon fill=\"black\" stroke=\"black\" points=\"635.39,-44.98 624.81,-45.41 633.35,-51.68 635.39,-44.98\"/>\n",
       "</g>\n",
       "<!-- Parameter_esmear&#45;&gt;Factor_snowstorm_esmear_atmo_model_det1 -->\n",
       "<g id=\"edge26\" class=\"edge\">\n",
       "<title>Parameter_esmear&#45;&gt;Factor_snowstorm_esmear_atmo_model_det1</title>\n",
       "<path fill=\"none\" stroke=\"black\" d=\"M957.66,-97.89C957.66,-86.88 957.66,-75.02 957.66,-64.21\"/>\n",
       "<polygon fill=\"black\" stroke=\"black\" points=\"961.16,-64.51 957.66,-54.51 954.16,-64.51 961.16,-64.51\"/>\n",
       "</g>\n",
       "<!-- Parameter_esmear&#45;&gt;Factor_snowstorm_esmear_muons_mock_muon_model_det1 -->\n",
       "<g id=\"edge27\" class=\"edge\">\n",
       "<title>Parameter_esmear&#45;&gt;Factor_snowstorm_esmear_muons_mock_muon_model_det1</title>\n",
       "<path fill=\"none\" stroke=\"black\" d=\"M996.22,-124.08C1048,-105.08 1140.4,-71.14 1200.8,-48.94\"/>\n",
       "<polygon fill=\"black\" stroke=\"black\" points=\"1201.78,-52.31 1209.98,-45.59 1199.38,-45.73 1201.78,-52.31\"/>\n",
       "</g>\n",
       "<!-- Parameter_atmo_norm -->\n",
       "<g id=\"node25\" class=\"node\">\n",
       "<title>Parameter_atmo_norm</title>\n",
       "<ellipse fill=\"#ffb347\" stroke=\"black\" cx=\"595.66\" cy=\"-139.24\" rx=\"43.66\" ry=\"43.66\"/>\n",
       "<text xml:space=\"preserve\" text-anchor=\"middle\" x=\"595.66\" y=\"-141.39\" font-family=\"Arial\" font-size=\"8.00\">Parameter</text>\n",
       "<text xml:space=\"preserve\" text-anchor=\"middle\" x=\"595.66\" y=\"-131.64\" font-family=\"Arial\" font-size=\"8.00\">atmo_norm</text>\n",
       "</g>\n",
       "<!-- Parameter_atmo_norm&#45;&gt;Factor_atmo_norm_atmo_model_det1 -->\n",
       "<g id=\"edge28\" class=\"edge\">\n",
       "<title>Parameter_atmo_norm&#45;&gt;Factor_atmo_norm_atmo_model_det1</title>\n",
       "<path fill=\"none\" stroke=\"black\" d=\"M625.75,-107.35C640.81,-91.88 658.98,-73.22 673.99,-57.81\"/>\n",
       "<polygon fill=\"black\" stroke=\"black\" points=\"676.44,-60.32 680.9,-50.71 671.42,-55.44 676.44,-60.32\"/>\n",
       "</g>\n",
       "<!-- Parameter_delta_gamma -->\n",
       "<g id=\"node26\" class=\"node\">\n",
       "<title>Parameter_delta_gamma</title>\n",
       "<ellipse fill=\"#ffb347\" stroke=\"black\" cx=\"832.66\" cy=\"-139.24\" rx=\"50.56\" ry=\"50.56\"/>\n",
       "<text xml:space=\"preserve\" text-anchor=\"middle\" x=\"832.66\" y=\"-141.39\" font-family=\"Arial\" font-size=\"8.00\">Parameter</text>\n",
       "<text xml:space=\"preserve\" text-anchor=\"middle\" x=\"832.66\" y=\"-131.64\" font-family=\"Arial\" font-size=\"8.00\">delta_gamma</text>\n",
       "</g>\n",
       "<!-- Parameter_delta_gamma&#45;&gt;Factor_delta_gamma_atmo_model_det1 -->\n",
       "<g id=\"edge29\" class=\"edge\">\n",
       "<title>Parameter_delta_gamma&#45;&gt;Factor_delta_gamma_atmo_model_det1</title>\n",
       "<path fill=\"none\" stroke=\"black\" d=\"M826.4,-88.63C825.37,-80.43 824.31,-72.06 823.32,-64.25\"/>\n",
       "<polygon fill=\"black\" stroke=\"black\" points=\"826.8,-63.9 822.08,-54.42 819.86,-64.78 826.8,-63.9\"/>\n",
       "</g>\n",
       "<!-- Parameter_muon_norm -->\n",
       "<g id=\"node27\" class=\"node\">\n",
       "<title>Parameter_muon_norm</title>\n",
       "<ellipse fill=\"#ffb347\" stroke=\"black\" cx=\"1390.7\" cy=\"-139.24\" rx=\"45.26\" ry=\"45.26\"/>\n",
       "<text xml:space=\"preserve\" text-anchor=\"middle\" x=\"1390.7\" y=\"-141.39\" font-family=\"Arial\" font-size=\"8.00\">Parameter</text>\n",
       "<text xml:space=\"preserve\" text-anchor=\"middle\" x=\"1390.7\" y=\"-131.64\" font-family=\"Arial\" font-size=\"8.00\">muon_norm</text>\n",
       "</g>\n",
       "<!-- Parameter_muon_norm&#45;&gt;Factor_muon_norm_muons_mock_muon_model_det1 -->\n",
       "<g id=\"edge30\" class=\"edge\">\n",
       "<title>Parameter_muon_norm&#45;&gt;Factor_muon_norm_muons_mock_muon_model_det1</title>\n",
       "<path fill=\"none\" stroke=\"black\" d=\"M1390.7,-93.77C1390.7,-84.02 1390.7,-73.81 1390.7,-64.39\"/>\n",
       "<polygon fill=\"black\" stroke=\"black\" points=\"1394.2,-64.5 1390.7,-54.5 1387.2,-64.5 1394.2,-64.5\"/>\n",
       "</g>\n",
       "</g>\n",
       "</svg>\n"
      ],
      "text/plain": [
       "<AGraph <Swig Object of type 'Agraph_t *' at 0x75e3843f0b70>>"
      ]
     },
     "execution_count": 20,
     "metadata": {},
     "output_type": "execute_result"
    }
   ],
   "source": [
    "g = ana.render_graph(\n",
    "        figsize=(14, 10),\n",
    "        node_size=2000,\n",
    "        font_size=8,\n",
    "        layout=\"dot\",\n",
    "        show_datasets=True,\n",
    "        show_parameters=True,\n",
    "        engine=\"graphviz\",\n",
    "    )\n",
    "g\n"
   ]
  },
  {
   "cell_type": "code",
   "execution_count": null,
   "metadata": {},
   "outputs": [],
   "source": []
  }
 ],
 "metadata": {
  "kernelspec": {
   "display_name": ".venv",
   "language": "python",
   "name": "python3"
  },
  "language_info": {
   "codemirror_mode": {
    "name": "ipython",
    "version": 3
   },
   "file_extension": ".py",
   "mimetype": "text/x-python",
   "name": "python",
   "nbconvert_exporter": "python",
   "pygments_lexer": "ipython3",
   "version": "3.12.8"
  }
 },
 "nbformat": 4,
 "nbformat_minor": 2
}
