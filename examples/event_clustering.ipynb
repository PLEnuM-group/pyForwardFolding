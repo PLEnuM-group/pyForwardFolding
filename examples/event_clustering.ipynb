{
 "cells": [
  {
   "cell_type": "code",
   "execution_count": 21,
   "id": "b04a63d5",
   "metadata": {},
   "outputs": [],
   "source": [
    "import os\n",
    "\n",
    "import matplotlib.pyplot as plt\n",
    "import numpy as np\n",
    "import pandas as pd\n",
    "import seaborn as sns\n",
    "from sklearn.cluster import MiniBatchKMeans, HDBSCAN"
   ]
  },
  {
   "cell_type": "code",
   "execution_count": 6,
   "id": "40ff2f28",
   "metadata": {},
   "outputs": [
    {
     "name": "stderr",
     "output_type": "stream",
     "text": [
      "/tmp/ipykernel_1046/1593275841.py:24: RuntimeWarning: divide by zero encountered in log10\n",
      "  \"log10_reco_energy\": np.log10(np.asarray(data[reco_e])),\n"
     ]
    }
   ],
   "source": [
    "data_path = \"/home/chrhck/data/\"\n",
    "ds_paths = {\n",
    "    \"Northern Tracks\":  os.path.join(data_path, \"dataset_tracks_galactic.parquet\"),\n",
    "    \"Cascades\": os.path.join(data_path, \"dataset_cscd_cascade_baseline_all_keys_galactic.parquet\"),\n",
    "    \"Cascades Muon\": os.path.join(data_path, \"dataset_cscd_muon_baseline_all_keys_galactic.parquet\"),\n",
    "}\n",
    "dataset = {}\n",
    "for key, ds_path in ds_paths.items():\n",
    "    #dataset[det] = {}\n",
    "    data  = pd.read_parquet(ds_path)\n",
    "\n",
    "    if \"MCType\" in data.columns:\n",
    "        # MuonGun is added as a template in the fit\n",
    "        Filter_muon_gun = data[\"MCType\"] == \"MuonGun\"\n",
    "        data = data[~Filter_muon_gun]\n",
    "    if key == \"Northern Tracks\":\n",
    "        reco_e = \"energy_truncated\"\n",
    "        reco_zenith = \"zenith_MPEFit\"\n",
    "    elif key == \"Cascades\" or key == \"Cascades Muon\":\n",
    "        reco_e = 'energy_monopod'\n",
    "        reco_zenith = 'zenith_monopod'\n",
    "    dataset[key] = {\n",
    "        \"log10_true_energy\": np.log10((np.asarray(data.MCPrimaryEnergy))),\n",
    "        \"log10_reco_energy\": np.log10(np.asarray(data[reco_e])),\n",
    "        \"cos_reco_zenith\": np.cos(np.asarray(data[reco_zenith])),\n",
    "        \"cos_true_zenith\": np.cos(np.asarray(data.MCPrimaryZenith)),\n",
    "        \"baseline_weight\": np.asarray(data.fluxless_weight),\n",
    "        \"conv_weight\": np.asarray(data.mceq_conv_H4a_SIBYLL23c),\n",
    "    }\n",
    "    del data\n"
   ]
  },
  {
   "cell_type": "code",
   "execution_count": null,
   "id": "e8f8963a",
   "metadata": {},
   "outputs": [],
   "source": [
    "X = np.concatenate([\n",
    "    dataset[\"Northern Tracks\"][\"log10_reco_energy\"][:, None],\n",
    "    dataset[\"Northern Tracks\"][\"cos_reco_zenith\"][:, None],\n",
    "    dataset[\"Northern Tracks\"][\"log10_true_energy\"][:, None],\n",
    "    dataset[\"Northern Tracks\"][\"cos_true_zenith\"][:, None],\n",
    "], axis=1)\n",
    "mask = np.all(np.isfinite(X), axis=1)\n",
    "X = X[mask]\n",
    "\n",
    "\n"
   ]
  },
  {
   "cell_type": "code",
   "execution_count": 10,
   "id": "6052b216",
   "metadata": {},
   "outputs": [
    {
     "data": {
      "text/plain": [
       "array([[ 2.83511278e+00,  4.09735239e-03,  1.12697867e+00,\n",
       "         9.99991606e-01],\n",
       "       [ 3.02865352e+00, -2.27050344e-01,  1.26066358e+00,\n",
       "         9.74334614e-01],\n",
       "       [ 2.70500347e+00, -1.14259572e-01,  1.20027385e+00,\n",
       "         9.93479474e-01],\n",
       "       ...,\n",
       "       [ 4.51371556e+00,  8.19713388e-02,  6.88287085e+00,\n",
       "         9.96642231e-01],\n",
       "       [ 4.21611849e+00,  1.86661513e-01,  6.86186209e+00,\n",
       "         9.82629265e-01],\n",
       "       [ 4.20392570e+00,  1.98353291e-01,  6.92660777e+00,\n",
       "         9.80392399e-01]], shape=(98834, 4))"
      ]
     },
     "execution_count": 10,
     "metadata": {},
     "output_type": "execute_result"
    }
   ],
   "source": [
    "data = pd.read_parquet(\"../../NNMFit_testdata/src/NNMFit_testdata/data/datasets/Toise_ToyTracks/dataframe.parquet\")\n",
    "X = np.vstack([\n",
    "    np.log10(np.asarray(data.reco_e)),\n",
    "    np.cos(np.asarray(data.reco_zenith)),\n",
    "    np.log10(np.asarray(data.true_e)),\n",
    "    np.cos(np.asarray(data.true_z)),\n",
    "]).T\n",
    "\n",
    "X"
   ]
  },
  {
   "cell_type": "code",
   "execution_count": 11,
   "id": "472f6a5a",
   "metadata": {},
   "outputs": [],
   "source": [
    "compression_rate = 0.25\n",
    "\n",
    "n_clusters = int(np.ceil(X.shape[0] * compression_rate))"
   ]
  },
  {
   "cell_type": "code",
   "execution_count": 12,
   "id": "ee775738",
   "metadata": {},
   "outputs": [
    {
     "name": "stdout",
     "output_type": "stream",
     "text": [
      "Init 1/1 with method k-means++\n",
      "Inertia for init 1/1: 49.57432525867187\n",
      "[MiniBatchKMeans] Reassigning 4096 cluster centers.\n",
      "Minibatch step 1/1206: mean batch inertia: 0.0006459174540506278\n",
      "[MiniBatchKMeans] Reassigning 4096 cluster centers.\n",
      "Minibatch step 2/1206: mean batch inertia: 0.0009897457112760211, ewa inertia: 0.0009897457112760211\n",
      "[MiniBatchKMeans] Reassigning 4096 cluster centers.\n",
      "Minibatch step 3/1206: mean batch inertia: 0.0011762816075237038, ewa inertia: 0.001020667997147646\n",
      "[MiniBatchKMeans] Reassigning 4096 cluster centers.\n",
      "Minibatch step 4/1206: mean batch inertia: 0.000866383627832425, ewa inertia: 0.0009950920867225883\n",
      "[MiniBatchKMeans] Reassigning 4096 cluster centers.\n",
      "Minibatch step 5/1206: mean batch inertia: 0.0008390601832005585, ewa inertia: 0.0009692264853940616\n",
      "[MiniBatchKMeans] Reassigning 4096 cluster centers.\n",
      "Minibatch step 6/1206: mean batch inertia: 0.0009816394865862254, ewa inertia: 0.0009712842039303333\n",
      "[MiniBatchKMeans] Reassigning 3866 cluster centers.\n",
      "Minibatch step 7/1206: mean batch inertia: 0.0009250686375925463, ewa inertia: 0.0009636229924275427\n",
      "Minibatch step 8/1206: mean batch inertia: 0.0008967099121652461, ewa inertia: 0.0009525307284824073\n",
      "Minibatch step 9/1206: mean batch inertia: 0.000860255641703197, ewa inertia: 0.0009372341733977653\n",
      "Minibatch step 10/1206: mean batch inertia: 0.0008364924614155101, ewa inertia: 0.0009205340953978941\n",
      "Minibatch step 11/1206: mean batch inertia: 0.0008090076281129963, ewa inertia: 0.0009020462151935559\n",
      "Minibatch step 12/1206: mean batch inertia: 0.0007711940284823997, ewa inertia: 0.0008803546866148581\n",
      "Minibatch step 13/1206: mean batch inertia: 0.0007200110204495184, ewa inertia: 0.0008537743190684128\n",
      "Minibatch step 14/1206: mean batch inertia: 0.0008016694100754892, ewa inertia: 0.000845136823961011\n",
      "Minibatch step 15/1206: mean batch inertia: 0.0007225379465772974, ewa inertia: 0.0008248134566614232\n",
      "Minibatch step 16/1206: mean batch inertia: 0.0007127847680713897, ewa inertia: 0.0008062423226111463\n",
      "Minibatch step 17/1206: mean batch inertia: 0.000716910742156468, ewa inertia: 0.0007914337162048181\n",
      "Minibatch step 18/1206: mean batch inertia: 0.0006871187781503606, ewa inertia: 0.0007741413001064295\n",
      "Minibatch step 19/1206: mean batch inertia: 0.0007296733537574174, ewa inertia: 0.0007667697937272904\n",
      "Minibatch step 20/1206: mean batch inertia: 0.0006811606160672191, ewa inertia: 0.0007525782546289689\n",
      "Minibatch step 21/1206: mean batch inertia: 0.0006766636791049987, ewa inertia: 0.0007399938016984815\n",
      "Minibatch step 22/1206: mean batch inertia: 0.0007206622827521309, ewa inertia: 0.0007367891919305146\n",
      "Minibatch step 23/1206: mean batch inertia: 0.0006967991257287294, ewa inertia: 0.0007301599892730547\n",
      "Minibatch step 24/1206: mean batch inertia: 0.0006871284503477758, ewa inertia: 0.000723026597926348\n",
      "Minibatch step 25/1206: mean batch inertia: 0.000632518780811655, ewa inertia: 0.0007080230053163704\n",
      "Minibatch step 26/1206: mean batch inertia: 0.0006887595530547786, ewa inertia: 0.0007048296790467906\n",
      "Minibatch step 27/1206: mean batch inertia: 0.000675688613197207, ewa inertia: 0.0006999989285749984\n",
      "Minibatch step 28/1206: mean batch inertia: 0.0006553462322380567, ewa inertia: 0.000692596795962215\n",
      "Minibatch step 29/1206: mean batch inertia: 0.0006643831095043043, ewa inertia: 0.0006879197783173888\n",
      "Minibatch step 30/1206: mean batch inertia: 0.0006516898041087911, ewa inertia: 0.0006819138907529261\n",
      "Minibatch step 31/1206: mean batch inertia: 0.0006158835195858309, ewa inertia: 0.0006709679545845477\n",
      "Minibatch step 32/1206: mean batch inertia: 0.0006517315884784237, ewa inertia: 0.0006677791184204081\n",
      "Minibatch step 33/1206: mean batch inertia: 0.0006327771905055711, ewa inertia: 0.0006619768056065599\n",
      "Minibatch step 34/1206: mean batch inertia: 0.0006222811347291555, ewa inertia: 0.0006553964052255674\n",
      "Minibatch step 35/1206: mean batch inertia: 0.0006311778817072984, ewa inertia: 0.000651381670674818\n",
      "Minibatch step 36/1206: mean batch inertia: 0.0006341821367346151, ewa inertia: 0.0006485304826940796\n",
      "Minibatch step 37/1206: mean batch inertia: 0.0006079901773637696, ewa inertia: 0.0006418100662168013\n",
      "Minibatch step 38/1206: mean batch inertia: 0.0006159222248705269, ewa inertia: 0.0006375186067882854\n",
      "Minibatch step 39/1206: mean batch inertia: 0.0006169459940461781, ewa inertia: 0.000634108259369186\n",
      "Minibatch step 40/1206: mean batch inertia: 0.0006019022880967863, ewa inertia: 0.0006287694357406435\n",
      "Minibatch step 41/1206: mean batch inertia: 0.0005918670588095872, ewa inertia: 0.0006226520831465378\n",
      "Minibatch step 42/1206: mean batch inertia: 0.0006387994956883695, ewa inertia: 0.0006253288596638179\n",
      "Minibatch step 43/1206: mean batch inertia: 0.0006140499336024682, ewa inertia: 0.0006234591381624352\n",
      "Minibatch step 44/1206: mean batch inertia: 0.0005800738070168651, ewa inertia: 0.0006162670982424775\n",
      "Minibatch step 45/1206: mean batch inertia: 0.0005867425684385352, ewa inertia: 0.0006113727804774368\n",
      "Minibatch step 46/1206: mean batch inertia: 0.0005999872664025702, ewa inertia: 0.0006094853897494293\n",
      "Minibatch step 47/1206: mean batch inertia: 0.0005881382112741938, ewa inertia: 0.0006059466416122486\n",
      "Minibatch step 48/1206: mean batch inertia: 0.0006332734500006634, ewa inertia: 0.0006104766403843008\n",
      "Minibatch step 49/1206: mean batch inertia: 0.0005999454321149722, ewa inertia: 0.0006087308689846481\n",
      "Minibatch step 50/1206: mean batch inertia: 0.0005789724800458088, ewa inertia: 0.0006037977841020261\n",
      "Minibatch step 51/1206: mean batch inertia: 0.0005886800194545495, ewa inertia: 0.0006012916935876916\n",
      "Minibatch step 52/1206: mean batch inertia: 0.0006138060824582364, ewa inertia: 0.0006033662192846107\n",
      "Minibatch step 53/1206: mean batch inertia: 0.0006055771241788849, ewa inertia: 0.000603732723719151\n",
      "Minibatch step 54/1206: mean batch inertia: 0.0006089298944544533, ewa inertia: 0.0006045942651298577\n",
      "Minibatch step 55/1206: mean batch inertia: 0.0005612527176626115, ewa inertia: 0.0005974094832843236\n",
      "Minibatch step 56/1206: mean batch inertia: 0.0005819642495032136, ewa inertia: 0.0005948491078073194\n",
      "Minibatch step 57/1206: mean batch inertia: 0.0005924459891387063, ewa inertia: 0.0005944507398580449\n",
      "Minibatch step 58/1206: mean batch inertia: 0.0005872767590536256, ewa inertia: 0.0005932615002010447\n",
      "Minibatch step 59/1206: mean batch inertia: 0.0006135330162548424, ewa inertia: 0.0005966219344503028\n",
      "Minibatch step 60/1206: mean batch inertia: 0.0005813067348619815, ewa inertia: 0.0005940831149020146\n",
      "Minibatch step 61/1206: mean batch inertia: 0.0005918906514258185, ewa inertia: 0.0005937196675241222\n",
      "Minibatch step 62/1206: mean batch inertia: 0.0005872616551998121, ewa inertia: 0.0005926491148462095\n",
      "Minibatch step 63/1206: mean batch inertia: 0.0005919694463534129, ewa inertia: 0.0005925364453608453\n",
      "Minibatch step 64/1206: mean batch inertia: 0.0006034027851946809, ewa inertia: 0.0005943377719337959\n",
      "Minibatch step 65/1206: mean batch inertia: 0.0005846011145761828, ewa inertia: 0.0005927237142199583\n",
      "Minibatch step 66/1206: mean batch inertia: 0.0005954375798326494, ewa inertia: 0.0005931735950738899\n",
      "Minibatch step 67/1206: mean batch inertia: 0.0005710276489331255, ewa inertia: 0.0005895024342344071\n",
      "Minibatch step 68/1206: mean batch inertia: 0.0005723753702267084, ewa inertia: 0.000586663259683872\n",
      "Minibatch step 69/1206: mean batch inertia: 0.0005547848402809746, ewa inertia: 0.0005813787347332263\n",
      "Minibatch step 70/1206: mean batch inertia: 0.0005949842436339478, ewa inertia: 0.0005836341367449572\n",
      "Minibatch step 71/1206: mean batch inertia: 0.0005736377091302977, ewa inertia: 0.0005819770165948223\n",
      "Minibatch step 72/1206: mean batch inertia: 0.0005452877672859771, ewa inertia: 0.0005758949944298391\n",
      "Minibatch step 73/1206: mean batch inertia: 0.0005714976814725835, ewa inertia: 0.0005751660464307327\n",
      "Minibatch step 74/1206: mean batch inertia: 0.0005846794432458589, ewa inertia: 0.0005767430939687408\n",
      "Minibatch step 75/1206: mean batch inertia: 0.0005872256051516545, ewa inertia: 0.0005784807927922431\n",
      "Minibatch step 76/1206: mean batch inertia: 0.0005731138641418336, ewa inertia: 0.0005775911104023174\n",
      "Minibatch step 77/1206: mean batch inertia: 0.0005889566434167751, ewa inertia: 0.0005794751888452665\n",
      "Minibatch step 78/1206: mean batch inertia: 0.0005999413336355633, ewa inertia: 0.0005828678869405185\n",
      "Minibatch step 79/1206: mean batch inertia: 0.0005552613098774103, ewa inertia: 0.0005782915105697797\n",
      "Minibatch step 80/1206: mean batch inertia: 0.0005664857239363905, ewa inertia: 0.0005763344507407571\n",
      "Minibatch step 81/1206: mean batch inertia: 0.0005625841143421326, ewa inertia: 0.0005740550404958533\n",
      "Minibatch step 82/1206: mean batch inertia: 0.0005764193381664782, ewa inertia: 0.0005744469730403519\n",
      "Minibatch step 83/1206: mean batch inertia: 0.000546191518046063, ewa inertia: 0.0005697630313736708\n",
      "Minibatch step 84/1206: mean batch inertia: 0.0006094107562829144, ewa inertia: 0.0005763354836923135\n",
      "Minibatch step 85/1206: mean batch inertia: 0.000577583868726346, ewa inertia: 0.0005765424300210188\n",
      "Minibatch step 86/1206: mean batch inertia: 0.0005570511248695872, ewa inertia: 0.0005733113322965177\n",
      "Minibatch step 87/1206: mean batch inertia: 0.0005529250451061163, ewa inertia: 0.0005699318722942156\n",
      "Minibatch step 88/1206: mean batch inertia: 0.0005886530039155388, ewa inertia: 0.0005730352974015536\n",
      "Minibatch step 89/1206: mean batch inertia: 0.0005684444972959712, ewa inertia: 0.0005722742747989345\n",
      "Minibatch step 90/1206: mean batch inertia: 0.0005689916482009257, ewa inertia: 0.0005717301097341116\n",
      "Minibatch step 91/1206: mean batch inertia: 0.0005477425130538296, ewa inertia: 0.0005677536562104636\n",
      "Minibatch step 92/1206: mean batch inertia: 0.0005630394764969654, ewa inertia: 0.0005669721808178804\n",
      "Minibatch step 93/1206: mean batch inertia: 0.0005748600390983318, ewa inertia: 0.00056827976082564\n",
      "Minibatch step 94/1206: mean batch inertia: 0.0005734136606033634, ewa inertia: 0.0005691308137315764\n",
      "Minibatch step 95/1206: mean batch inertia: 0.0005510331139573841, ewa inertia: 0.0005661307356914048\n",
      "Minibatch step 96/1206: mean batch inertia: 0.0005977923581965282, ewa inertia: 0.000571379321952587\n",
      "Minibatch step 97/1206: mean batch inertia: 0.0005609104075057229, ewa inertia: 0.0005696438770768099\n",
      "Minibatch step 98/1206: mean batch inertia: 0.0005437663600225769, ewa inertia: 0.0005653541291189352\n",
      "Minibatch step 99/1206: mean batch inertia: 0.0005657185274656242, ewa inertia: 0.0005654145358828564\n",
      "[MiniBatchKMeans] Reassigning 61 cluster centers.\n",
      "Minibatch step 100/1206: mean batch inertia: 0.0005484498640163254, ewa inertia: 0.0005626022812780985\n",
      "Minibatch step 101/1206: mean batch inertia: 0.0005591030245036284, ewa inertia: 0.0005620222051614099\n",
      "Minibatch step 102/1206: mean batch inertia: 0.0005643538528435944, ewa inertia: 0.0005624087252770057\n",
      "Minibatch step 103/1206: mean batch inertia: 0.0005606483983251823, ewa inertia: 0.000562116913704398\n",
      "Minibatch step 104/1206: mean batch inertia: 0.0005680736364703538, ewa inertia: 0.0005631043669931866\n",
      "Minibatch step 105/1206: mean batch inertia: 0.0005673441792802373, ewa inertia: 0.0005638072059116977\n",
      "Minibatch step 106/1206: mean batch inertia: 0.0005756646088027847, ewa inertia: 0.0005657728222314991\n",
      "Minibatch step 107/1206: mean batch inertia: 0.0005863339461411742, ewa inertia: 0.0005691812651326588\n",
      "Minibatch step 108/1206: mean batch inertia: 0.0005819250475194312, ewa inertia: 0.0005712938176760379\n",
      "Minibatch step 109/1206: mean batch inertia: 0.0005558680517760258, ewa inertia: 0.000568736669413724\n",
      "Minibatch step 110/1206: mean batch inertia: 0.0005668931791274744, ewa inertia: 0.0005684310717524713\n",
      "Minibatch step 111/1206: mean batch inertia: 0.0005561617103708448, ewa inertia: 0.0005663971645649712\n",
      "Converged (lack of improvement in inertia) at step 111/1206\n"
     ]
    }
   ],
   "source": [
    "clustering = MiniBatchKMeans(n_clusters=n_clusters, batch_size=8*1024, verbose=1).fit(X)"
   ]
  },
  {
   "cell_type": "code",
   "execution_count": 13,
   "id": "912fc5b2",
   "metadata": {},
   "outputs": [
    {
     "data": {
      "text/plain": [
       "array([ 1888,  4691, 14661, ...,  1331,  1331,  1331],\n",
       "      shape=(98834,), dtype=int32)"
      ]
     },
     "execution_count": 13,
     "metadata": {},
     "output_type": "execute_result"
    }
   ],
   "source": [
    "clustering.labels_"
   ]
  },
  {
   "cell_type": "code",
   "execution_count": 14,
   "id": "181e7056",
   "metadata": {},
   "outputs": [
    {
     "data": {
      "text/html": [
       "<div>\n",
       "<style scoped>\n",
       "    .dataframe tbody tr th:only-of-type {\n",
       "        vertical-align: middle;\n",
       "    }\n",
       "\n",
       "    .dataframe tbody tr th {\n",
       "        vertical-align: top;\n",
       "    }\n",
       "\n",
       "    .dataframe thead th {\n",
       "        text-align: right;\n",
       "    }\n",
       "</style>\n",
       "<table border=\"1\" class=\"dataframe\">\n",
       "  <thead>\n",
       "    <tr style=\"text-align: right;\">\n",
       "      <th></th>\n",
       "      <th>true_e</th>\n",
       "      <th>true_z</th>\n",
       "      <th>reco_e</th>\n",
       "      <th>psi</th>\n",
       "      <th>weight_honda2006</th>\n",
       "      <th>weight_astro_E2</th>\n",
       "      <th>fluxless_weight</th>\n",
       "      <th>particle_type</th>\n",
       "      <th>e_smearing</th>\n",
       "      <th>e_scaling</th>\n",
       "      <th>...</th>\n",
       "      <th>true_ra</th>\n",
       "      <th>reco_ra</th>\n",
       "      <th>toy_reco_energy_exists</th>\n",
       "      <th>toy_reco_energy_fit_status</th>\n",
       "      <th>toy_reco_dir_exists</th>\n",
       "      <th>toy_reco_dir_fit_status</th>\n",
       "      <th>MCPrimaryType</th>\n",
       "      <th>MCPrimaryEnergy</th>\n",
       "      <th>MCPrimaryZenith</th>\n",
       "      <th>powerlaw</th>\n",
       "    </tr>\n",
       "  </thead>\n",
       "  <tbody>\n",
       "    <tr>\n",
       "      <th>0</th>\n",
       "      <td>1.339611e+01</td>\n",
       "      <td>0.004097</td>\n",
       "      <td>6.840893e+02</td>\n",
       "      <td>0.944081</td>\n",
       "      <td>0.072395</td>\n",
       "      <td>1.289523e-07</td>\n",
       "      <td>4.628245e+03</td>\n",
       "      <td>2.0</td>\n",
       "      <td>1.027303</td>\n",
       "      <td>0.972158</td>\n",
       "      <td>...</td>\n",
       "      <td>1.428394</td>\n",
       "      <td>1.428394</td>\n",
       "      <td>1.0</td>\n",
       "      <td>0.0</td>\n",
       "      <td>1.0</td>\n",
       "      <td>0.0</td>\n",
       "      <td>14</td>\n",
       "      <td>1.339611e+01</td>\n",
       "      <td>1.566699</td>\n",
       "      <td>1.289523e-07</td>\n",
       "    </tr>\n",
       "    <tr>\n",
       "      <th>1</th>\n",
       "      <td>1.822483e+01</td>\n",
       "      <td>-0.227050</td>\n",
       "      <td>1.068202e+03</td>\n",
       "      <td>0.837968</td>\n",
       "      <td>0.074798</td>\n",
       "      <td>2.152531e-07</td>\n",
       "      <td>1.429903e+04</td>\n",
       "      <td>2.0</td>\n",
       "      <td>0.976962</td>\n",
       "      <td>1.036606</td>\n",
       "      <td>...</td>\n",
       "      <td>1.990251</td>\n",
       "      <td>1.990251</td>\n",
       "      <td>1.0</td>\n",
       "      <td>0.0</td>\n",
       "      <td>1.0</td>\n",
       "      <td>0.0</td>\n",
       "      <td>14</td>\n",
       "      <td>1.822483e+01</td>\n",
       "      <td>1.799844</td>\n",
       "      <td>2.152531e-07</td>\n",
       "    </tr>\n",
       "    <tr>\n",
       "      <th>2</th>\n",
       "      <td>1.585893e+01</td>\n",
       "      <td>-0.114260</td>\n",
       "      <td>5.069948e+02</td>\n",
       "      <td>1.175639</td>\n",
       "      <td>0.094377</td>\n",
       "      <td>2.387167e-07</td>\n",
       "      <td>1.200772e+04</td>\n",
       "      <td>2.0</td>\n",
       "      <td>0.909489</td>\n",
       "      <td>0.903218</td>\n",
       "      <td>...</td>\n",
       "      <td>5.009995</td>\n",
       "      <td>5.009995</td>\n",
       "      <td>1.0</td>\n",
       "      <td>0.0</td>\n",
       "      <td>1.0</td>\n",
       "      <td>0.0</td>\n",
       "      <td>14</td>\n",
       "      <td>1.585893e+01</td>\n",
       "      <td>1.685306</td>\n",
       "      <td>2.387167e-07</td>\n",
       "    </tr>\n",
       "    <tr>\n",
       "      <th>3</th>\n",
       "      <td>1.933383e+01</td>\n",
       "      <td>-0.045854</td>\n",
       "      <td>5.874768e+02</td>\n",
       "      <td>0.655226</td>\n",
       "      <td>0.098077</td>\n",
       "      <td>2.139109e-07</td>\n",
       "      <td>1.599185e+04</td>\n",
       "      <td>2.0</td>\n",
       "      <td>1.091051</td>\n",
       "      <td>1.039152</td>\n",
       "      <td>...</td>\n",
       "      <td>4.249033</td>\n",
       "      <td>4.249033</td>\n",
       "      <td>1.0</td>\n",
       "      <td>0.0</td>\n",
       "      <td>1.0</td>\n",
       "      <td>0.0</td>\n",
       "      <td>14</td>\n",
       "      <td>1.933383e+01</td>\n",
       "      <td>1.616666</td>\n",
       "      <td>2.139109e-07</td>\n",
       "    </tr>\n",
       "    <tr>\n",
       "      <th>4</th>\n",
       "      <td>1.849535e+01</td>\n",
       "      <td>0.061539</td>\n",
       "      <td>5.602834e+02</td>\n",
       "      <td>0.203665</td>\n",
       "      <td>0.085702</td>\n",
       "      <td>1.869204e-07</td>\n",
       "      <td>1.278826e+04</td>\n",
       "      <td>2.0</td>\n",
       "      <td>1.081210</td>\n",
       "      <td>1.097644</td>\n",
       "      <td>...</td>\n",
       "      <td>2.457414</td>\n",
       "      <td>2.457414</td>\n",
       "      <td>1.0</td>\n",
       "      <td>0.0</td>\n",
       "      <td>1.0</td>\n",
       "      <td>0.0</td>\n",
       "      <td>14</td>\n",
       "      <td>1.849535e+01</td>\n",
       "      <td>1.509219</td>\n",
       "      <td>1.869204e-07</td>\n",
       "    </tr>\n",
       "    <tr>\n",
       "      <th>...</th>\n",
       "      <td>...</td>\n",
       "      <td>...</td>\n",
       "      <td>...</td>\n",
       "      <td>...</td>\n",
       "      <td>...</td>\n",
       "      <td>...</td>\n",
       "      <td>...</td>\n",
       "      <td>...</td>\n",
       "      <td>...</td>\n",
       "      <td>...</td>\n",
       "      <td>...</td>\n",
       "      <td>...</td>\n",
       "      <td>...</td>\n",
       "      <td>...</td>\n",
       "      <td>...</td>\n",
       "      <td>...</td>\n",
       "      <td>...</td>\n",
       "      <td>...</td>\n",
       "      <td>...</td>\n",
       "      <td>...</td>\n",
       "      <td>...</td>\n",
       "    </tr>\n",
       "    <tr>\n",
       "      <th>98829</th>\n",
       "      <td>5.899108e+06</td>\n",
       "      <td>0.001921</td>\n",
       "      <td>1.122852e+03</td>\n",
       "      <td>0.094621</td>\n",
       "      <td>0.000040</td>\n",
       "      <td>3.991530e-02</td>\n",
       "      <td>2.778063e+20</td>\n",
       "      <td>3.0</td>\n",
       "      <td>1.062009</td>\n",
       "      <td>1.000970</td>\n",
       "      <td>...</td>\n",
       "      <td>3.768760</td>\n",
       "      <td>3.768760</td>\n",
       "      <td>1.0</td>\n",
       "      <td>0.0</td>\n",
       "      <td>1.0</td>\n",
       "      <td>0.0</td>\n",
       "      <td>-14</td>\n",
       "      <td>5.899108e+06</td>\n",
       "      <td>1.568876</td>\n",
       "      <td>3.991530e-02</td>\n",
       "    </tr>\n",
       "    <tr>\n",
       "      <th>98830</th>\n",
       "      <td>5.564366e+06</td>\n",
       "      <td>0.109474</td>\n",
       "      <td>6.466712e+06</td>\n",
       "      <td>0.014204</td>\n",
       "      <td>0.000023</td>\n",
       "      <td>3.525610e-02</td>\n",
       "      <td>2.183211e+20</td>\n",
       "      <td>3.0</td>\n",
       "      <td>1.001280</td>\n",
       "      <td>0.976855</td>\n",
       "      <td>...</td>\n",
       "      <td>6.109638</td>\n",
       "      <td>6.109638</td>\n",
       "      <td>1.0</td>\n",
       "      <td>0.0</td>\n",
       "      <td>1.0</td>\n",
       "      <td>0.0</td>\n",
       "      <td>-14</td>\n",
       "      <td>5.564366e+06</td>\n",
       "      <td>1.461103</td>\n",
       "      <td>3.525610e-02</td>\n",
       "    </tr>\n",
       "    <tr>\n",
       "      <th>98831</th>\n",
       "      <td>7.636087e+06</td>\n",
       "      <td>0.081971</td>\n",
       "      <td>3.263740e+04</td>\n",
       "      <td>0.021701</td>\n",
       "      <td>0.000020</td>\n",
       "      <td>3.402044e-02</td>\n",
       "      <td>3.967452e+20</td>\n",
       "      <td>3.0</td>\n",
       "      <td>1.070862</td>\n",
       "      <td>1.007546</td>\n",
       "      <td>...</td>\n",
       "      <td>2.411795</td>\n",
       "      <td>2.411795</td>\n",
       "      <td>1.0</td>\n",
       "      <td>0.0</td>\n",
       "      <td>1.0</td>\n",
       "      <td>0.0</td>\n",
       "      <td>-14</td>\n",
       "      <td>7.636087e+06</td>\n",
       "      <td>1.488733</td>\n",
       "      <td>3.402044e-02</td>\n",
       "    </tr>\n",
       "    <tr>\n",
       "      <th>98832</th>\n",
       "      <td>7.275487e+06</td>\n",
       "      <td>0.186662</td>\n",
       "      <td>1.644820e+04</td>\n",
       "      <td>0.079174</td>\n",
       "      <td>0.000013</td>\n",
       "      <td>3.352302e-02</td>\n",
       "      <td>3.548929e+20</td>\n",
       "      <td>3.0</td>\n",
       "      <td>0.972299</td>\n",
       "      <td>1.051710</td>\n",
       "      <td>...</td>\n",
       "      <td>2.743563</td>\n",
       "      <td>2.743563</td>\n",
       "      <td>1.0</td>\n",
       "      <td>0.0</td>\n",
       "      <td>1.0</td>\n",
       "      <td>0.0</td>\n",
       "      <td>-14</td>\n",
       "      <td>7.275487e+06</td>\n",
       "      <td>1.383033</td>\n",
       "      <td>3.352302e-02</td>\n",
       "    </tr>\n",
       "    <tr>\n",
       "      <th>98833</th>\n",
       "      <td>8.445158e+06</td>\n",
       "      <td>0.198353</td>\n",
       "      <td>1.599284e+04</td>\n",
       "      <td>0.233184</td>\n",
       "      <td>0.000007</td>\n",
       "      <td>3.138276e-02</td>\n",
       "      <td>4.476480e+20</td>\n",
       "      <td>3.0</td>\n",
       "      <td>0.974247</td>\n",
       "      <td>1.012223</td>\n",
       "      <td>...</td>\n",
       "      <td>2.722658</td>\n",
       "      <td>2.722658</td>\n",
       "      <td>1.0</td>\n",
       "      <td>0.0</td>\n",
       "      <td>1.0</td>\n",
       "      <td>0.0</td>\n",
       "      <td>-14</td>\n",
       "      <td>8.445158e+06</td>\n",
       "      <td>1.371119</td>\n",
       "      <td>3.138276e-02</td>\n",
       "    </tr>\n",
       "  </tbody>\n",
       "</table>\n",
       "<p>98834 rows × 22 columns</p>\n",
       "</div>"
      ],
      "text/plain": [
       "             true_e    true_z        reco_e       psi  weight_honda2006  \\\n",
       "0      1.339611e+01  0.004097  6.840893e+02  0.944081          0.072395   \n",
       "1      1.822483e+01 -0.227050  1.068202e+03  0.837968          0.074798   \n",
       "2      1.585893e+01 -0.114260  5.069948e+02  1.175639          0.094377   \n",
       "3      1.933383e+01 -0.045854  5.874768e+02  0.655226          0.098077   \n",
       "4      1.849535e+01  0.061539  5.602834e+02  0.203665          0.085702   \n",
       "...             ...       ...           ...       ...               ...   \n",
       "98829  5.899108e+06  0.001921  1.122852e+03  0.094621          0.000040   \n",
       "98830  5.564366e+06  0.109474  6.466712e+06  0.014204          0.000023   \n",
       "98831  7.636087e+06  0.081971  3.263740e+04  0.021701          0.000020   \n",
       "98832  7.275487e+06  0.186662  1.644820e+04  0.079174          0.000013   \n",
       "98833  8.445158e+06  0.198353  1.599284e+04  0.233184          0.000007   \n",
       "\n",
       "       weight_astro_E2  fluxless_weight  particle_type  e_smearing  e_scaling  \\\n",
       "0         1.289523e-07     4.628245e+03            2.0    1.027303   0.972158   \n",
       "1         2.152531e-07     1.429903e+04            2.0    0.976962   1.036606   \n",
       "2         2.387167e-07     1.200772e+04            2.0    0.909489   0.903218   \n",
       "3         2.139109e-07     1.599185e+04            2.0    1.091051   1.039152   \n",
       "4         1.869204e-07     1.278826e+04            2.0    1.081210   1.097644   \n",
       "...                ...              ...            ...         ...        ...   \n",
       "98829     3.991530e-02     2.778063e+20            3.0    1.062009   1.000970   \n",
       "98830     3.525610e-02     2.183211e+20            3.0    1.001280   0.976855   \n",
       "98831     3.402044e-02     3.967452e+20            3.0    1.070862   1.007546   \n",
       "98832     3.352302e-02     3.548929e+20            3.0    0.972299   1.051710   \n",
       "98833     3.138276e-02     4.476480e+20            3.0    0.974247   1.012223   \n",
       "\n",
       "       ...   true_ra   reco_ra  toy_reco_energy_exists  \\\n",
       "0      ...  1.428394  1.428394                     1.0   \n",
       "1      ...  1.990251  1.990251                     1.0   \n",
       "2      ...  5.009995  5.009995                     1.0   \n",
       "3      ...  4.249033  4.249033                     1.0   \n",
       "4      ...  2.457414  2.457414                     1.0   \n",
       "...    ...       ...       ...                     ...   \n",
       "98829  ...  3.768760  3.768760                     1.0   \n",
       "98830  ...  6.109638  6.109638                     1.0   \n",
       "98831  ...  2.411795  2.411795                     1.0   \n",
       "98832  ...  2.743563  2.743563                     1.0   \n",
       "98833  ...  2.722658  2.722658                     1.0   \n",
       "\n",
       "       toy_reco_energy_fit_status  toy_reco_dir_exists  \\\n",
       "0                             0.0                  1.0   \n",
       "1                             0.0                  1.0   \n",
       "2                             0.0                  1.0   \n",
       "3                             0.0                  1.0   \n",
       "4                             0.0                  1.0   \n",
       "...                           ...                  ...   \n",
       "98829                         0.0                  1.0   \n",
       "98830                         0.0                  1.0   \n",
       "98831                         0.0                  1.0   \n",
       "98832                         0.0                  1.0   \n",
       "98833                         0.0                  1.0   \n",
       "\n",
       "       toy_reco_dir_fit_status  MCPrimaryType  MCPrimaryEnergy  \\\n",
       "0                          0.0             14     1.339611e+01   \n",
       "1                          0.0             14     1.822483e+01   \n",
       "2                          0.0             14     1.585893e+01   \n",
       "3                          0.0             14     1.933383e+01   \n",
       "4                          0.0             14     1.849535e+01   \n",
       "...                        ...            ...              ...   \n",
       "98829                      0.0            -14     5.899108e+06   \n",
       "98830                      0.0            -14     5.564366e+06   \n",
       "98831                      0.0            -14     7.636087e+06   \n",
       "98832                      0.0            -14     7.275487e+06   \n",
       "98833                      0.0            -14     8.445158e+06   \n",
       "\n",
       "       MCPrimaryZenith      powerlaw  \n",
       "0             1.566699  1.289523e-07  \n",
       "1             1.799844  2.152531e-07  \n",
       "2             1.685306  2.387167e-07  \n",
       "3             1.616666  2.139109e-07  \n",
       "4             1.509219  1.869204e-07  \n",
       "...                ...           ...  \n",
       "98829         1.568876  3.991530e-02  \n",
       "98830         1.461103  3.525610e-02  \n",
       "98831         1.488733  3.402044e-02  \n",
       "98832         1.383033  3.352302e-02  \n",
       "98833         1.371119  3.138276e-02  \n",
       "\n",
       "[98834 rows x 22 columns]"
      ]
     },
     "execution_count": 14,
     "metadata": {},
     "output_type": "execute_result"
    }
   ],
   "source": [
    "data"
   ]
  },
  {
   "cell_type": "code",
   "execution_count": 15,
   "id": "020b94e7",
   "metadata": {},
   "outputs": [],
   "source": [
    "new_weights = np.bincount(clustering.labels_, weights=data[\"weight_honda2006\"])\n"
   ]
  },
  {
   "cell_type": "code",
   "execution_count": 19,
   "id": "af239450",
   "metadata": {},
   "outputs": [
    {
     "data": {
      "text/plain": [
       "array([ 0.00871889, -0.32630942,  0.08440057, ...,  0.21355658,\n",
       "        0.18909448, -0.2209849 ], shape=(24709,))"
      ]
     },
     "execution_count": 19,
     "metadata": {},
     "output_type": "execute_result"
    }
   ],
   "source": [
    "clustering.cluster_centers_[:, 1]"
   ]
  },
  {
   "cell_type": "code",
   "execution_count": 18,
   "id": "77f3700e",
   "metadata": {},
   "outputs": [
    {
     "data": {
      "text/plain": [
       "array([0.23912986, 0.18486849, 0.15258747, ..., 0.02966656, 0.06236364,\n",
       "       0.09247022], shape=(24709,))"
      ]
     },
     "execution_count": 18,
     "metadata": {},
     "output_type": "execute_result"
    }
   ],
   "source": [
    "new_weights"
   ]
  },
  {
   "cell_type": "code",
   "execution_count": 20,
   "id": "753ae9ea",
   "metadata": {},
   "outputs": [
    {
     "data": {
      "text/plain": [
       "[]"
      ]
     },
     "execution_count": 20,
     "metadata": {},
     "output_type": "execute_result"
    },
    {
     "data": {
      "image/png": "[encoded data removed]",
      "text/plain": [
       "<Figure size 640x480 with 1 Axes>"
      ]
     },
     "metadata": {},
     "output_type": "display_data"
    }
   ],
   "source": [
    "sns.histplot(x=clustering.cluster_centers_[:, 1], bins=100, weights=new_weights)\n",
    "sns.histplot(x=np.cos(np.asarray(data.reco_zenith)), bins=100, weights=np.asarray(data[\"weight_honda2006\"]))\n",
    "plt.semilogy()\n",
    "\n"
   ]
  },
  {
   "cell_type": "code",
   "execution_count": 78,
   "id": "a005eda6",
   "metadata": {},
   "outputs": [],
   "source": [
    "hdb = HDBSCAN(min_cluster_size=5)\n",
    "hdb.fit(X)\n",
    "\n",
    "max_label = np.max(hdb.labels_)\n",
    "# relabel noise points so that each noise point is in its own cluster\n",
    "\n",
    "n_noise = np.sum(hdb.labels_ == -1)\n",
    "\n",
    "cluster_labels = np.array(hdb.labels_, copy=True)\n",
    "cluster_labels[cluster_labels == -1] = np.arange(max_label + 1, max_label + 1 + n_noise)\n",
    "\n",
    "unique_labels = np.unique(cluster_labels)"
   ]
  },
  {
   "cell_type": "code",
   "execution_count": 79,
   "id": "2dda2532",
   "metadata": {},
   "outputs": [
    {
     "data": {
      "text/plain": [
       "0.6833883076674019"
      ]
     },
     "execution_count": 79,
     "metadata": {},
     "output_type": "execute_result"
    }
   ],
   "source": [
    "compression_rate = len(unique_labels) / X.shape[0]\n",
    "compression_rate"
   ]
  },
  {
   "cell_type": "code",
   "execution_count": 80,
   "id": "6174c085",
   "metadata": {},
   "outputs": [],
   "source": [
    "compressed = np.zeros((unique_labels.shape[0], X.shape[1]))\n",
    "compressed_weights = np.zeros((unique_labels.shape[0]))\n",
    "for label in unique_labels:\n",
    "    compressed[label] = np.average(X[cluster_labels == label], axis=0, weights=data[\"weight_honda2006\"][cluster_labels == label])\n",
    "    compressed_weights[label] = np.sum(data[\"weight_honda2006\"][cluster_labels == label])\n"
   ]
  },
  {
   "cell_type": "code",
   "execution_count": 81,
   "id": "463c9ef7",
   "metadata": {},
   "outputs": [
    {
     "data": {
      "text/plain": [
       "[]"
      ]
     },
     "execution_count": 81,
     "metadata": {},
     "output_type": "execute_result"
    },
    {
     "data": {
      "image/png": "[encoded data removed]",
      "text/plain": [
       "<Figure size 640x480 with 1 Axes>"
      ]
     },
     "metadata": {},
     "output_type": "display_data"
    }
   ],
   "source": [
    "sns.histplot(x=compressed[:, 2], weights=compressed_weights, bins=50)\n",
    "sns.histplot(x=X[:, 2], weights=data[\"weight_honda2006\"], bins=50)\n",
    "plt.semilogy()"
   ]
  },
  {
   "cell_type": "code",
   "execution_count": 53,
   "id": "e42de1d2",
   "metadata": {},
   "outputs": [
    {
     "data": {
      "text/plain": [
       "np.float64(4560.358402773817)"
      ]
     },
     "execution_count": 53,
     "metadata": {},
     "output_type": "execute_result"
    }
   ],
   "source": [
    "np.sum(compressed_weights)"
   ]
  },
  {
   "cell_type": "code",
   "execution_count": 54,
   "id": "54d722ae",
   "metadata": {},
   "outputs": [
    {
     "data": {
      "text/plain": [
       "np.float64(4560.358402773817)"
      ]
     },
     "execution_count": 54,
     "metadata": {},
     "output_type": "execute_result"
    }
   ],
   "source": [
    "np.sum(data[\"weight_honda2006\"])"
   ]
  },
  {
   "cell_type": "code",
   "execution_count": null,
   "id": "512b4b17",
   "metadata": {},
   "outputs": [],
   "source": []
  }
 ],
 "metadata": {
  "kernelspec": {
   "display_name": ".venv",
   "language": "python",
   "name": "python3"
  },
  "language_info": {
   "codemirror_mode": {
    "name": "ipython",
    "version": 3
   },
   "file_extension": ".py",
   "mimetype": "text/x-python",
   "name": "python",
   "nbconvert_exporter": "python",
   "pygments_lexer": "ipython3",
   "version": "3.12.8"
  }
 },
 "nbformat": 4,
 "nbformat_minor": 5
}
